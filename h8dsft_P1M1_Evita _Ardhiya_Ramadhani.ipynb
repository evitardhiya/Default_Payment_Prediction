{
 "cells": [
  {
   "cell_type": "markdown",
   "metadata": {},
   "source": [
    "# Milestone 1 - Phase 1"
   ]
  },
  {
   "cell_type": "markdown",
   "metadata": {},
   "source": [
    "# 1. Perkenalan"
   ]
  },
  {
   "cell_type": "markdown",
   "metadata": {},
   "source": [
    "Nama : `Evita Ardhiya Ramadhani`, Batch: `11`\n",
    "Query dataset:\n",
    "\n",
    "> SELECT limit_balance, sex, education_level, marital_status, age, pay_0, pay_2, pay_3, pay_4, pay_5, pay_6,\n",
    "bill_amt_1, bill_amt_2, bill_amt_3, bill_amt_4, bill_amt_5, bill_amt_6, pay_amt_1, pay_amt_2, pay_amt_3, \n",
    "pay_amt_4, pay_amt_5, pay_amt_6, default_payment_next_month \n",
    "FROM `bigquery-public-data.ml_datasets.credit_card_default` \n",
    "LIMIT 21989\n",
    "\n",
    "Problem: Membuat model Classification untuk memprediksi klasifikasi default_payment_next_month menggunakan dataset credit card default.\n",
    "\n",
    "Assignment Objectives:\n",
    "- Mampu memperoleh data menggunakan BigQuery\n",
    "- Mampu memahami konsep supervised learning\n",
    "- Mampu mempersiapkan data untuk digunakan dalam model supervised learning\n",
    "- Mampu mengimplementasikan supervised learning dengan data yang diberikan\n",
    "- Mampu melakukan evaluasi model\n",
    "- Mampu melakukan model tuning"
   ]
  },
  {
   "cell_type": "markdown",
   "metadata": {},
   "source": [
    "# 2. Import Library"
   ]
  },
  {
   "cell_type": "markdown",
   "metadata": {},
   "source": [
    "Import library yang dibutuhkan dalam pengerjaan assigment seperti untuk load data, visualisasi, pembuatan model, evaluasi model dan sebagainya."
   ]
  },
  {
   "cell_type": "code",
   "execution_count": 1,
   "metadata": {},
   "outputs": [],
   "source": [
    "# Import Libraries load data \n",
    "import pandas as pd \n",
    "import numpy as np \n",
    "\n",
    "# library untuk plot\n",
    "import matplotlib.pyplot as plt\n",
    "import seaborn as sns\n",
    "\n",
    "# Split data train-set dan test-set\n",
    "from sklearn.model_selection import train_test_split \n",
    "\n",
    "# handling outliers\n",
    "from feature_engine.outliers import Winsorizer\n",
    "\n",
    "# Feature Scaling\n",
    "from sklearn.preprocessing import MinMaxScaler\n",
    "\n",
    "# Hyperparameter\n",
    "from sklearn.model_selection import cross_val_score, KFold, GridSearchCV\n",
    "\n",
    "# model definition\n",
    "from sklearn.linear_model import LogisticRegression\n",
    "from sklearn.svm import SVC\n",
    "from sklearn.ensemble import RandomForestClassifier\n",
    "from sklearn.tree import DecisionTreeClassifier\n",
    "from sklearn.neighbors import KNeighborsClassifier\n",
    "from sklearn.naive_bayes import GaussianNB\n",
    "from sklearn.ensemble import AdaBoostClassifier\n",
    "\n",
    "# metrics\n",
    "from sklearn.metrics import classification_report, confusion_matrix"
   ]
  },
  {
   "cell_type": "markdown",
   "metadata": {},
   "source": [
    "# 3. Data Loading"
   ]
  },
  {
   "cell_type": "markdown",
   "metadata": {},
   "source": [
    "Data loading berfungsi untuk load data yang akan digunakan dan diproses pada assigment. Data load menggunakan pandas berupa cek info, describe dan persiapan data lainnya."
   ]
  },
  {
   "cell_type": "markdown",
   "metadata": {},
   "source": [
    "Pertama, load data credit_card_default"
   ]
  },
  {
   "cell_type": "code",
   "execution_count": 2,
   "metadata": {},
   "outputs": [
    {
     "data": {
      "text/html": [
       "<div>\n",
       "<style scoped>\n",
       "    .dataframe tbody tr th:only-of-type {\n",
       "        vertical-align: middle;\n",
       "    }\n",
       "\n",
       "    .dataframe tbody tr th {\n",
       "        vertical-align: top;\n",
       "    }\n",
       "\n",
       "    .dataframe thead th {\n",
       "        text-align: right;\n",
       "    }\n",
       "</style>\n",
       "<table border=\"1\" class=\"dataframe\">\n",
       "  <thead>\n",
       "    <tr style=\"text-align: right;\">\n",
       "      <th></th>\n",
       "      <th>limit_balance</th>\n",
       "      <th>sex</th>\n",
       "      <th>education_level</th>\n",
       "      <th>marital_status</th>\n",
       "      <th>age</th>\n",
       "      <th>pay_0</th>\n",
       "      <th>pay_2</th>\n",
       "      <th>pay_3</th>\n",
       "      <th>pay_4</th>\n",
       "      <th>pay_5</th>\n",
       "      <th>...</th>\n",
       "      <th>bill_amt_4</th>\n",
       "      <th>bill_amt_5</th>\n",
       "      <th>bill_amt_6</th>\n",
       "      <th>pay_amt_1</th>\n",
       "      <th>pay_amt_2</th>\n",
       "      <th>pay_amt_3</th>\n",
       "      <th>pay_amt_4</th>\n",
       "      <th>pay_amt_5</th>\n",
       "      <th>pay_amt_6</th>\n",
       "      <th>default_payment_next_month</th>\n",
       "    </tr>\n",
       "  </thead>\n",
       "  <tbody>\n",
       "    <tr>\n",
       "      <th>0</th>\n",
       "      <td>50000.0</td>\n",
       "      <td>1</td>\n",
       "      <td>1</td>\n",
       "      <td>2</td>\n",
       "      <td>39.0</td>\n",
       "      <td>0.0</td>\n",
       "      <td>0.0</td>\n",
       "      <td>0.0</td>\n",
       "      <td>0.0</td>\n",
       "      <td>0</td>\n",
       "      <td>...</td>\n",
       "      <td>50803.0</td>\n",
       "      <td>30789.0</td>\n",
       "      <td>15874.0</td>\n",
       "      <td>1800.0</td>\n",
       "      <td>2000.0</td>\n",
       "      <td>3000.0</td>\n",
       "      <td>2000.0</td>\n",
       "      <td>2000.0</td>\n",
       "      <td>2000.0</td>\n",
       "      <td>0</td>\n",
       "    </tr>\n",
       "    <tr>\n",
       "      <th>1</th>\n",
       "      <td>110000.0</td>\n",
       "      <td>2</td>\n",
       "      <td>1</td>\n",
       "      <td>2</td>\n",
       "      <td>29.0</td>\n",
       "      <td>0.0</td>\n",
       "      <td>0.0</td>\n",
       "      <td>0.0</td>\n",
       "      <td>0.0</td>\n",
       "      <td>0</td>\n",
       "      <td>...</td>\n",
       "      <td>32489.0</td>\n",
       "      <td>26354.0</td>\n",
       "      <td>20221.0</td>\n",
       "      <td>2000.0</td>\n",
       "      <td>2010.0</td>\n",
       "      <td>3000.0</td>\n",
       "      <td>3000.0</td>\n",
       "      <td>3000.0</td>\n",
       "      <td>1000.0</td>\n",
       "      <td>0</td>\n",
       "    </tr>\n",
       "    <tr>\n",
       "      <th>2</th>\n",
       "      <td>270000.0</td>\n",
       "      <td>1</td>\n",
       "      <td>1</td>\n",
       "      <td>2</td>\n",
       "      <td>36.0</td>\n",
       "      <td>0.0</td>\n",
       "      <td>0.0</td>\n",
       "      <td>0.0</td>\n",
       "      <td>2.0</td>\n",
       "      <td>0</td>\n",
       "      <td>...</td>\n",
       "      <td>40335.0</td>\n",
       "      <td>37165.0</td>\n",
       "      <td>22156.0</td>\n",
       "      <td>10076.0</td>\n",
       "      <td>4018.0</td>\n",
       "      <td>14.0</td>\n",
       "      <td>2051.0</td>\n",
       "      <td>2000.0</td>\n",
       "      <td>0.0</td>\n",
       "      <td>0</td>\n",
       "    </tr>\n",
       "    <tr>\n",
       "      <th>3</th>\n",
       "      <td>130000.0</td>\n",
       "      <td>1</td>\n",
       "      <td>1</td>\n",
       "      <td>1</td>\n",
       "      <td>45.0</td>\n",
       "      <td>0.0</td>\n",
       "      <td>0.0</td>\n",
       "      <td>0.0</td>\n",
       "      <td>0.0</td>\n",
       "      <td>0</td>\n",
       "      <td>...</td>\n",
       "      <td>62377.0</td>\n",
       "      <td>63832.0</td>\n",
       "      <td>65099.0</td>\n",
       "      <td>2886.0</td>\n",
       "      <td>2908.0</td>\n",
       "      <td>2129.0</td>\n",
       "      <td>2354.0</td>\n",
       "      <td>2366.0</td>\n",
       "      <td>2291.0</td>\n",
       "      <td>0</td>\n",
       "    </tr>\n",
       "    <tr>\n",
       "      <th>4</th>\n",
       "      <td>50000.0</td>\n",
       "      <td>1</td>\n",
       "      <td>1</td>\n",
       "      <td>2</td>\n",
       "      <td>24.0</td>\n",
       "      <td>0.0</td>\n",
       "      <td>0.0</td>\n",
       "      <td>0.0</td>\n",
       "      <td>0.0</td>\n",
       "      <td>0</td>\n",
       "      <td>...</td>\n",
       "      <td>19837.0</td>\n",
       "      <td>19855.0</td>\n",
       "      <td>20151.0</td>\n",
       "      <td>1367.0</td>\n",
       "      <td>1606.0</td>\n",
       "      <td>692.0</td>\n",
       "      <td>709.0</td>\n",
       "      <td>721.0</td>\n",
       "      <td>692.0</td>\n",
       "      <td>0</td>\n",
       "    </tr>\n",
       "    <tr>\n",
       "      <th>...</th>\n",
       "      <td>...</td>\n",
       "      <td>...</td>\n",
       "      <td>...</td>\n",
       "      <td>...</td>\n",
       "      <td>...</td>\n",
       "      <td>...</td>\n",
       "      <td>...</td>\n",
       "      <td>...</td>\n",
       "      <td>...</td>\n",
       "      <td>...</td>\n",
       "      <td>...</td>\n",
       "      <td>...</td>\n",
       "      <td>...</td>\n",
       "      <td>...</td>\n",
       "      <td>...</td>\n",
       "      <td>...</td>\n",
       "      <td>...</td>\n",
       "      <td>...</td>\n",
       "      <td>...</td>\n",
       "      <td>...</td>\n",
       "      <td>...</td>\n",
       "    </tr>\n",
       "    <tr>\n",
       "      <th>2960</th>\n",
       "      <td>210000.0</td>\n",
       "      <td>2</td>\n",
       "      <td>2</td>\n",
       "      <td>1</td>\n",
       "      <td>39.0</td>\n",
       "      <td>-1.0</td>\n",
       "      <td>-1.0</td>\n",
       "      <td>-1.0</td>\n",
       "      <td>-1.0</td>\n",
       "      <td>-2</td>\n",
       "      <td>...</td>\n",
       "      <td>0.0</td>\n",
       "      <td>0.0</td>\n",
       "      <td>12000.0</td>\n",
       "      <td>0.0</td>\n",
       "      <td>28428.0</td>\n",
       "      <td>0.0</td>\n",
       "      <td>0.0</td>\n",
       "      <td>12000.0</td>\n",
       "      <td>33664.0</td>\n",
       "      <td>0</td>\n",
       "    </tr>\n",
       "    <tr>\n",
       "      <th>2961</th>\n",
       "      <td>280000.0</td>\n",
       "      <td>2</td>\n",
       "      <td>1</td>\n",
       "      <td>1</td>\n",
       "      <td>41.0</td>\n",
       "      <td>2.0</td>\n",
       "      <td>-1.0</td>\n",
       "      <td>-1.0</td>\n",
       "      <td>-1.0</td>\n",
       "      <td>-2</td>\n",
       "      <td>...</td>\n",
       "      <td>0.0</td>\n",
       "      <td>0.0</td>\n",
       "      <td>244.0</td>\n",
       "      <td>6859.0</td>\n",
       "      <td>486.0</td>\n",
       "      <td>0.0</td>\n",
       "      <td>0.0</td>\n",
       "      <td>244.0</td>\n",
       "      <td>0.0</td>\n",
       "      <td>0</td>\n",
       "    </tr>\n",
       "    <tr>\n",
       "      <th>2962</th>\n",
       "      <td>80000.0</td>\n",
       "      <td>1</td>\n",
       "      <td>1</td>\n",
       "      <td>2</td>\n",
       "      <td>28.0</td>\n",
       "      <td>1.0</td>\n",
       "      <td>-1.0</td>\n",
       "      <td>-1.0</td>\n",
       "      <td>-1.0</td>\n",
       "      <td>-2</td>\n",
       "      <td>...</td>\n",
       "      <td>0.0</td>\n",
       "      <td>0.0</td>\n",
       "      <td>0.0</td>\n",
       "      <td>47.0</td>\n",
       "      <td>207.0</td>\n",
       "      <td>0.0</td>\n",
       "      <td>0.0</td>\n",
       "      <td>0.0</td>\n",
       "      <td>0.0</td>\n",
       "      <td>0</td>\n",
       "    </tr>\n",
       "    <tr>\n",
       "      <th>2963</th>\n",
       "      <td>200000.0</td>\n",
       "      <td>1</td>\n",
       "      <td>2</td>\n",
       "      <td>1</td>\n",
       "      <td>53.0</td>\n",
       "      <td>1.0</td>\n",
       "      <td>-1.0</td>\n",
       "      <td>-1.0</td>\n",
       "      <td>-2.0</td>\n",
       "      <td>-2</td>\n",
       "      <td>...</td>\n",
       "      <td>0.0</td>\n",
       "      <td>0.0</td>\n",
       "      <td>6753.0</td>\n",
       "      <td>2920.0</td>\n",
       "      <td>0.0</td>\n",
       "      <td>0.0</td>\n",
       "      <td>0.0</td>\n",
       "      <td>6753.0</td>\n",
       "      <td>0.0</td>\n",
       "      <td>1</td>\n",
       "    </tr>\n",
       "    <tr>\n",
       "      <th>2964</th>\n",
       "      <td>20000.0</td>\n",
       "      <td>2</td>\n",
       "      <td>1</td>\n",
       "      <td>2</td>\n",
       "      <td>24.0</td>\n",
       "      <td>-1.0</td>\n",
       "      <td>-1.0</td>\n",
       "      <td>-2.0</td>\n",
       "      <td>-2.0</td>\n",
       "      <td>-2</td>\n",
       "      <td>...</td>\n",
       "      <td>0.0</td>\n",
       "      <td>0.0</td>\n",
       "      <td>0.0</td>\n",
       "      <td>0.0</td>\n",
       "      <td>0.0</td>\n",
       "      <td>0.0</td>\n",
       "      <td>0.0</td>\n",
       "      <td>0.0</td>\n",
       "      <td>0.0</td>\n",
       "      <td>0</td>\n",
       "    </tr>\n",
       "  </tbody>\n",
       "</table>\n",
       "<p>2965 rows × 24 columns</p>\n",
       "</div>"
      ],
      "text/plain": [
       "      limit_balance  sex  education_level  marital_status   age  pay_0  pay_2  \\\n",
       "0           50000.0    1                1               2  39.0    0.0    0.0   \n",
       "1          110000.0    2                1               2  29.0    0.0    0.0   \n",
       "2          270000.0    1                1               2  36.0    0.0    0.0   \n",
       "3          130000.0    1                1               1  45.0    0.0    0.0   \n",
       "4           50000.0    1                1               2  24.0    0.0    0.0   \n",
       "...             ...  ...              ...             ...   ...    ...    ...   \n",
       "2960       210000.0    2                2               1  39.0   -1.0   -1.0   \n",
       "2961       280000.0    2                1               1  41.0    2.0   -1.0   \n",
       "2962        80000.0    1                1               2  28.0    1.0   -1.0   \n",
       "2963       200000.0    1                2               1  53.0    1.0   -1.0   \n",
       "2964        20000.0    2                1               2  24.0   -1.0   -1.0   \n",
       "\n",
       "      pay_3  pay_4  pay_5  ...  bill_amt_4  bill_amt_5  bill_amt_6  pay_amt_1  \\\n",
       "0       0.0    0.0      0  ...     50803.0     30789.0     15874.0     1800.0   \n",
       "1       0.0    0.0      0  ...     32489.0     26354.0     20221.0     2000.0   \n",
       "2       0.0    2.0      0  ...     40335.0     37165.0     22156.0    10076.0   \n",
       "3       0.0    0.0      0  ...     62377.0     63832.0     65099.0     2886.0   \n",
       "4       0.0    0.0      0  ...     19837.0     19855.0     20151.0     1367.0   \n",
       "...     ...    ...    ...  ...         ...         ...         ...        ...   \n",
       "2960   -1.0   -1.0     -2  ...         0.0         0.0     12000.0        0.0   \n",
       "2961   -1.0   -1.0     -2  ...         0.0         0.0       244.0     6859.0   \n",
       "2962   -1.0   -1.0     -2  ...         0.0         0.0         0.0       47.0   \n",
       "2963   -1.0   -2.0     -2  ...         0.0         0.0      6753.0     2920.0   \n",
       "2964   -2.0   -2.0     -2  ...         0.0         0.0         0.0        0.0   \n",
       "\n",
       "      pay_amt_2  pay_amt_3  pay_amt_4  pay_amt_5  pay_amt_6  \\\n",
       "0        2000.0     3000.0     2000.0     2000.0     2000.0   \n",
       "1        2010.0     3000.0     3000.0     3000.0     1000.0   \n",
       "2        4018.0       14.0     2051.0     2000.0        0.0   \n",
       "3        2908.0     2129.0     2354.0     2366.0     2291.0   \n",
       "4        1606.0      692.0      709.0      721.0      692.0   \n",
       "...         ...        ...        ...        ...        ...   \n",
       "2960    28428.0        0.0        0.0    12000.0    33664.0   \n",
       "2961      486.0        0.0        0.0      244.0        0.0   \n",
       "2962      207.0        0.0        0.0        0.0        0.0   \n",
       "2963        0.0        0.0        0.0     6753.0        0.0   \n",
       "2964        0.0        0.0        0.0        0.0        0.0   \n",
       "\n",
       "      default_payment_next_month  \n",
       "0                              0  \n",
       "1                              0  \n",
       "2                              0  \n",
       "3                              0  \n",
       "4                              0  \n",
       "...                          ...  \n",
       "2960                           0  \n",
       "2961                           0  \n",
       "2962                           0  \n",
       "2963                           1  \n",
       "2964                           0  \n",
       "\n",
       "[2965 rows x 24 columns]"
      ]
     },
     "execution_count": 2,
     "metadata": {},
     "output_type": "execute_result"
    }
   ],
   "source": [
    "# Load data\n",
    "data = pd.read_csv('h8dsft_P1M1_Evita_Ardhiya_Ramadhani.csv')\n",
    "data"
   ]
  },
  {
   "cell_type": "markdown",
   "metadata": {},
   "source": [
    "Pada dataset, tipe data yang ditampilkan adalah numerik dalam artian angka tetapi sebenarnya angka-angka tersebut mewakili kategori dari data.\n",
    "Berikut adalah penjelasan angka yang mewakiliki kategori tiap kolom:\n",
    "- limit_balance (jumlah limit yang diberikan): dalam range dollar\n",
    "- sex (gender): 1 = male, 2 = female\n",
    "- education_level (pendidikan): 1=graduate school, 2=university, 3=high school, 4=others, 5=unknown, 6=unknown\n",
    "- marital_status (status pernikahan): 1=married, 2=single, 3=others\n",
    "- age (usia): usia dalam range tahun\n",
    "- Pay 0,2,3,4,5,6 (Status pembayaran dari bulan September-April 2005 berurut-turut): -1=pay duly, 1=payment delay for one month, 2=payment delay for two months, … 8=payment delay for eight months, 9=payment delay for nine months and above\n",
    "- bill_amt 1,2,3,4,5,6 (Jumlah tagihan pada bulan September-April 2005 berurut-turut): tagihan dalam range dollar\n",
    "- pay_amt 1,2,3,4,5,6 (Jumlah pembayaran sebelumnya bulan September-April 2005 berurut-turut): pembayaran sebelumnya dalam range dollar\n",
    "- default_payment_next_month (Default payment): 1=yes, 0=No"
   ]
  },
  {
   "cell_type": "markdown",
   "metadata": {},
   "source": [
    "Sebelum dataset yang asli digunakan sebaiknya dilakukan duplicate dataset untuk tetap menyimpan dataset yang asli jika sewaktu-waktu dibutuhkan."
   ]
  },
  {
   "cell_type": "code",
   "execution_count": 3,
   "metadata": {},
   "outputs": [],
   "source": [
    "# Duplicate dataset\n",
    "data_copy = data.copy()"
   ]
  },
  {
   "cell_type": "markdown",
   "metadata": {},
   "source": [
    "Menampilkan head dan tail dari data set."
   ]
  },
  {
   "cell_type": "code",
   "execution_count": 4,
   "metadata": {},
   "outputs": [
    {
     "data": {
      "text/html": [
       "<div>\n",
       "<style scoped>\n",
       "    .dataframe tbody tr th:only-of-type {\n",
       "        vertical-align: middle;\n",
       "    }\n",
       "\n",
       "    .dataframe tbody tr th {\n",
       "        vertical-align: top;\n",
       "    }\n",
       "\n",
       "    .dataframe thead th {\n",
       "        text-align: right;\n",
       "    }\n",
       "</style>\n",
       "<table border=\"1\" class=\"dataframe\">\n",
       "  <thead>\n",
       "    <tr style=\"text-align: right;\">\n",
       "      <th></th>\n",
       "      <th>limit_balance</th>\n",
       "      <th>sex</th>\n",
       "      <th>education_level</th>\n",
       "      <th>marital_status</th>\n",
       "      <th>age</th>\n",
       "      <th>pay_0</th>\n",
       "      <th>pay_2</th>\n",
       "      <th>pay_3</th>\n",
       "      <th>pay_4</th>\n",
       "      <th>pay_5</th>\n",
       "      <th>...</th>\n",
       "      <th>bill_amt_4</th>\n",
       "      <th>bill_amt_5</th>\n",
       "      <th>bill_amt_6</th>\n",
       "      <th>pay_amt_1</th>\n",
       "      <th>pay_amt_2</th>\n",
       "      <th>pay_amt_3</th>\n",
       "      <th>pay_amt_4</th>\n",
       "      <th>pay_amt_5</th>\n",
       "      <th>pay_amt_6</th>\n",
       "      <th>default_payment_next_month</th>\n",
       "    </tr>\n",
       "  </thead>\n",
       "  <tbody>\n",
       "    <tr>\n",
       "      <th>0</th>\n",
       "      <td>50000.0</td>\n",
       "      <td>1</td>\n",
       "      <td>1</td>\n",
       "      <td>2</td>\n",
       "      <td>39.0</td>\n",
       "      <td>0.0</td>\n",
       "      <td>0.0</td>\n",
       "      <td>0.0</td>\n",
       "      <td>0.0</td>\n",
       "      <td>0</td>\n",
       "      <td>...</td>\n",
       "      <td>50803.0</td>\n",
       "      <td>30789.0</td>\n",
       "      <td>15874.0</td>\n",
       "      <td>1800.0</td>\n",
       "      <td>2000.0</td>\n",
       "      <td>3000.0</td>\n",
       "      <td>2000.0</td>\n",
       "      <td>2000.0</td>\n",
       "      <td>2000.0</td>\n",
       "      <td>0</td>\n",
       "    </tr>\n",
       "    <tr>\n",
       "      <th>1</th>\n",
       "      <td>110000.0</td>\n",
       "      <td>2</td>\n",
       "      <td>1</td>\n",
       "      <td>2</td>\n",
       "      <td>29.0</td>\n",
       "      <td>0.0</td>\n",
       "      <td>0.0</td>\n",
       "      <td>0.0</td>\n",
       "      <td>0.0</td>\n",
       "      <td>0</td>\n",
       "      <td>...</td>\n",
       "      <td>32489.0</td>\n",
       "      <td>26354.0</td>\n",
       "      <td>20221.0</td>\n",
       "      <td>2000.0</td>\n",
       "      <td>2010.0</td>\n",
       "      <td>3000.0</td>\n",
       "      <td>3000.0</td>\n",
       "      <td>3000.0</td>\n",
       "      <td>1000.0</td>\n",
       "      <td>0</td>\n",
       "    </tr>\n",
       "    <tr>\n",
       "      <th>2</th>\n",
       "      <td>270000.0</td>\n",
       "      <td>1</td>\n",
       "      <td>1</td>\n",
       "      <td>2</td>\n",
       "      <td>36.0</td>\n",
       "      <td>0.0</td>\n",
       "      <td>0.0</td>\n",
       "      <td>0.0</td>\n",
       "      <td>2.0</td>\n",
       "      <td>0</td>\n",
       "      <td>...</td>\n",
       "      <td>40335.0</td>\n",
       "      <td>37165.0</td>\n",
       "      <td>22156.0</td>\n",
       "      <td>10076.0</td>\n",
       "      <td>4018.0</td>\n",
       "      <td>14.0</td>\n",
       "      <td>2051.0</td>\n",
       "      <td>2000.0</td>\n",
       "      <td>0.0</td>\n",
       "      <td>0</td>\n",
       "    </tr>\n",
       "    <tr>\n",
       "      <th>3</th>\n",
       "      <td>130000.0</td>\n",
       "      <td>1</td>\n",
       "      <td>1</td>\n",
       "      <td>1</td>\n",
       "      <td>45.0</td>\n",
       "      <td>0.0</td>\n",
       "      <td>0.0</td>\n",
       "      <td>0.0</td>\n",
       "      <td>0.0</td>\n",
       "      <td>0</td>\n",
       "      <td>...</td>\n",
       "      <td>62377.0</td>\n",
       "      <td>63832.0</td>\n",
       "      <td>65099.0</td>\n",
       "      <td>2886.0</td>\n",
       "      <td>2908.0</td>\n",
       "      <td>2129.0</td>\n",
       "      <td>2354.0</td>\n",
       "      <td>2366.0</td>\n",
       "      <td>2291.0</td>\n",
       "      <td>0</td>\n",
       "    </tr>\n",
       "    <tr>\n",
       "      <th>4</th>\n",
       "      <td>50000.0</td>\n",
       "      <td>1</td>\n",
       "      <td>1</td>\n",
       "      <td>2</td>\n",
       "      <td>24.0</td>\n",
       "      <td>0.0</td>\n",
       "      <td>0.0</td>\n",
       "      <td>0.0</td>\n",
       "      <td>0.0</td>\n",
       "      <td>0</td>\n",
       "      <td>...</td>\n",
       "      <td>19837.0</td>\n",
       "      <td>19855.0</td>\n",
       "      <td>20151.0</td>\n",
       "      <td>1367.0</td>\n",
       "      <td>1606.0</td>\n",
       "      <td>692.0</td>\n",
       "      <td>709.0</td>\n",
       "      <td>721.0</td>\n",
       "      <td>692.0</td>\n",
       "      <td>0</td>\n",
       "    </tr>\n",
       "    <tr>\n",
       "      <th>5</th>\n",
       "      <td>20000.0</td>\n",
       "      <td>1</td>\n",
       "      <td>1</td>\n",
       "      <td>2</td>\n",
       "      <td>29.0</td>\n",
       "      <td>0.0</td>\n",
       "      <td>0.0</td>\n",
       "      <td>2.0</td>\n",
       "      <td>0.0</td>\n",
       "      <td>0</td>\n",
       "      <td>...</td>\n",
       "      <td>17368.0</td>\n",
       "      <td>17959.0</td>\n",
       "      <td>19023.0</td>\n",
       "      <td>3170.0</td>\n",
       "      <td>0.0</td>\n",
       "      <td>1000.0</td>\n",
       "      <td>1000.0</td>\n",
       "      <td>3000.0</td>\n",
       "      <td>0.0</td>\n",
       "      <td>0</td>\n",
       "    </tr>\n",
       "    <tr>\n",
       "      <th>6</th>\n",
       "      <td>220000.0</td>\n",
       "      <td>1</td>\n",
       "      <td>1</td>\n",
       "      <td>2</td>\n",
       "      <td>38.0</td>\n",
       "      <td>0.0</td>\n",
       "      <td>0.0</td>\n",
       "      <td>0.0</td>\n",
       "      <td>0.0</td>\n",
       "      <td>0</td>\n",
       "      <td>...</td>\n",
       "      <td>198681.0</td>\n",
       "      <td>202479.0</td>\n",
       "      <td>206221.0</td>\n",
       "      <td>7705.0</td>\n",
       "      <td>9656.0</td>\n",
       "      <td>7189.0</td>\n",
       "      <td>7404.0</td>\n",
       "      <td>7490.0</td>\n",
       "      <td>7517.0</td>\n",
       "      <td>0</td>\n",
       "    </tr>\n",
       "    <tr>\n",
       "      <th>7</th>\n",
       "      <td>50000.0</td>\n",
       "      <td>1</td>\n",
       "      <td>1</td>\n",
       "      <td>1</td>\n",
       "      <td>42.0</td>\n",
       "      <td>0.0</td>\n",
       "      <td>0.0</td>\n",
       "      <td>0.0</td>\n",
       "      <td>0.0</td>\n",
       "      <td>0</td>\n",
       "      <td>...</td>\n",
       "      <td>29664.0</td>\n",
       "      <td>29057.0</td>\n",
       "      <td>29083.0</td>\n",
       "      <td>1850.0</td>\n",
       "      <td>1507.0</td>\n",
       "      <td>1100.0</td>\n",
       "      <td>1200.0</td>\n",
       "      <td>1116.0</td>\n",
       "      <td>2900.0</td>\n",
       "      <td>0</td>\n",
       "    </tr>\n",
       "    <tr>\n",
       "      <th>8</th>\n",
       "      <td>170000.0</td>\n",
       "      <td>1</td>\n",
       "      <td>1</td>\n",
       "      <td>1</td>\n",
       "      <td>41.0</td>\n",
       "      <td>0.0</td>\n",
       "      <td>0.0</td>\n",
       "      <td>0.0</td>\n",
       "      <td>0.0</td>\n",
       "      <td>0</td>\n",
       "      <td>...</td>\n",
       "      <td>76149.0</td>\n",
       "      <td>84474.0</td>\n",
       "      <td>92400.0</td>\n",
       "      <td>3200.0</td>\n",
       "      <td>6000.0</td>\n",
       "      <td>5000.0</td>\n",
       "      <td>10000.0</td>\n",
       "      <td>10000.0</td>\n",
       "      <td>780.0</td>\n",
       "      <td>0</td>\n",
       "    </tr>\n",
       "    <tr>\n",
       "      <th>9</th>\n",
       "      <td>50000.0</td>\n",
       "      <td>2</td>\n",
       "      <td>1</td>\n",
       "      <td>2</td>\n",
       "      <td>24.0</td>\n",
       "      <td>0.0</td>\n",
       "      <td>0.0</td>\n",
       "      <td>2.0</td>\n",
       "      <td>0.0</td>\n",
       "      <td>0</td>\n",
       "      <td>...</td>\n",
       "      <td>32140.0</td>\n",
       "      <td>32216.0</td>\n",
       "      <td>31482.0</td>\n",
       "      <td>5350.0</td>\n",
       "      <td>0.0</td>\n",
       "      <td>1085.0</td>\n",
       "      <td>2000.0</td>\n",
       "      <td>1226.0</td>\n",
       "      <td>2415.0</td>\n",
       "      <td>0</td>\n",
       "    </tr>\n",
       "  </tbody>\n",
       "</table>\n",
       "<p>10 rows × 24 columns</p>\n",
       "</div>"
      ],
      "text/plain": [
       "   limit_balance  sex  education_level  marital_status   age  pay_0  pay_2  \\\n",
       "0        50000.0    1                1               2  39.0    0.0    0.0   \n",
       "1       110000.0    2                1               2  29.0    0.0    0.0   \n",
       "2       270000.0    1                1               2  36.0    0.0    0.0   \n",
       "3       130000.0    1                1               1  45.0    0.0    0.0   \n",
       "4        50000.0    1                1               2  24.0    0.0    0.0   \n",
       "5        20000.0    1                1               2  29.0    0.0    0.0   \n",
       "6       220000.0    1                1               2  38.0    0.0    0.0   \n",
       "7        50000.0    1                1               1  42.0    0.0    0.0   \n",
       "8       170000.0    1                1               1  41.0    0.0    0.0   \n",
       "9        50000.0    2                1               2  24.0    0.0    0.0   \n",
       "\n",
       "   pay_3  pay_4  pay_5  ...  bill_amt_4  bill_amt_5  bill_amt_6  pay_amt_1  \\\n",
       "0    0.0    0.0      0  ...     50803.0     30789.0     15874.0     1800.0   \n",
       "1    0.0    0.0      0  ...     32489.0     26354.0     20221.0     2000.0   \n",
       "2    0.0    2.0      0  ...     40335.0     37165.0     22156.0    10076.0   \n",
       "3    0.0    0.0      0  ...     62377.0     63832.0     65099.0     2886.0   \n",
       "4    0.0    0.0      0  ...     19837.0     19855.0     20151.0     1367.0   \n",
       "5    2.0    0.0      0  ...     17368.0     17959.0     19023.0     3170.0   \n",
       "6    0.0    0.0      0  ...    198681.0    202479.0    206221.0     7705.0   \n",
       "7    0.0    0.0      0  ...     29664.0     29057.0     29083.0     1850.0   \n",
       "8    0.0    0.0      0  ...     76149.0     84474.0     92400.0     3200.0   \n",
       "9    2.0    0.0      0  ...     32140.0     32216.0     31482.0     5350.0   \n",
       "\n",
       "   pay_amt_2  pay_amt_3  pay_amt_4  pay_amt_5  pay_amt_6  \\\n",
       "0     2000.0     3000.0     2000.0     2000.0     2000.0   \n",
       "1     2010.0     3000.0     3000.0     3000.0     1000.0   \n",
       "2     4018.0       14.0     2051.0     2000.0        0.0   \n",
       "3     2908.0     2129.0     2354.0     2366.0     2291.0   \n",
       "4     1606.0      692.0      709.0      721.0      692.0   \n",
       "5        0.0     1000.0     1000.0     3000.0        0.0   \n",
       "6     9656.0     7189.0     7404.0     7490.0     7517.0   \n",
       "7     1507.0     1100.0     1200.0     1116.0     2900.0   \n",
       "8     6000.0     5000.0    10000.0    10000.0      780.0   \n",
       "9        0.0     1085.0     2000.0     1226.0     2415.0   \n",
       "\n",
       "   default_payment_next_month  \n",
       "0                           0  \n",
       "1                           0  \n",
       "2                           0  \n",
       "3                           0  \n",
       "4                           0  \n",
       "5                           0  \n",
       "6                           0  \n",
       "7                           0  \n",
       "8                           0  \n",
       "9                           0  \n",
       "\n",
       "[10 rows x 24 columns]"
      ]
     },
     "execution_count": 4,
     "metadata": {},
     "output_type": "execute_result"
    }
   ],
   "source": [
    "# 10 baris teratas (head) dari dataset\n",
    "data.head(10)"
   ]
  },
  {
   "cell_type": "code",
   "execution_count": 5,
   "metadata": {},
   "outputs": [
    {
     "data": {
      "text/html": [
       "<div>\n",
       "<style scoped>\n",
       "    .dataframe tbody tr th:only-of-type {\n",
       "        vertical-align: middle;\n",
       "    }\n",
       "\n",
       "    .dataframe tbody tr th {\n",
       "        vertical-align: top;\n",
       "    }\n",
       "\n",
       "    .dataframe thead th {\n",
       "        text-align: right;\n",
       "    }\n",
       "</style>\n",
       "<table border=\"1\" class=\"dataframe\">\n",
       "  <thead>\n",
       "    <tr style=\"text-align: right;\">\n",
       "      <th></th>\n",
       "      <th>limit_balance</th>\n",
       "      <th>sex</th>\n",
       "      <th>education_level</th>\n",
       "      <th>marital_status</th>\n",
       "      <th>age</th>\n",
       "      <th>pay_0</th>\n",
       "      <th>pay_2</th>\n",
       "      <th>pay_3</th>\n",
       "      <th>pay_4</th>\n",
       "      <th>pay_5</th>\n",
       "      <th>...</th>\n",
       "      <th>bill_amt_4</th>\n",
       "      <th>bill_amt_5</th>\n",
       "      <th>bill_amt_6</th>\n",
       "      <th>pay_amt_1</th>\n",
       "      <th>pay_amt_2</th>\n",
       "      <th>pay_amt_3</th>\n",
       "      <th>pay_amt_4</th>\n",
       "      <th>pay_amt_5</th>\n",
       "      <th>pay_amt_6</th>\n",
       "      <th>default_payment_next_month</th>\n",
       "    </tr>\n",
       "  </thead>\n",
       "  <tbody>\n",
       "    <tr>\n",
       "      <th>2955</th>\n",
       "      <td>160000.0</td>\n",
       "      <td>1</td>\n",
       "      <td>2</td>\n",
       "      <td>1</td>\n",
       "      <td>40.0</td>\n",
       "      <td>-1.0</td>\n",
       "      <td>-1.0</td>\n",
       "      <td>-1.0</td>\n",
       "      <td>-2.0</td>\n",
       "      <td>-2</td>\n",
       "      <td>...</td>\n",
       "      <td>0.0</td>\n",
       "      <td>0.0</td>\n",
       "      <td>0.0</td>\n",
       "      <td>2941.0</td>\n",
       "      <td>0.0</td>\n",
       "      <td>0.0</td>\n",
       "      <td>0.0</td>\n",
       "      <td>0.0</td>\n",
       "      <td>0.0</td>\n",
       "      <td>0</td>\n",
       "    </tr>\n",
       "    <tr>\n",
       "      <th>2956</th>\n",
       "      <td>260000.0</td>\n",
       "      <td>2</td>\n",
       "      <td>2</td>\n",
       "      <td>2</td>\n",
       "      <td>26.0</td>\n",
       "      <td>-1.0</td>\n",
       "      <td>-1.0</td>\n",
       "      <td>-2.0</td>\n",
       "      <td>-2.0</td>\n",
       "      <td>-2</td>\n",
       "      <td>...</td>\n",
       "      <td>-920.0</td>\n",
       "      <td>-1236.0</td>\n",
       "      <td>-1552.0</td>\n",
       "      <td>288.0</td>\n",
       "      <td>1236.0</td>\n",
       "      <td>316.0</td>\n",
       "      <td>316.0</td>\n",
       "      <td>316.0</td>\n",
       "      <td>316.0</td>\n",
       "      <td>0</td>\n",
       "    </tr>\n",
       "    <tr>\n",
       "      <th>2957</th>\n",
       "      <td>200000.0</td>\n",
       "      <td>2</td>\n",
       "      <td>1</td>\n",
       "      <td>1</td>\n",
       "      <td>49.0</td>\n",
       "      <td>-1.0</td>\n",
       "      <td>-1.0</td>\n",
       "      <td>-1.0</td>\n",
       "      <td>-1.0</td>\n",
       "      <td>-2</td>\n",
       "      <td>...</td>\n",
       "      <td>0.0</td>\n",
       "      <td>0.0</td>\n",
       "      <td>0.0</td>\n",
       "      <td>0.0</td>\n",
       "      <td>103.0</td>\n",
       "      <td>0.0</td>\n",
       "      <td>0.0</td>\n",
       "      <td>0.0</td>\n",
       "      <td>225.0</td>\n",
       "      <td>0</td>\n",
       "    </tr>\n",
       "    <tr>\n",
       "      <th>2958</th>\n",
       "      <td>90000.0</td>\n",
       "      <td>2</td>\n",
       "      <td>1</td>\n",
       "      <td>1</td>\n",
       "      <td>44.0</td>\n",
       "      <td>-1.0</td>\n",
       "      <td>-1.0</td>\n",
       "      <td>-2.0</td>\n",
       "      <td>-2.0</td>\n",
       "      <td>-2</td>\n",
       "      <td>...</td>\n",
       "      <td>0.0</td>\n",
       "      <td>0.0</td>\n",
       "      <td>0.0</td>\n",
       "      <td>0.0</td>\n",
       "      <td>0.0</td>\n",
       "      <td>0.0</td>\n",
       "      <td>0.0</td>\n",
       "      <td>0.0</td>\n",
       "      <td>0.0</td>\n",
       "      <td>0</td>\n",
       "    </tr>\n",
       "    <tr>\n",
       "      <th>2959</th>\n",
       "      <td>80000.0</td>\n",
       "      <td>2</td>\n",
       "      <td>2</td>\n",
       "      <td>2</td>\n",
       "      <td>45.0</td>\n",
       "      <td>1.0</td>\n",
       "      <td>-1.0</td>\n",
       "      <td>-1.0</td>\n",
       "      <td>-2.0</td>\n",
       "      <td>-2</td>\n",
       "      <td>...</td>\n",
       "      <td>0.0</td>\n",
       "      <td>0.0</td>\n",
       "      <td>0.0</td>\n",
       "      <td>83750.0</td>\n",
       "      <td>0.0</td>\n",
       "      <td>0.0</td>\n",
       "      <td>0.0</td>\n",
       "      <td>0.0</td>\n",
       "      <td>0.0</td>\n",
       "      <td>0</td>\n",
       "    </tr>\n",
       "    <tr>\n",
       "      <th>2960</th>\n",
       "      <td>210000.0</td>\n",
       "      <td>2</td>\n",
       "      <td>2</td>\n",
       "      <td>1</td>\n",
       "      <td>39.0</td>\n",
       "      <td>-1.0</td>\n",
       "      <td>-1.0</td>\n",
       "      <td>-1.0</td>\n",
       "      <td>-1.0</td>\n",
       "      <td>-2</td>\n",
       "      <td>...</td>\n",
       "      <td>0.0</td>\n",
       "      <td>0.0</td>\n",
       "      <td>12000.0</td>\n",
       "      <td>0.0</td>\n",
       "      <td>28428.0</td>\n",
       "      <td>0.0</td>\n",
       "      <td>0.0</td>\n",
       "      <td>12000.0</td>\n",
       "      <td>33664.0</td>\n",
       "      <td>0</td>\n",
       "    </tr>\n",
       "    <tr>\n",
       "      <th>2961</th>\n",
       "      <td>280000.0</td>\n",
       "      <td>2</td>\n",
       "      <td>1</td>\n",
       "      <td>1</td>\n",
       "      <td>41.0</td>\n",
       "      <td>2.0</td>\n",
       "      <td>-1.0</td>\n",
       "      <td>-1.0</td>\n",
       "      <td>-1.0</td>\n",
       "      <td>-2</td>\n",
       "      <td>...</td>\n",
       "      <td>0.0</td>\n",
       "      <td>0.0</td>\n",
       "      <td>244.0</td>\n",
       "      <td>6859.0</td>\n",
       "      <td>486.0</td>\n",
       "      <td>0.0</td>\n",
       "      <td>0.0</td>\n",
       "      <td>244.0</td>\n",
       "      <td>0.0</td>\n",
       "      <td>0</td>\n",
       "    </tr>\n",
       "    <tr>\n",
       "      <th>2962</th>\n",
       "      <td>80000.0</td>\n",
       "      <td>1</td>\n",
       "      <td>1</td>\n",
       "      <td>2</td>\n",
       "      <td>28.0</td>\n",
       "      <td>1.0</td>\n",
       "      <td>-1.0</td>\n",
       "      <td>-1.0</td>\n",
       "      <td>-1.0</td>\n",
       "      <td>-2</td>\n",
       "      <td>...</td>\n",
       "      <td>0.0</td>\n",
       "      <td>0.0</td>\n",
       "      <td>0.0</td>\n",
       "      <td>47.0</td>\n",
       "      <td>207.0</td>\n",
       "      <td>0.0</td>\n",
       "      <td>0.0</td>\n",
       "      <td>0.0</td>\n",
       "      <td>0.0</td>\n",
       "      <td>0</td>\n",
       "    </tr>\n",
       "    <tr>\n",
       "      <th>2963</th>\n",
       "      <td>200000.0</td>\n",
       "      <td>1</td>\n",
       "      <td>2</td>\n",
       "      <td>1</td>\n",
       "      <td>53.0</td>\n",
       "      <td>1.0</td>\n",
       "      <td>-1.0</td>\n",
       "      <td>-1.0</td>\n",
       "      <td>-2.0</td>\n",
       "      <td>-2</td>\n",
       "      <td>...</td>\n",
       "      <td>0.0</td>\n",
       "      <td>0.0</td>\n",
       "      <td>6753.0</td>\n",
       "      <td>2920.0</td>\n",
       "      <td>0.0</td>\n",
       "      <td>0.0</td>\n",
       "      <td>0.0</td>\n",
       "      <td>6753.0</td>\n",
       "      <td>0.0</td>\n",
       "      <td>1</td>\n",
       "    </tr>\n",
       "    <tr>\n",
       "      <th>2964</th>\n",
       "      <td>20000.0</td>\n",
       "      <td>2</td>\n",
       "      <td>1</td>\n",
       "      <td>2</td>\n",
       "      <td>24.0</td>\n",
       "      <td>-1.0</td>\n",
       "      <td>-1.0</td>\n",
       "      <td>-2.0</td>\n",
       "      <td>-2.0</td>\n",
       "      <td>-2</td>\n",
       "      <td>...</td>\n",
       "      <td>0.0</td>\n",
       "      <td>0.0</td>\n",
       "      <td>0.0</td>\n",
       "      <td>0.0</td>\n",
       "      <td>0.0</td>\n",
       "      <td>0.0</td>\n",
       "      <td>0.0</td>\n",
       "      <td>0.0</td>\n",
       "      <td>0.0</td>\n",
       "      <td>0</td>\n",
       "    </tr>\n",
       "  </tbody>\n",
       "</table>\n",
       "<p>10 rows × 24 columns</p>\n",
       "</div>"
      ],
      "text/plain": [
       "      limit_balance  sex  education_level  marital_status   age  pay_0  pay_2  \\\n",
       "2955       160000.0    1                2               1  40.0   -1.0   -1.0   \n",
       "2956       260000.0    2                2               2  26.0   -1.0   -1.0   \n",
       "2957       200000.0    2                1               1  49.0   -1.0   -1.0   \n",
       "2958        90000.0    2                1               1  44.0   -1.0   -1.0   \n",
       "2959        80000.0    2                2               2  45.0    1.0   -1.0   \n",
       "2960       210000.0    2                2               1  39.0   -1.0   -1.0   \n",
       "2961       280000.0    2                1               1  41.0    2.0   -1.0   \n",
       "2962        80000.0    1                1               2  28.0    1.0   -1.0   \n",
       "2963       200000.0    1                2               1  53.0    1.0   -1.0   \n",
       "2964        20000.0    2                1               2  24.0   -1.0   -1.0   \n",
       "\n",
       "      pay_3  pay_4  pay_5  ...  bill_amt_4  bill_amt_5  bill_amt_6  pay_amt_1  \\\n",
       "2955   -1.0   -2.0     -2  ...         0.0         0.0         0.0     2941.0   \n",
       "2956   -2.0   -2.0     -2  ...      -920.0     -1236.0     -1552.0      288.0   \n",
       "2957   -1.0   -1.0     -2  ...         0.0         0.0         0.0        0.0   \n",
       "2958   -2.0   -2.0     -2  ...         0.0         0.0         0.0        0.0   \n",
       "2959   -1.0   -2.0     -2  ...         0.0         0.0         0.0    83750.0   \n",
       "2960   -1.0   -1.0     -2  ...         0.0         0.0     12000.0        0.0   \n",
       "2961   -1.0   -1.0     -2  ...         0.0         0.0       244.0     6859.0   \n",
       "2962   -1.0   -1.0     -2  ...         0.0         0.0         0.0       47.0   \n",
       "2963   -1.0   -2.0     -2  ...         0.0         0.0      6753.0     2920.0   \n",
       "2964   -2.0   -2.0     -2  ...         0.0         0.0         0.0        0.0   \n",
       "\n",
       "      pay_amt_2  pay_amt_3  pay_amt_4  pay_amt_5  pay_amt_6  \\\n",
       "2955        0.0        0.0        0.0        0.0        0.0   \n",
       "2956     1236.0      316.0      316.0      316.0      316.0   \n",
       "2957      103.0        0.0        0.0        0.0      225.0   \n",
       "2958        0.0        0.0        0.0        0.0        0.0   \n",
       "2959        0.0        0.0        0.0        0.0        0.0   \n",
       "2960    28428.0        0.0        0.0    12000.0    33664.0   \n",
       "2961      486.0        0.0        0.0      244.0        0.0   \n",
       "2962      207.0        0.0        0.0        0.0        0.0   \n",
       "2963        0.0        0.0        0.0     6753.0        0.0   \n",
       "2964        0.0        0.0        0.0        0.0        0.0   \n",
       "\n",
       "      default_payment_next_month  \n",
       "2955                           0  \n",
       "2956                           0  \n",
       "2957                           0  \n",
       "2958                           0  \n",
       "2959                           0  \n",
       "2960                           0  \n",
       "2961                           0  \n",
       "2962                           0  \n",
       "2963                           1  \n",
       "2964                           0  \n",
       "\n",
       "[10 rows x 24 columns]"
      ]
     },
     "execution_count": 5,
     "metadata": {},
     "output_type": "execute_result"
    }
   ],
   "source": [
    "# 10 baris terakhir (tail) dari dataset\n",
    "data.tail(10)"
   ]
  },
  {
   "cell_type": "markdown",
   "metadata": {},
   "source": [
    "Untuk melihat jenis tipe kolom, bisa menggunakan .info. Selain itu dapat dilihat nilai missing value dari tiap kolom."
   ]
  },
  {
   "cell_type": "code",
   "execution_count": 6,
   "metadata": {},
   "outputs": [
    {
     "name": "stdout",
     "output_type": "stream",
     "text": [
      "<class 'pandas.core.frame.DataFrame'>\n",
      "RangeIndex: 2965 entries, 0 to 2964\n",
      "Data columns (total 24 columns):\n",
      " #   Column                      Non-Null Count  Dtype  \n",
      "---  ------                      --------------  -----  \n",
      " 0   limit_balance               2965 non-null   float64\n",
      " 1   sex                         2965 non-null   int64  \n",
      " 2   education_level             2965 non-null   int64  \n",
      " 3   marital_status              2965 non-null   int64  \n",
      " 4   age                         2965 non-null   float64\n",
      " 5   pay_0                       2965 non-null   float64\n",
      " 6   pay_2                       2965 non-null   float64\n",
      " 7   pay_3                       2965 non-null   float64\n",
      " 8   pay_4                       2965 non-null   float64\n",
      " 9   pay_5                       2965 non-null   int64  \n",
      " 10  pay_6                       2965 non-null   int64  \n",
      " 11  bill_amt_1                  2965 non-null   float64\n",
      " 12  bill_amt_2                  2965 non-null   float64\n",
      " 13  bill_amt_3                  2965 non-null   float64\n",
      " 14  bill_amt_4                  2965 non-null   float64\n",
      " 15  bill_amt_5                  2965 non-null   float64\n",
      " 16  bill_amt_6                  2965 non-null   float64\n",
      " 17  pay_amt_1                   2965 non-null   float64\n",
      " 18  pay_amt_2                   2965 non-null   float64\n",
      " 19  pay_amt_3                   2965 non-null   float64\n",
      " 20  pay_amt_4                   2965 non-null   float64\n",
      " 21  pay_amt_5                   2965 non-null   float64\n",
      " 22  pay_amt_6                   2965 non-null   float64\n",
      " 23  default_payment_next_month  2965 non-null   int64  \n",
      "dtypes: float64(18), int64(6)\n",
      "memory usage: 556.1 KB\n"
     ]
    }
   ],
   "source": [
    "# cek info dataset\n",
    "data.info()"
   ]
  },
  {
   "cell_type": "markdown",
   "metadata": {},
   "source": [
    "Data info menunjukkan bahwa semua kolom bertipe numerik, ada kolom yang angka mewakiliki nilai kategori ada juga angka yang nilainya mewakili yang sebenarnya seperti limit_balance, age, bill_amount, dan pay_amount. Total kolom ada 24 kolom dan 2965 baris. Seharusnya jumlah baris yang ditujukan pada assigment adalah 21989 (tahun lahir penulis x batch) tetapi dalam BigQuery jumlah rows yang tersedia hanya 2965. "
   ]
  },
  {
   "cell_type": "markdown",
   "metadata": {},
   "source": [
    "Untuk mengetahui info statistik dataset dapat menggunakan .describe"
   ]
  },
  {
   "cell_type": "code",
   "execution_count": 7,
   "metadata": {},
   "outputs": [
    {
     "data": {
      "text/html": [
       "<div>\n",
       "<style scoped>\n",
       "    .dataframe tbody tr th:only-of-type {\n",
       "        vertical-align: middle;\n",
       "    }\n",
       "\n",
       "    .dataframe tbody tr th {\n",
       "        vertical-align: top;\n",
       "    }\n",
       "\n",
       "    .dataframe thead th {\n",
       "        text-align: right;\n",
       "    }\n",
       "</style>\n",
       "<table border=\"1\" class=\"dataframe\">\n",
       "  <thead>\n",
       "    <tr style=\"text-align: right;\">\n",
       "      <th></th>\n",
       "      <th>limit_balance</th>\n",
       "      <th>sex</th>\n",
       "      <th>education_level</th>\n",
       "      <th>marital_status</th>\n",
       "      <th>age</th>\n",
       "      <th>pay_0</th>\n",
       "      <th>pay_2</th>\n",
       "      <th>pay_3</th>\n",
       "      <th>pay_4</th>\n",
       "      <th>pay_5</th>\n",
       "      <th>...</th>\n",
       "      <th>bill_amt_4</th>\n",
       "      <th>bill_amt_5</th>\n",
       "      <th>bill_amt_6</th>\n",
       "      <th>pay_amt_1</th>\n",
       "      <th>pay_amt_2</th>\n",
       "      <th>pay_amt_3</th>\n",
       "      <th>pay_amt_4</th>\n",
       "      <th>pay_amt_5</th>\n",
       "      <th>pay_amt_6</th>\n",
       "      <th>default_payment_next_month</th>\n",
       "    </tr>\n",
       "  </thead>\n",
       "  <tbody>\n",
       "    <tr>\n",
       "      <th>count</th>\n",
       "      <td>2965.000000</td>\n",
       "      <td>2965.000000</td>\n",
       "      <td>2965.000000</td>\n",
       "      <td>2965.000000</td>\n",
       "      <td>2965.000000</td>\n",
       "      <td>2965.000000</td>\n",
       "      <td>2965.000000</td>\n",
       "      <td>2965.000000</td>\n",
       "      <td>2965.000000</td>\n",
       "      <td>2965.000000</td>\n",
       "      <td>...</td>\n",
       "      <td>2965.000000</td>\n",
       "      <td>2965.000000</td>\n",
       "      <td>2965.000000</td>\n",
       "      <td>2965.000000</td>\n",
       "      <td>2.965000e+03</td>\n",
       "      <td>2965.000000</td>\n",
       "      <td>2965.000000</td>\n",
       "      <td>2965.000000</td>\n",
       "      <td>2965.000000</td>\n",
       "      <td>2965.000000</td>\n",
       "    </tr>\n",
       "    <tr>\n",
       "      <th>mean</th>\n",
       "      <td>163369.308600</td>\n",
       "      <td>1.607757</td>\n",
       "      <td>1.849578</td>\n",
       "      <td>1.559865</td>\n",
       "      <td>35.193255</td>\n",
       "      <td>0.005059</td>\n",
       "      <td>-0.122428</td>\n",
       "      <td>-0.141653</td>\n",
       "      <td>-0.185160</td>\n",
       "      <td>-0.225295</td>\n",
       "      <td>...</td>\n",
       "      <td>44089.683305</td>\n",
       "      <td>40956.080607</td>\n",
       "      <td>39773.072513</td>\n",
       "      <td>6348.902867</td>\n",
       "      <td>6.272494e+03</td>\n",
       "      <td>5150.497133</td>\n",
       "      <td>4561.376054</td>\n",
       "      <td>4913.286678</td>\n",
       "      <td>5382.701518</td>\n",
       "      <td>0.214165</td>\n",
       "    </tr>\n",
       "    <tr>\n",
       "      <th>std</th>\n",
       "      <td>125030.415472</td>\n",
       "      <td>0.488333</td>\n",
       "      <td>0.778184</td>\n",
       "      <td>0.522317</td>\n",
       "      <td>9.109439</td>\n",
       "      <td>1.114395</td>\n",
       "      <td>1.180784</td>\n",
       "      <td>1.183630</td>\n",
       "      <td>1.178322</td>\n",
       "      <td>1.159003</td>\n",
       "      <td>...</td>\n",
       "      <td>61907.454056</td>\n",
       "      <td>58271.904751</td>\n",
       "      <td>57303.488981</td>\n",
       "      <td>20885.735336</td>\n",
       "      <td>2.887967e+04</td>\n",
       "      <td>14287.079982</td>\n",
       "      <td>13281.499599</td>\n",
       "      <td>16734.340778</td>\n",
       "      <td>17275.953029</td>\n",
       "      <td>0.410311</td>\n",
       "    </tr>\n",
       "    <tr>\n",
       "      <th>min</th>\n",
       "      <td>10000.000000</td>\n",
       "      <td>1.000000</td>\n",
       "      <td>0.000000</td>\n",
       "      <td>0.000000</td>\n",
       "      <td>21.000000</td>\n",
       "      <td>-2.000000</td>\n",
       "      <td>-2.000000</td>\n",
       "      <td>-2.000000</td>\n",
       "      <td>-2.000000</td>\n",
       "      <td>-2.000000</td>\n",
       "      <td>...</td>\n",
       "      <td>-46627.000000</td>\n",
       "      <td>-46627.000000</td>\n",
       "      <td>-73895.000000</td>\n",
       "      <td>0.000000</td>\n",
       "      <td>0.000000e+00</td>\n",
       "      <td>0.000000</td>\n",
       "      <td>0.000000</td>\n",
       "      <td>0.000000</td>\n",
       "      <td>0.000000</td>\n",
       "      <td>0.000000</td>\n",
       "    </tr>\n",
       "    <tr>\n",
       "      <th>25%</th>\n",
       "      <td>50000.000000</td>\n",
       "      <td>1.000000</td>\n",
       "      <td>1.000000</td>\n",
       "      <td>1.000000</td>\n",
       "      <td>28.000000</td>\n",
       "      <td>-1.000000</td>\n",
       "      <td>-1.000000</td>\n",
       "      <td>-1.000000</td>\n",
       "      <td>-1.000000</td>\n",
       "      <td>-1.000000</td>\n",
       "      <td>...</td>\n",
       "      <td>2582.000000</td>\n",
       "      <td>1958.000000</td>\n",
       "      <td>1430.000000</td>\n",
       "      <td>1013.000000</td>\n",
       "      <td>9.900000e+02</td>\n",
       "      <td>477.000000</td>\n",
       "      <td>313.000000</td>\n",
       "      <td>323.000000</td>\n",
       "      <td>173.000000</td>\n",
       "      <td>0.000000</td>\n",
       "    </tr>\n",
       "    <tr>\n",
       "      <th>50%</th>\n",
       "      <td>140000.000000</td>\n",
       "      <td>2.000000</td>\n",
       "      <td>2.000000</td>\n",
       "      <td>2.000000</td>\n",
       "      <td>34.000000</td>\n",
       "      <td>0.000000</td>\n",
       "      <td>0.000000</td>\n",
       "      <td>0.000000</td>\n",
       "      <td>0.000000</td>\n",
       "      <td>0.000000</td>\n",
       "      <td>...</td>\n",
       "      <td>19894.000000</td>\n",
       "      <td>18814.000000</td>\n",
       "      <td>18508.000000</td>\n",
       "      <td>2234.000000</td>\n",
       "      <td>2.175000e+03</td>\n",
       "      <td>1994.000000</td>\n",
       "      <td>1600.000000</td>\n",
       "      <td>1646.000000</td>\n",
       "      <td>1615.000000</td>\n",
       "      <td>0.000000</td>\n",
       "    </tr>\n",
       "    <tr>\n",
       "      <th>75%</th>\n",
       "      <td>230000.000000</td>\n",
       "      <td>2.000000</td>\n",
       "      <td>2.000000</td>\n",
       "      <td>2.000000</td>\n",
       "      <td>41.000000</td>\n",
       "      <td>0.000000</td>\n",
       "      <td>0.000000</td>\n",
       "      <td>0.000000</td>\n",
       "      <td>0.000000</td>\n",
       "      <td>0.000000</td>\n",
       "      <td>...</td>\n",
       "      <td>58622.000000</td>\n",
       "      <td>53373.000000</td>\n",
       "      <td>52287.000000</td>\n",
       "      <td>5087.000000</td>\n",
       "      <td>5.000000e+03</td>\n",
       "      <td>4500.000000</td>\n",
       "      <td>4000.000000</td>\n",
       "      <td>4021.000000</td>\n",
       "      <td>4081.000000</td>\n",
       "      <td>0.000000</td>\n",
       "    </tr>\n",
       "    <tr>\n",
       "      <th>max</th>\n",
       "      <td>800000.000000</td>\n",
       "      <td>2.000000</td>\n",
       "      <td>6.000000</td>\n",
       "      <td>3.000000</td>\n",
       "      <td>69.000000</td>\n",
       "      <td>8.000000</td>\n",
       "      <td>7.000000</td>\n",
       "      <td>7.000000</td>\n",
       "      <td>8.000000</td>\n",
       "      <td>7.000000</td>\n",
       "      <td>...</td>\n",
       "      <td>488808.000000</td>\n",
       "      <td>441981.000000</td>\n",
       "      <td>436172.000000</td>\n",
       "      <td>493358.000000</td>\n",
       "      <td>1.227082e+06</td>\n",
       "      <td>199209.000000</td>\n",
       "      <td>202076.000000</td>\n",
       "      <td>388071.000000</td>\n",
       "      <td>403500.000000</td>\n",
       "      <td>1.000000</td>\n",
       "    </tr>\n",
       "  </tbody>\n",
       "</table>\n",
       "<p>8 rows × 24 columns</p>\n",
       "</div>"
      ],
      "text/plain": [
       "       limit_balance          sex  education_level  marital_status  \\\n",
       "count    2965.000000  2965.000000      2965.000000     2965.000000   \n",
       "mean   163369.308600     1.607757         1.849578        1.559865   \n",
       "std    125030.415472     0.488333         0.778184        0.522317   \n",
       "min     10000.000000     1.000000         0.000000        0.000000   \n",
       "25%     50000.000000     1.000000         1.000000        1.000000   \n",
       "50%    140000.000000     2.000000         2.000000        2.000000   \n",
       "75%    230000.000000     2.000000         2.000000        2.000000   \n",
       "max    800000.000000     2.000000         6.000000        3.000000   \n",
       "\n",
       "               age        pay_0        pay_2        pay_3        pay_4  \\\n",
       "count  2965.000000  2965.000000  2965.000000  2965.000000  2965.000000   \n",
       "mean     35.193255     0.005059    -0.122428    -0.141653    -0.185160   \n",
       "std       9.109439     1.114395     1.180784     1.183630     1.178322   \n",
       "min      21.000000    -2.000000    -2.000000    -2.000000    -2.000000   \n",
       "25%      28.000000    -1.000000    -1.000000    -1.000000    -1.000000   \n",
       "50%      34.000000     0.000000     0.000000     0.000000     0.000000   \n",
       "75%      41.000000     0.000000     0.000000     0.000000     0.000000   \n",
       "max      69.000000     8.000000     7.000000     7.000000     8.000000   \n",
       "\n",
       "             pay_5  ...     bill_amt_4     bill_amt_5     bill_amt_6  \\\n",
       "count  2965.000000  ...    2965.000000    2965.000000    2965.000000   \n",
       "mean     -0.225295  ...   44089.683305   40956.080607   39773.072513   \n",
       "std       1.159003  ...   61907.454056   58271.904751   57303.488981   \n",
       "min      -2.000000  ...  -46627.000000  -46627.000000  -73895.000000   \n",
       "25%      -1.000000  ...    2582.000000    1958.000000    1430.000000   \n",
       "50%       0.000000  ...   19894.000000   18814.000000   18508.000000   \n",
       "75%       0.000000  ...   58622.000000   53373.000000   52287.000000   \n",
       "max       7.000000  ...  488808.000000  441981.000000  436172.000000   \n",
       "\n",
       "           pay_amt_1     pay_amt_2      pay_amt_3      pay_amt_4  \\\n",
       "count    2965.000000  2.965000e+03    2965.000000    2965.000000   \n",
       "mean     6348.902867  6.272494e+03    5150.497133    4561.376054   \n",
       "std     20885.735336  2.887967e+04   14287.079982   13281.499599   \n",
       "min         0.000000  0.000000e+00       0.000000       0.000000   \n",
       "25%      1013.000000  9.900000e+02     477.000000     313.000000   \n",
       "50%      2234.000000  2.175000e+03    1994.000000    1600.000000   \n",
       "75%      5087.000000  5.000000e+03    4500.000000    4000.000000   \n",
       "max    493358.000000  1.227082e+06  199209.000000  202076.000000   \n",
       "\n",
       "           pay_amt_5      pay_amt_6  default_payment_next_month  \n",
       "count    2965.000000    2965.000000                 2965.000000  \n",
       "mean     4913.286678    5382.701518                    0.214165  \n",
       "std     16734.340778   17275.953029                    0.410311  \n",
       "min         0.000000       0.000000                    0.000000  \n",
       "25%       323.000000     173.000000                    0.000000  \n",
       "50%      1646.000000    1615.000000                    0.000000  \n",
       "75%      4021.000000    4081.000000                    0.000000  \n",
       "max    388071.000000  403500.000000                    1.000000  \n",
       "\n",
       "[8 rows x 24 columns]"
      ]
     },
     "execution_count": 7,
     "metadata": {},
     "output_type": "execute_result"
    }
   ],
   "source": [
    "data.describe()"
   ]
  },
  {
   "cell_type": "markdown",
   "metadata": {},
   "source": [
    "age rata-rata yang mengajukan kartu kredit adalah 35.2. sedangkan usia minimal 21 tahun. Limit balance yang diberikan dari 10000 hingga 800000 dollar. Kita akan mengecek apakah pemberian limit balance dipengaruhi oleh age, sex atau yang lainnya."
   ]
  },
  {
   "cell_type": "markdown",
   "metadata": {},
   "source": [
    "Selanjutnya, mengubah nama kolom 'sex' menjadi 'gender'."
   ]
  },
  {
   "cell_type": "code",
   "execution_count": 8,
   "metadata": {},
   "outputs": [
    {
     "data": {
      "text/html": [
       "<div>\n",
       "<style scoped>\n",
       "    .dataframe tbody tr th:only-of-type {\n",
       "        vertical-align: middle;\n",
       "    }\n",
       "\n",
       "    .dataframe tbody tr th {\n",
       "        vertical-align: top;\n",
       "    }\n",
       "\n",
       "    .dataframe thead th {\n",
       "        text-align: right;\n",
       "    }\n",
       "</style>\n",
       "<table border=\"1\" class=\"dataframe\">\n",
       "  <thead>\n",
       "    <tr style=\"text-align: right;\">\n",
       "      <th></th>\n",
       "      <th>limit_balance</th>\n",
       "      <th>gender</th>\n",
       "      <th>education_level</th>\n",
       "      <th>marital_status</th>\n",
       "      <th>age</th>\n",
       "      <th>pay_0</th>\n",
       "      <th>pay_2</th>\n",
       "      <th>pay_3</th>\n",
       "      <th>pay_4</th>\n",
       "      <th>pay_5</th>\n",
       "      <th>...</th>\n",
       "      <th>bill_amt_4</th>\n",
       "      <th>bill_amt_5</th>\n",
       "      <th>bill_amt_6</th>\n",
       "      <th>pay_amt_1</th>\n",
       "      <th>pay_amt_2</th>\n",
       "      <th>pay_amt_3</th>\n",
       "      <th>pay_amt_4</th>\n",
       "      <th>pay_amt_5</th>\n",
       "      <th>pay_amt_6</th>\n",
       "      <th>default_payment_next_month</th>\n",
       "    </tr>\n",
       "  </thead>\n",
       "  <tbody>\n",
       "    <tr>\n",
       "      <th>0</th>\n",
       "      <td>50000.0</td>\n",
       "      <td>1</td>\n",
       "      <td>1</td>\n",
       "      <td>2</td>\n",
       "      <td>39.0</td>\n",
       "      <td>0.0</td>\n",
       "      <td>0.0</td>\n",
       "      <td>0.0</td>\n",
       "      <td>0.0</td>\n",
       "      <td>0</td>\n",
       "      <td>...</td>\n",
       "      <td>50803.0</td>\n",
       "      <td>30789.0</td>\n",
       "      <td>15874.0</td>\n",
       "      <td>1800.0</td>\n",
       "      <td>2000.0</td>\n",
       "      <td>3000.0</td>\n",
       "      <td>2000.0</td>\n",
       "      <td>2000.0</td>\n",
       "      <td>2000.0</td>\n",
       "      <td>0</td>\n",
       "    </tr>\n",
       "    <tr>\n",
       "      <th>1</th>\n",
       "      <td>110000.0</td>\n",
       "      <td>2</td>\n",
       "      <td>1</td>\n",
       "      <td>2</td>\n",
       "      <td>29.0</td>\n",
       "      <td>0.0</td>\n",
       "      <td>0.0</td>\n",
       "      <td>0.0</td>\n",
       "      <td>0.0</td>\n",
       "      <td>0</td>\n",
       "      <td>...</td>\n",
       "      <td>32489.0</td>\n",
       "      <td>26354.0</td>\n",
       "      <td>20221.0</td>\n",
       "      <td>2000.0</td>\n",
       "      <td>2010.0</td>\n",
       "      <td>3000.0</td>\n",
       "      <td>3000.0</td>\n",
       "      <td>3000.0</td>\n",
       "      <td>1000.0</td>\n",
       "      <td>0</td>\n",
       "    </tr>\n",
       "    <tr>\n",
       "      <th>2</th>\n",
       "      <td>270000.0</td>\n",
       "      <td>1</td>\n",
       "      <td>1</td>\n",
       "      <td>2</td>\n",
       "      <td>36.0</td>\n",
       "      <td>0.0</td>\n",
       "      <td>0.0</td>\n",
       "      <td>0.0</td>\n",
       "      <td>2.0</td>\n",
       "      <td>0</td>\n",
       "      <td>...</td>\n",
       "      <td>40335.0</td>\n",
       "      <td>37165.0</td>\n",
       "      <td>22156.0</td>\n",
       "      <td>10076.0</td>\n",
       "      <td>4018.0</td>\n",
       "      <td>14.0</td>\n",
       "      <td>2051.0</td>\n",
       "      <td>2000.0</td>\n",
       "      <td>0.0</td>\n",
       "      <td>0</td>\n",
       "    </tr>\n",
       "    <tr>\n",
       "      <th>3</th>\n",
       "      <td>130000.0</td>\n",
       "      <td>1</td>\n",
       "      <td>1</td>\n",
       "      <td>1</td>\n",
       "      <td>45.0</td>\n",
       "      <td>0.0</td>\n",
       "      <td>0.0</td>\n",
       "      <td>0.0</td>\n",
       "      <td>0.0</td>\n",
       "      <td>0</td>\n",
       "      <td>...</td>\n",
       "      <td>62377.0</td>\n",
       "      <td>63832.0</td>\n",
       "      <td>65099.0</td>\n",
       "      <td>2886.0</td>\n",
       "      <td>2908.0</td>\n",
       "      <td>2129.0</td>\n",
       "      <td>2354.0</td>\n",
       "      <td>2366.0</td>\n",
       "      <td>2291.0</td>\n",
       "      <td>0</td>\n",
       "    </tr>\n",
       "    <tr>\n",
       "      <th>4</th>\n",
       "      <td>50000.0</td>\n",
       "      <td>1</td>\n",
       "      <td>1</td>\n",
       "      <td>2</td>\n",
       "      <td>24.0</td>\n",
       "      <td>0.0</td>\n",
       "      <td>0.0</td>\n",
       "      <td>0.0</td>\n",
       "      <td>0.0</td>\n",
       "      <td>0</td>\n",
       "      <td>...</td>\n",
       "      <td>19837.0</td>\n",
       "      <td>19855.0</td>\n",
       "      <td>20151.0</td>\n",
       "      <td>1367.0</td>\n",
       "      <td>1606.0</td>\n",
       "      <td>692.0</td>\n",
       "      <td>709.0</td>\n",
       "      <td>721.0</td>\n",
       "      <td>692.0</td>\n",
       "      <td>0</td>\n",
       "    </tr>\n",
       "    <tr>\n",
       "      <th>...</th>\n",
       "      <td>...</td>\n",
       "      <td>...</td>\n",
       "      <td>...</td>\n",
       "      <td>...</td>\n",
       "      <td>...</td>\n",
       "      <td>...</td>\n",
       "      <td>...</td>\n",
       "      <td>...</td>\n",
       "      <td>...</td>\n",
       "      <td>...</td>\n",
       "      <td>...</td>\n",
       "      <td>...</td>\n",
       "      <td>...</td>\n",
       "      <td>...</td>\n",
       "      <td>...</td>\n",
       "      <td>...</td>\n",
       "      <td>...</td>\n",
       "      <td>...</td>\n",
       "      <td>...</td>\n",
       "      <td>...</td>\n",
       "      <td>...</td>\n",
       "    </tr>\n",
       "    <tr>\n",
       "      <th>2960</th>\n",
       "      <td>210000.0</td>\n",
       "      <td>2</td>\n",
       "      <td>2</td>\n",
       "      <td>1</td>\n",
       "      <td>39.0</td>\n",
       "      <td>-1.0</td>\n",
       "      <td>-1.0</td>\n",
       "      <td>-1.0</td>\n",
       "      <td>-1.0</td>\n",
       "      <td>-2</td>\n",
       "      <td>...</td>\n",
       "      <td>0.0</td>\n",
       "      <td>0.0</td>\n",
       "      <td>12000.0</td>\n",
       "      <td>0.0</td>\n",
       "      <td>28428.0</td>\n",
       "      <td>0.0</td>\n",
       "      <td>0.0</td>\n",
       "      <td>12000.0</td>\n",
       "      <td>33664.0</td>\n",
       "      <td>0</td>\n",
       "    </tr>\n",
       "    <tr>\n",
       "      <th>2961</th>\n",
       "      <td>280000.0</td>\n",
       "      <td>2</td>\n",
       "      <td>1</td>\n",
       "      <td>1</td>\n",
       "      <td>41.0</td>\n",
       "      <td>2.0</td>\n",
       "      <td>-1.0</td>\n",
       "      <td>-1.0</td>\n",
       "      <td>-1.0</td>\n",
       "      <td>-2</td>\n",
       "      <td>...</td>\n",
       "      <td>0.0</td>\n",
       "      <td>0.0</td>\n",
       "      <td>244.0</td>\n",
       "      <td>6859.0</td>\n",
       "      <td>486.0</td>\n",
       "      <td>0.0</td>\n",
       "      <td>0.0</td>\n",
       "      <td>244.0</td>\n",
       "      <td>0.0</td>\n",
       "      <td>0</td>\n",
       "    </tr>\n",
       "    <tr>\n",
       "      <th>2962</th>\n",
       "      <td>80000.0</td>\n",
       "      <td>1</td>\n",
       "      <td>1</td>\n",
       "      <td>2</td>\n",
       "      <td>28.0</td>\n",
       "      <td>1.0</td>\n",
       "      <td>-1.0</td>\n",
       "      <td>-1.0</td>\n",
       "      <td>-1.0</td>\n",
       "      <td>-2</td>\n",
       "      <td>...</td>\n",
       "      <td>0.0</td>\n",
       "      <td>0.0</td>\n",
       "      <td>0.0</td>\n",
       "      <td>47.0</td>\n",
       "      <td>207.0</td>\n",
       "      <td>0.0</td>\n",
       "      <td>0.0</td>\n",
       "      <td>0.0</td>\n",
       "      <td>0.0</td>\n",
       "      <td>0</td>\n",
       "    </tr>\n",
       "    <tr>\n",
       "      <th>2963</th>\n",
       "      <td>200000.0</td>\n",
       "      <td>1</td>\n",
       "      <td>2</td>\n",
       "      <td>1</td>\n",
       "      <td>53.0</td>\n",
       "      <td>1.0</td>\n",
       "      <td>-1.0</td>\n",
       "      <td>-1.0</td>\n",
       "      <td>-2.0</td>\n",
       "      <td>-2</td>\n",
       "      <td>...</td>\n",
       "      <td>0.0</td>\n",
       "      <td>0.0</td>\n",
       "      <td>6753.0</td>\n",
       "      <td>2920.0</td>\n",
       "      <td>0.0</td>\n",
       "      <td>0.0</td>\n",
       "      <td>0.0</td>\n",
       "      <td>6753.0</td>\n",
       "      <td>0.0</td>\n",
       "      <td>1</td>\n",
       "    </tr>\n",
       "    <tr>\n",
       "      <th>2964</th>\n",
       "      <td>20000.0</td>\n",
       "      <td>2</td>\n",
       "      <td>1</td>\n",
       "      <td>2</td>\n",
       "      <td>24.0</td>\n",
       "      <td>-1.0</td>\n",
       "      <td>-1.0</td>\n",
       "      <td>-2.0</td>\n",
       "      <td>-2.0</td>\n",
       "      <td>-2</td>\n",
       "      <td>...</td>\n",
       "      <td>0.0</td>\n",
       "      <td>0.0</td>\n",
       "      <td>0.0</td>\n",
       "      <td>0.0</td>\n",
       "      <td>0.0</td>\n",
       "      <td>0.0</td>\n",
       "      <td>0.0</td>\n",
       "      <td>0.0</td>\n",
       "      <td>0.0</td>\n",
       "      <td>0</td>\n",
       "    </tr>\n",
       "  </tbody>\n",
       "</table>\n",
       "<p>2965 rows × 24 columns</p>\n",
       "</div>"
      ],
      "text/plain": [
       "      limit_balance  gender  education_level  marital_status   age  pay_0  \\\n",
       "0           50000.0       1                1               2  39.0    0.0   \n",
       "1          110000.0       2                1               2  29.0    0.0   \n",
       "2          270000.0       1                1               2  36.0    0.0   \n",
       "3          130000.0       1                1               1  45.0    0.0   \n",
       "4           50000.0       1                1               2  24.0    0.0   \n",
       "...             ...     ...              ...             ...   ...    ...   \n",
       "2960       210000.0       2                2               1  39.0   -1.0   \n",
       "2961       280000.0       2                1               1  41.0    2.0   \n",
       "2962        80000.0       1                1               2  28.0    1.0   \n",
       "2963       200000.0       1                2               1  53.0    1.0   \n",
       "2964        20000.0       2                1               2  24.0   -1.0   \n",
       "\n",
       "      pay_2  pay_3  pay_4  pay_5  ...  bill_amt_4  bill_amt_5  bill_amt_6  \\\n",
       "0       0.0    0.0    0.0      0  ...     50803.0     30789.0     15874.0   \n",
       "1       0.0    0.0    0.0      0  ...     32489.0     26354.0     20221.0   \n",
       "2       0.0    0.0    2.0      0  ...     40335.0     37165.0     22156.0   \n",
       "3       0.0    0.0    0.0      0  ...     62377.0     63832.0     65099.0   \n",
       "4       0.0    0.0    0.0      0  ...     19837.0     19855.0     20151.0   \n",
       "...     ...    ...    ...    ...  ...         ...         ...         ...   \n",
       "2960   -1.0   -1.0   -1.0     -2  ...         0.0         0.0     12000.0   \n",
       "2961   -1.0   -1.0   -1.0     -2  ...         0.0         0.0       244.0   \n",
       "2962   -1.0   -1.0   -1.0     -2  ...         0.0         0.0         0.0   \n",
       "2963   -1.0   -1.0   -2.0     -2  ...         0.0         0.0      6753.0   \n",
       "2964   -1.0   -2.0   -2.0     -2  ...         0.0         0.0         0.0   \n",
       "\n",
       "      pay_amt_1  pay_amt_2  pay_amt_3  pay_amt_4  pay_amt_5  pay_amt_6  \\\n",
       "0        1800.0     2000.0     3000.0     2000.0     2000.0     2000.0   \n",
       "1        2000.0     2010.0     3000.0     3000.0     3000.0     1000.0   \n",
       "2       10076.0     4018.0       14.0     2051.0     2000.0        0.0   \n",
       "3        2886.0     2908.0     2129.0     2354.0     2366.0     2291.0   \n",
       "4        1367.0     1606.0      692.0      709.0      721.0      692.0   \n",
       "...         ...        ...        ...        ...        ...        ...   \n",
       "2960        0.0    28428.0        0.0        0.0    12000.0    33664.0   \n",
       "2961     6859.0      486.0        0.0        0.0      244.0        0.0   \n",
       "2962       47.0      207.0        0.0        0.0        0.0        0.0   \n",
       "2963     2920.0        0.0        0.0        0.0     6753.0        0.0   \n",
       "2964        0.0        0.0        0.0        0.0        0.0        0.0   \n",
       "\n",
       "      default_payment_next_month  \n",
       "0                              0  \n",
       "1                              0  \n",
       "2                              0  \n",
       "3                              0  \n",
       "4                              0  \n",
       "...                          ...  \n",
       "2960                           0  \n",
       "2961                           0  \n",
       "2962                           0  \n",
       "2963                           1  \n",
       "2964                           0  \n",
       "\n",
       "[2965 rows x 24 columns]"
      ]
     },
     "execution_count": 8,
     "metadata": {},
     "output_type": "execute_result"
    }
   ],
   "source": [
    "data = data.rename(columns={'sex': 'gender',})\n",
    "data"
   ]
  },
  {
   "cell_type": "markdown",
   "metadata": {},
   "source": [
    "# 4. Exploratory Data Analysis (EDA)"
   ]
  },
  {
   "cell_type": "markdown",
   "metadata": {},
   "source": [
    "## 4.1 Heatmap korelasi fitur dan target"
   ]
  },
  {
   "cell_type": "markdown",
   "metadata": {},
   "source": [
    "Untuk mengecek korelasi antara fitur dan target, bisa menggunakan headmap atau pair plot. Tujuannya adalah untuk meilihat fitur mana yang memiliki pengaruh panling tinggi terhadap target dan mengecek untuk setiap fitur bersifat independent."
   ]
  },
  {
   "cell_type": "markdown",
   "metadata": {},
   "source": [
    "Sebelum membuat plot, sebaiknya beberapa kolom dipisah terlebih dahulu karena jika dilakukan dalam satu plot kolom terlalu banyak dan hasil plotnya tidak terlalu jelas dan membingungkan."
   ]
  },
  {
   "cell_type": "markdown",
   "metadata": {},
   "source": [
    "Pertama, mengecek korelasi antara limit_balance, gender, education_level, marital_status, age, pay_0 - pay_6 dan default_payment_next_month. "
   ]
  },
  {
   "cell_type": "code",
   "execution_count": 9,
   "metadata": {},
   "outputs": [
    {
     "data": {
      "image/png": "[encoded data removed]",
      "text/plain": [
       "<Figure size 936x720 with 2 Axes>"
      ]
     },
     "metadata": {
      "needs_background": "light"
     },
     "output_type": "display_data"
    }
   ],
   "source": [
    "# siapkan kolom yang akan digunakan\n",
    "corr1 = data[['limit_balance', 'gender', 'education_level', 'marital_status', 'age',\n",
    "                'pay_0', 'pay_2', 'pay_3', 'pay_4', 'pay_5', 'pay_6', 'default_payment_next_month']].corr()\n",
    "\n",
    "# buat heatmap\n",
    "plt.figure(figsize=(13, 10))\n",
    "sns.heatmap(corr1, annot= True, vmin=0, vmax=1)\n",
    "plt.title('Korelasi antara fitur dan target')\n",
    "plt.show()"
   ]
  },
  {
   "cell_type": "markdown",
   "metadata": {},
   "source": [
    "Korelasi fitur payment status (pay) dengan default_payment_next_month semakin lama semakin megalami peningkatan (april ke september). Pada bulan april (pay_6) korelasi hanya 0.24 sedangakan pada bulan september (0.36)."
   ]
  },
  {
   "cell_type": "markdown",
   "metadata": {},
   "source": [
    "Kedua, mengecek korelari antara bil_amt 1-6, pay_amt 1-6 dengan default_payment_next_month."
   ]
  },
  {
   "cell_type": "code",
   "execution_count": 10,
   "metadata": {},
   "outputs": [
    {
     "data": {
      "image/png": "[encoded data removed]",
      "text/plain": [
       "<Figure size 936x720 with 2 Axes>"
      ]
     },
     "metadata": {
      "needs_background": "light"
     },
     "output_type": "display_data"
    }
   ],
   "source": [
    "# siapkan kolom yang akan digunakan\n",
    "corr2 = data[['bill_amt_1', 'bill_amt_2', 'bill_amt_3', 'bill_amt_4', 'bill_amt_5', 'bill_amt_6',\n",
    "                'pay_amt_1', 'pay_amt_2', 'pay_amt_3', 'pay_amt_4', 'pay_amt_5', 'pay_amt_6',\n",
    "                'default_payment_next_month']].corr()\n",
    "\n",
    "# buat heatmap\n",
    "plt.figure(figsize=(13, 10))\n",
    "sns.heatmap(corr2, annot= True, vmin=0, vmax=1)\n",
    "plt.title('Korelasi antara fitur dan target')\n",
    "plt.show()"
   ]
  },
  {
   "cell_type": "markdown",
   "metadata": {},
   "source": [
    "Sebenarnya untuk bill_amt dan pay_amt tidak terlalu memiliki korelasi yang tinggi terhadap target tetapi tetap memperngaruhi target. Dapat dilihat juga bahwa pay 0 - pay 6, bill_amt dan pay_amt memiliki korelasi yang tinggi maka pada feature selection hanya satu saja yang akan digunakan agar tidak terjadi overfitting pada train."
   ]
  },
  {
   "cell_type": "markdown",
   "metadata": {},
   "source": [
    "## 4.2 Besar Limit balance"
   ]
  },
  {
   "cell_type": "markdown",
   "metadata": {},
   "source": [
    "Penulis ingin mencari tahu, limit balance yang diberikan untuk customer itu pertimngannya berdasarkan apa saja apakah gender, education level, marital_status dan age. Jadi hal ini bisa menggunakan heatmap dan scatterplot"
   ]
  },
  {
   "cell_type": "code",
   "execution_count": 11,
   "metadata": {},
   "outputs": [
    {
     "data": {
      "image/png": "[encoded data removed]",
      "text/plain": [
       "<Figure size 504x360 with 2 Axes>"
      ]
     },
     "metadata": {
      "needs_background": "light"
     },
     "output_type": "display_data"
    }
   ],
   "source": [
    "# membuat kolom yang akan digunakan pair plot\n",
    "pair = data[['gender', 'education_level', 'marital_status', 'age', 'limit_balance']].corr()\n",
    "\n",
    "# buat heatmap\n",
    "plt.figure(figsize=(7, 5))\n",
    "sns.heatmap(pair, annot= True, vmin=0, vmax=1)\n",
    "plt.title('Hal yang mempengaruhi limit balance')\n",
    "plt.show()"
   ]
  },
  {
   "cell_type": "markdown",
   "metadata": {},
   "source": [
    "Dari heatmap diatas, nilai korelasi yang paling mempengaruhi limit balance adalah age tetapi nilainya juga tidak terlalu tinggi. Selain itu bisa juga menggunakan scatterplot."
   ]
  },
  {
   "cell_type": "code",
   "execution_count": 12,
   "metadata": {},
   "outputs": [
    {
     "data": {
      "image/png": "[encoded data removed]",
      "text/plain": [
       "<Figure size 432x288 with 1 Axes>"
      ]
     },
     "metadata": {
      "needs_background": "light"
     },
     "output_type": "display_data"
    }
   ],
   "source": [
    "# scatterplot dan limit balance\n",
    "sns.scatterplot(x='limit_balance',y='age',data=data)\n",
    "plt.title('Scatter plot dari limit balance dan age')\n",
    "plt.show()"
   ]
  },
  {
   "cell_type": "markdown",
   "metadata": {},
   "source": [
    "Berdasarkan scatter plot, dapat dikatakan bahwa age dari customer memiliki sedikit pengaruh dalam penentuan limit balance yang diberikan."
   ]
  },
  {
   "cell_type": "markdown",
   "metadata": {},
   "source": [
    "## 4.3 Tingkat pendidikan yang paling banyak"
   ]
  },
  {
   "cell_type": "markdown",
   "metadata": {},
   "source": [
    "Untuk mengecek tingkat pendidikan customer, pertama cek terlebih dahulu ada berapa tingkatan pedidikan."
   ]
  },
  {
   "cell_type": "code",
   "execution_count": 13,
   "metadata": {},
   "outputs": [
    {
     "data": {
      "text/plain": [
       "array([1, 2, 3, 5, 4, 6, 0], dtype=int64)"
      ]
     },
     "execution_count": 13,
     "metadata": {},
     "output_type": "execute_result"
    }
   ],
   "source": [
    "# unique dari education level\n",
    "data['education_level'].unique()"
   ]
  },
  {
   "cell_type": "markdown",
   "metadata": {},
   "source": [
    "karena pada dataset dijelaskan nilai dari kategori 5,6,0 = unknown, berarti kategori tesebut bisa digabungkan dengan kategori 4=others."
   ]
  },
  {
   "cell_type": "code",
   "execution_count": 14,
   "metadata": {},
   "outputs": [],
   "source": [
    "# gabungkan katgori\n",
    "edu = (data.education_level == 5) | (data.education_level == 6) | (data.education_level == 0)\n",
    "data.loc[edu, 'education_level'] = 4"
   ]
  },
  {
   "cell_type": "markdown",
   "metadata": {},
   "source": [
    "Setelah digabungkan, lihat presentasi dari masing-masing kategori menggunakan pie-chart."
   ]
  },
  {
   "cell_type": "code",
   "execution_count": 15,
   "metadata": {},
   "outputs": [
    {
     "data": {
      "image/png": "[encoded data removed]",
      "text/plain": [
       "<Figure size 432x432 with 1 Axes>"
      ]
     },
     "metadata": {},
     "output_type": "display_data"
    }
   ],
   "source": [
    "# pie char education\n",
    "data['education_level'].value_counts().plot(kind='pie', figsize=(6,6), autopct='%.2f')\n",
    "plt.title('Persentase pendidikan customer')\n",
    "plt.show()"
   ]
  },
  {
   "cell_type": "markdown",
   "metadata": {},
   "source": [
    "Jadi pendidikan yang paling banyak oleh kategori 2 yaitu university dengan persentase 47.22%."
   ]
  },
  {
   "cell_type": "markdown",
   "metadata": {},
   "source": [
    "## 4.4 Gender kategori"
   ]
  },
  {
   "cell_type": "markdown",
   "metadata": {},
   "source": [
    "Dari customer male dan female, berapakah jumlah customer berdasarkan gender?"
   ]
  },
  {
   "cell_type": "code",
   "execution_count": 16,
   "metadata": {},
   "outputs": [
    {
     "data": {
      "image/png": "[encoded data removed]",
      "text/plain": [
       "<Figure size 432x288 with 1 Axes>"
      ]
     },
     "metadata": {
      "needs_background": "light"
     },
     "output_type": "display_data"
    }
   ],
   "source": [
    "# barplot dari jumlah gender\n",
    "data['gender'].value_counts().plot(kind='bar')\n",
    "plt.title('Perbandingan jumlah gender')\n",
    "plt.show()"
   ]
  },
  {
   "cell_type": "markdown",
   "metadata": {},
   "source": [
    "berdasarkan barplot, customer yang paling banyak adalah female. Untuk alasan mengapa lebih banyak customer female dibandingan male yang menggunakan kartu credit mungkin karena female lebih sering berbelanja menggunakan kartu kredit agar lebih memudahkan pembayaran+dapat diskon sedangkan male biasanya tidak terlalu memerlukan kartu kredit dan menyukai pembayaran cash."
   ]
  },
  {
   "cell_type": "markdown",
   "metadata": {},
   "source": [
    "## 4.5 Perbandingan payment default "
   ]
  },
  {
   "cell_type": "code",
   "execution_count": 17,
   "metadata": {},
   "outputs": [
    {
     "data": {
      "image/png": "[encoded data removed]",
      "text/plain": [
       "<Figure size 432x288 with 1 Axes>"
      ]
     },
     "metadata": {
      "needs_background": "light"
     },
     "output_type": "display_data"
    }
   ],
   "source": [
    "# perbadingan jumlah payment default\n",
    "data['default_payment_next_month'].value_counts().plot(kind='bar', color='orange')\n",
    "plt.title('Perbandingan Payment default')\n",
    "plt.show()"
   ]
  },
  {
   "cell_type": "markdown",
   "metadata": {},
   "source": [
    "Dari sini dapat diketahui bahwa data payment default untuk kategori 0 dan 1 memiliki jumlah yang sangat berbeda. oleh karena itu pada saat dimasukkan pada model machine learning kemungkinan untuk klasifikasi kategori 0 masih kurang baik karena datanya tidak cukup untuk model belajar."
   ]
  },
  {
   "cell_type": "markdown",
   "metadata": {},
   "source": [
    "# 5. Data Preprocessing"
   ]
  },
  {
   "cell_type": "markdown",
   "metadata": {},
   "source": [
    "> Dalam data preprosessing dilakukan pesiapan sebelum data siap dimasukkan dalam model machine learning. Ada beberapa tahan yaitu, memisahkan data inference dan data train-test set dan melakukan scaling."
   ]
  },
  {
   "cell_type": "markdown",
   "metadata": {},
   "source": [
    "## 5.1 Splitting data inference dan data train-test set."
   ]
  },
  {
   "cell_type": "markdown",
   "metadata": {},
   "source": [
    "Data inference disini dapat diibaratkan dengan data baru nanti yang akan diuji setelah model ditrain dan di evaluasi. Data ini dapat diambil dari dataset awal diambil secara random. Random state yang digunakan berfungsi agar data random yang diambil memiliki hasil yang sama jika dijalankan ulang."
   ]
  },
  {
   "cell_type": "markdown",
   "metadata": {},
   "source": [
    "Split data inference dari dataset awal."
   ]
  },
  {
   "cell_type": "code",
   "execution_count": 18,
   "metadata": {},
   "outputs": [],
   "source": [
    "# mengambil 20 data untuk data inference\n",
    "data_inf = data.sample(20, random_state= 17)\n",
    "\n",
    "# menghapus data inference dari dataset\n",
    "data_set = data.drop(data_inf.index)\n",
    "\n",
    "# Reset index data-set\n",
    "data_set.reset_index(drop=True, inplace=True)\n",
    "\n",
    "# Reset index data inference\n",
    "data_inf.reset_index(drop=True, inplace=True)"
   ]
  },
  {
   "cell_type": "markdown",
   "metadata": {},
   "source": [
    "Setelah memisahkan data inference dari dataset awal, maka data_set dan data_inf memiliki index yang tidak beraturan karena data inference diambil secara random. Oleh karena itu dilakukan reset index untuk masing-masing data agar index kembali terurut."
   ]
  },
  {
   "cell_type": "code",
   "execution_count": 19,
   "metadata": {},
   "outputs": [
    {
     "data": {
      "text/html": [
       "<div>\n",
       "<style scoped>\n",
       "    .dataframe tbody tr th:only-of-type {\n",
       "        vertical-align: middle;\n",
       "    }\n",
       "\n",
       "    .dataframe tbody tr th {\n",
       "        vertical-align: top;\n",
       "    }\n",
       "\n",
       "    .dataframe thead th {\n",
       "        text-align: right;\n",
       "    }\n",
       "</style>\n",
       "<table border=\"1\" class=\"dataframe\">\n",
       "  <thead>\n",
       "    <tr style=\"text-align: right;\">\n",
       "      <th></th>\n",
       "      <th>limit_balance</th>\n",
       "      <th>gender</th>\n",
       "      <th>education_level</th>\n",
       "      <th>marital_status</th>\n",
       "      <th>age</th>\n",
       "      <th>pay_0</th>\n",
       "      <th>pay_2</th>\n",
       "      <th>pay_3</th>\n",
       "      <th>pay_4</th>\n",
       "      <th>pay_5</th>\n",
       "      <th>...</th>\n",
       "      <th>bill_amt_4</th>\n",
       "      <th>bill_amt_5</th>\n",
       "      <th>bill_amt_6</th>\n",
       "      <th>pay_amt_1</th>\n",
       "      <th>pay_amt_2</th>\n",
       "      <th>pay_amt_3</th>\n",
       "      <th>pay_amt_4</th>\n",
       "      <th>pay_amt_5</th>\n",
       "      <th>pay_amt_6</th>\n",
       "      <th>default_payment_next_month</th>\n",
       "    </tr>\n",
       "  </thead>\n",
       "  <tbody>\n",
       "    <tr>\n",
       "      <th>0</th>\n",
       "      <td>420000.0</td>\n",
       "      <td>2</td>\n",
       "      <td>2</td>\n",
       "      <td>2</td>\n",
       "      <td>32.0</td>\n",
       "      <td>0.0</td>\n",
       "      <td>0.0</td>\n",
       "      <td>0.0</td>\n",
       "      <td>0.0</td>\n",
       "      <td>0</td>\n",
       "      <td>...</td>\n",
       "      <td>198925.0</td>\n",
       "      <td>175684.0</td>\n",
       "      <td>164037.0</td>\n",
       "      <td>7300.0</td>\n",
       "      <td>8839.0</td>\n",
       "      <td>8000.0</td>\n",
       "      <td>5900.0</td>\n",
       "      <td>6000.0</td>\n",
       "      <td>6000.0</td>\n",
       "      <td>0</td>\n",
       "    </tr>\n",
       "    <tr>\n",
       "      <th>1</th>\n",
       "      <td>30000.0</td>\n",
       "      <td>2</td>\n",
       "      <td>2</td>\n",
       "      <td>2</td>\n",
       "      <td>25.0</td>\n",
       "      <td>2.0</td>\n",
       "      <td>0.0</td>\n",
       "      <td>0.0</td>\n",
       "      <td>0.0</td>\n",
       "      <td>0</td>\n",
       "      <td>...</td>\n",
       "      <td>12473.0</td>\n",
       "      <td>12623.0</td>\n",
       "      <td>27460.0</td>\n",
       "      <td>1200.0</td>\n",
       "      <td>1201.0</td>\n",
       "      <td>592.0</td>\n",
       "      <td>500.0</td>\n",
       "      <td>1500.0</td>\n",
       "      <td>0.0</td>\n",
       "      <td>1</td>\n",
       "    </tr>\n",
       "    <tr>\n",
       "      <th>2</th>\n",
       "      <td>40000.0</td>\n",
       "      <td>2</td>\n",
       "      <td>3</td>\n",
       "      <td>1</td>\n",
       "      <td>60.0</td>\n",
       "      <td>0.0</td>\n",
       "      <td>0.0</td>\n",
       "      <td>0.0</td>\n",
       "      <td>0.0</td>\n",
       "      <td>0</td>\n",
       "      <td>...</td>\n",
       "      <td>21058.0</td>\n",
       "      <td>8204.0</td>\n",
       "      <td>9899.0</td>\n",
       "      <td>2000.0</td>\n",
       "      <td>3000.0</td>\n",
       "      <td>3000.0</td>\n",
       "      <td>6000.0</td>\n",
       "      <td>2000.0</td>\n",
       "      <td>2000.0</td>\n",
       "      <td>0</td>\n",
       "    </tr>\n",
       "    <tr>\n",
       "      <th>3</th>\n",
       "      <td>70000.0</td>\n",
       "      <td>2</td>\n",
       "      <td>3</td>\n",
       "      <td>3</td>\n",
       "      <td>39.0</td>\n",
       "      <td>0.0</td>\n",
       "      <td>0.0</td>\n",
       "      <td>-1.0</td>\n",
       "      <td>0.0</td>\n",
       "      <td>-1</td>\n",
       "      <td>...</td>\n",
       "      <td>15133.0</td>\n",
       "      <td>3148.0</td>\n",
       "      <td>4699.0</td>\n",
       "      <td>3000.0</td>\n",
       "      <td>11000.0</td>\n",
       "      <td>5000.0</td>\n",
       "      <td>3150.0</td>\n",
       "      <td>2000.0</td>\n",
       "      <td>4000.0</td>\n",
       "      <td>0</td>\n",
       "    </tr>\n",
       "    <tr>\n",
       "      <th>4</th>\n",
       "      <td>60000.0</td>\n",
       "      <td>2</td>\n",
       "      <td>2</td>\n",
       "      <td>2</td>\n",
       "      <td>24.0</td>\n",
       "      <td>-1.0</td>\n",
       "      <td>0.0</td>\n",
       "      <td>-1.0</td>\n",
       "      <td>0.0</td>\n",
       "      <td>0</td>\n",
       "      <td>...</td>\n",
       "      <td>10213.0</td>\n",
       "      <td>10000.0</td>\n",
       "      <td>11832.0</td>\n",
       "      <td>1020.0</td>\n",
       "      <td>9479.0</td>\n",
       "      <td>1000.0</td>\n",
       "      <td>200.0</td>\n",
       "      <td>1832.0</td>\n",
       "      <td>5889.0</td>\n",
       "      <td>0</td>\n",
       "    </tr>\n",
       "    <tr>\n",
       "      <th>5</th>\n",
       "      <td>300000.0</td>\n",
       "      <td>2</td>\n",
       "      <td>1</td>\n",
       "      <td>1</td>\n",
       "      <td>30.0</td>\n",
       "      <td>0.0</td>\n",
       "      <td>0.0</td>\n",
       "      <td>0.0</td>\n",
       "      <td>0.0</td>\n",
       "      <td>0</td>\n",
       "      <td>...</td>\n",
       "      <td>76244.0</td>\n",
       "      <td>67747.0</td>\n",
       "      <td>70389.0</td>\n",
       "      <td>3000.0</td>\n",
       "      <td>5000.0</td>\n",
       "      <td>2500.0</td>\n",
       "      <td>2500.0</td>\n",
       "      <td>3500.0</td>\n",
       "      <td>87000.0</td>\n",
       "      <td>1</td>\n",
       "    </tr>\n",
       "    <tr>\n",
       "      <th>6</th>\n",
       "      <td>500000.0</td>\n",
       "      <td>1</td>\n",
       "      <td>1</td>\n",
       "      <td>2</td>\n",
       "      <td>43.0</td>\n",
       "      <td>0.0</td>\n",
       "      <td>0.0</td>\n",
       "      <td>0.0</td>\n",
       "      <td>-1.0</td>\n",
       "      <td>-1</td>\n",
       "      <td>...</td>\n",
       "      <td>3887.0</td>\n",
       "      <td>0.0</td>\n",
       "      <td>7413.0</td>\n",
       "      <td>22650.0</td>\n",
       "      <td>0.0</td>\n",
       "      <td>3887.0</td>\n",
       "      <td>0.0</td>\n",
       "      <td>7413.0</td>\n",
       "      <td>0.0</td>\n",
       "      <td>1</td>\n",
       "    </tr>\n",
       "    <tr>\n",
       "      <th>7</th>\n",
       "      <td>490000.0</td>\n",
       "      <td>2</td>\n",
       "      <td>2</td>\n",
       "      <td>1</td>\n",
       "      <td>30.0</td>\n",
       "      <td>0.0</td>\n",
       "      <td>0.0</td>\n",
       "      <td>0.0</td>\n",
       "      <td>0.0</td>\n",
       "      <td>0</td>\n",
       "      <td>...</td>\n",
       "      <td>16995.0</td>\n",
       "      <td>-1527.0</td>\n",
       "      <td>62491.0</td>\n",
       "      <td>2003.0</td>\n",
       "      <td>2041.0</td>\n",
       "      <td>1092.0</td>\n",
       "      <td>4.0</td>\n",
       "      <td>64895.0</td>\n",
       "      <td>3003.0</td>\n",
       "      <td>0</td>\n",
       "    </tr>\n",
       "    <tr>\n",
       "      <th>8</th>\n",
       "      <td>80000.0</td>\n",
       "      <td>1</td>\n",
       "      <td>1</td>\n",
       "      <td>2</td>\n",
       "      <td>26.0</td>\n",
       "      <td>1.0</td>\n",
       "      <td>2.0</td>\n",
       "      <td>2.0</td>\n",
       "      <td>0.0</td>\n",
       "      <td>0</td>\n",
       "      <td>...</td>\n",
       "      <td>40793.0</td>\n",
       "      <td>42990.0</td>\n",
       "      <td>42854.0</td>\n",
       "      <td>2000.0</td>\n",
       "      <td>0.0</td>\n",
       "      <td>1603.0</td>\n",
       "      <td>3000.0</td>\n",
       "      <td>2000.0</td>\n",
       "      <td>1056.0</td>\n",
       "      <td>0</td>\n",
       "    </tr>\n",
       "    <tr>\n",
       "      <th>9</th>\n",
       "      <td>130000.0</td>\n",
       "      <td>2</td>\n",
       "      <td>2</td>\n",
       "      <td>1</td>\n",
       "      <td>34.0</td>\n",
       "      <td>2.0</td>\n",
       "      <td>2.0</td>\n",
       "      <td>2.0</td>\n",
       "      <td>2.0</td>\n",
       "      <td>2</td>\n",
       "      <td>...</td>\n",
       "      <td>32336.0</td>\n",
       "      <td>34186.0</td>\n",
       "      <td>34588.0</td>\n",
       "      <td>2500.0</td>\n",
       "      <td>3000.0</td>\n",
       "      <td>0.0</td>\n",
       "      <td>2600.0</td>\n",
       "      <td>1000.0</td>\n",
       "      <td>1500.0</td>\n",
       "      <td>1</td>\n",
       "    </tr>\n",
       "    <tr>\n",
       "      <th>10</th>\n",
       "      <td>20000.0</td>\n",
       "      <td>2</td>\n",
       "      <td>1</td>\n",
       "      <td>2</td>\n",
       "      <td>25.0</td>\n",
       "      <td>1.0</td>\n",
       "      <td>2.0</td>\n",
       "      <td>0.0</td>\n",
       "      <td>0.0</td>\n",
       "      <td>0</td>\n",
       "      <td>...</td>\n",
       "      <td>17000.0</td>\n",
       "      <td>17000.0</td>\n",
       "      <td>20000.0</td>\n",
       "      <td>2.0</td>\n",
       "      <td>2000.0</td>\n",
       "      <td>3000.0</td>\n",
       "      <td>0.0</td>\n",
       "      <td>3000.0</td>\n",
       "      <td>0.0</td>\n",
       "      <td>0</td>\n",
       "    </tr>\n",
       "    <tr>\n",
       "      <th>11</th>\n",
       "      <td>310000.0</td>\n",
       "      <td>1</td>\n",
       "      <td>2</td>\n",
       "      <td>2</td>\n",
       "      <td>45.0</td>\n",
       "      <td>-1.0</td>\n",
       "      <td>-1.0</td>\n",
       "      <td>-1.0</td>\n",
       "      <td>-1.0</td>\n",
       "      <td>-1</td>\n",
       "      <td>...</td>\n",
       "      <td>1788.0</td>\n",
       "      <td>1927.0</td>\n",
       "      <td>553.0</td>\n",
       "      <td>1217.0</td>\n",
       "      <td>31967.0</td>\n",
       "      <td>1796.0</td>\n",
       "      <td>1936.0</td>\n",
       "      <td>556.0</td>\n",
       "      <td>15664.0</td>\n",
       "      <td>0</td>\n",
       "    </tr>\n",
       "    <tr>\n",
       "      <th>12</th>\n",
       "      <td>200000.0</td>\n",
       "      <td>2</td>\n",
       "      <td>1</td>\n",
       "      <td>1</td>\n",
       "      <td>49.0</td>\n",
       "      <td>-1.0</td>\n",
       "      <td>-1.0</td>\n",
       "      <td>-1.0</td>\n",
       "      <td>-1.0</td>\n",
       "      <td>-2</td>\n",
       "      <td>...</td>\n",
       "      <td>0.0</td>\n",
       "      <td>0.0</td>\n",
       "      <td>0.0</td>\n",
       "      <td>0.0</td>\n",
       "      <td>103.0</td>\n",
       "      <td>0.0</td>\n",
       "      <td>0.0</td>\n",
       "      <td>0.0</td>\n",
       "      <td>225.0</td>\n",
       "      <td>0</td>\n",
       "    </tr>\n",
       "    <tr>\n",
       "      <th>13</th>\n",
       "      <td>230000.0</td>\n",
       "      <td>2</td>\n",
       "      <td>3</td>\n",
       "      <td>1</td>\n",
       "      <td>66.0</td>\n",
       "      <td>-2.0</td>\n",
       "      <td>-2.0</td>\n",
       "      <td>-2.0</td>\n",
       "      <td>-2.0</td>\n",
       "      <td>-2</td>\n",
       "      <td>...</td>\n",
       "      <td>1614.0</td>\n",
       "      <td>0.0</td>\n",
       "      <td>2800.0</td>\n",
       "      <td>5580.0</td>\n",
       "      <td>500.0</td>\n",
       "      <td>1614.0</td>\n",
       "      <td>0.0</td>\n",
       "      <td>2800.0</td>\n",
       "      <td>0.0</td>\n",
       "      <td>0</td>\n",
       "    </tr>\n",
       "    <tr>\n",
       "      <th>14</th>\n",
       "      <td>50000.0</td>\n",
       "      <td>2</td>\n",
       "      <td>2</td>\n",
       "      <td>2</td>\n",
       "      <td>23.0</td>\n",
       "      <td>0.0</td>\n",
       "      <td>0.0</td>\n",
       "      <td>0.0</td>\n",
       "      <td>0.0</td>\n",
       "      <td>0</td>\n",
       "      <td>...</td>\n",
       "      <td>10078.0</td>\n",
       "      <td>9654.0</td>\n",
       "      <td>9648.0</td>\n",
       "      <td>1649.0</td>\n",
       "      <td>1300.0</td>\n",
       "      <td>500.0</td>\n",
       "      <td>500.0</td>\n",
       "      <td>300.0</td>\n",
       "      <td>500.0</td>\n",
       "      <td>0</td>\n",
       "    </tr>\n",
       "    <tr>\n",
       "      <th>15</th>\n",
       "      <td>150000.0</td>\n",
       "      <td>2</td>\n",
       "      <td>2</td>\n",
       "      <td>2</td>\n",
       "      <td>35.0</td>\n",
       "      <td>0.0</td>\n",
       "      <td>0.0</td>\n",
       "      <td>0.0</td>\n",
       "      <td>0.0</td>\n",
       "      <td>0</td>\n",
       "      <td>...</td>\n",
       "      <td>55182.0</td>\n",
       "      <td>48983.0</td>\n",
       "      <td>50136.0</td>\n",
       "      <td>3500.0</td>\n",
       "      <td>2000.0</td>\n",
       "      <td>20000.0</td>\n",
       "      <td>2000.0</td>\n",
       "      <td>2000.0</td>\n",
       "      <td>2000.0</td>\n",
       "      <td>0</td>\n",
       "    </tr>\n",
       "    <tr>\n",
       "      <th>16</th>\n",
       "      <td>90000.0</td>\n",
       "      <td>2</td>\n",
       "      <td>1</td>\n",
       "      <td>2</td>\n",
       "      <td>27.0</td>\n",
       "      <td>0.0</td>\n",
       "      <td>0.0</td>\n",
       "      <td>0.0</td>\n",
       "      <td>0.0</td>\n",
       "      <td>0</td>\n",
       "      <td>...</td>\n",
       "      <td>62643.0</td>\n",
       "      <td>59265.0</td>\n",
       "      <td>59046.0</td>\n",
       "      <td>2400.0</td>\n",
       "      <td>2518.0</td>\n",
       "      <td>2514.0</td>\n",
       "      <td>2100.0</td>\n",
       "      <td>2500.0</td>\n",
       "      <td>2500.0</td>\n",
       "      <td>0</td>\n",
       "    </tr>\n",
       "    <tr>\n",
       "      <th>17</th>\n",
       "      <td>60000.0</td>\n",
       "      <td>1</td>\n",
       "      <td>1</td>\n",
       "      <td>2</td>\n",
       "      <td>29.0</td>\n",
       "      <td>-1.0</td>\n",
       "      <td>-1.0</td>\n",
       "      <td>2.0</td>\n",
       "      <td>0.0</td>\n",
       "      <td>-1</td>\n",
       "      <td>...</td>\n",
       "      <td>1634.0</td>\n",
       "      <td>1335.0</td>\n",
       "      <td>1825.0</td>\n",
       "      <td>2440.0</td>\n",
       "      <td>0.0</td>\n",
       "      <td>1000.0</td>\n",
       "      <td>1335.0</td>\n",
       "      <td>888.0</td>\n",
       "      <td>150.0</td>\n",
       "      <td>0</td>\n",
       "    </tr>\n",
       "    <tr>\n",
       "      <th>18</th>\n",
       "      <td>110000.0</td>\n",
       "      <td>1</td>\n",
       "      <td>1</td>\n",
       "      <td>2</td>\n",
       "      <td>33.0</td>\n",
       "      <td>0.0</td>\n",
       "      <td>0.0</td>\n",
       "      <td>0.0</td>\n",
       "      <td>0.0</td>\n",
       "      <td>0</td>\n",
       "      <td>...</td>\n",
       "      <td>57066.0</td>\n",
       "      <td>112716.0</td>\n",
       "      <td>57044.0</td>\n",
       "      <td>4000.0</td>\n",
       "      <td>2800.0</td>\n",
       "      <td>2200.0</td>\n",
       "      <td>2200.0</td>\n",
       "      <td>3000.0</td>\n",
       "      <td>2000.0</td>\n",
       "      <td>0</td>\n",
       "    </tr>\n",
       "    <tr>\n",
       "      <th>19</th>\n",
       "      <td>10000.0</td>\n",
       "      <td>1</td>\n",
       "      <td>2</td>\n",
       "      <td>2</td>\n",
       "      <td>43.0</td>\n",
       "      <td>2.0</td>\n",
       "      <td>-1.0</td>\n",
       "      <td>-1.0</td>\n",
       "      <td>-1.0</td>\n",
       "      <td>-1</td>\n",
       "      <td>...</td>\n",
       "      <td>5954.0</td>\n",
       "      <td>0.0</td>\n",
       "      <td>1308.0</td>\n",
       "      <td>608.0</td>\n",
       "      <td>700.0</td>\n",
       "      <td>5954.0</td>\n",
       "      <td>0.0</td>\n",
       "      <td>1308.0</td>\n",
       "      <td>0.0</td>\n",
       "      <td>1</td>\n",
       "    </tr>\n",
       "  </tbody>\n",
       "</table>\n",
       "<p>20 rows × 24 columns</p>\n",
       "</div>"
      ],
      "text/plain": [
       "    limit_balance  gender  education_level  marital_status   age  pay_0  \\\n",
       "0        420000.0       2                2               2  32.0    0.0   \n",
       "1         30000.0       2                2               2  25.0    2.0   \n",
       "2         40000.0       2                3               1  60.0    0.0   \n",
       "3         70000.0       2                3               3  39.0    0.0   \n",
       "4         60000.0       2                2               2  24.0   -1.0   \n",
       "5        300000.0       2                1               1  30.0    0.0   \n",
       "6        500000.0       1                1               2  43.0    0.0   \n",
       "7        490000.0       2                2               1  30.0    0.0   \n",
       "8         80000.0       1                1               2  26.0    1.0   \n",
       "9        130000.0       2                2               1  34.0    2.0   \n",
       "10        20000.0       2                1               2  25.0    1.0   \n",
       "11       310000.0       1                2               2  45.0   -1.0   \n",
       "12       200000.0       2                1               1  49.0   -1.0   \n",
       "13       230000.0       2                3               1  66.0   -2.0   \n",
       "14        50000.0       2                2               2  23.0    0.0   \n",
       "15       150000.0       2                2               2  35.0    0.0   \n",
       "16        90000.0       2                1               2  27.0    0.0   \n",
       "17        60000.0       1                1               2  29.0   -1.0   \n",
       "18       110000.0       1                1               2  33.0    0.0   \n",
       "19        10000.0       1                2               2  43.0    2.0   \n",
       "\n",
       "    pay_2  pay_3  pay_4  pay_5  ...  bill_amt_4  bill_amt_5  bill_amt_6  \\\n",
       "0     0.0    0.0    0.0      0  ...    198925.0    175684.0    164037.0   \n",
       "1     0.0    0.0    0.0      0  ...     12473.0     12623.0     27460.0   \n",
       "2     0.0    0.0    0.0      0  ...     21058.0      8204.0      9899.0   \n",
       "3     0.0   -1.0    0.0     -1  ...     15133.0      3148.0      4699.0   \n",
       "4     0.0   -1.0    0.0      0  ...     10213.0     10000.0     11832.0   \n",
       "5     0.0    0.0    0.0      0  ...     76244.0     67747.0     70389.0   \n",
       "6     0.0    0.0   -1.0     -1  ...      3887.0         0.0      7413.0   \n",
       "7     0.0    0.0    0.0      0  ...     16995.0     -1527.0     62491.0   \n",
       "8     2.0    2.0    0.0      0  ...     40793.0     42990.0     42854.0   \n",
       "9     2.0    2.0    2.0      2  ...     32336.0     34186.0     34588.0   \n",
       "10    2.0    0.0    0.0      0  ...     17000.0     17000.0     20000.0   \n",
       "11   -1.0   -1.0   -1.0     -1  ...      1788.0      1927.0       553.0   \n",
       "12   -1.0   -1.0   -1.0     -2  ...         0.0         0.0         0.0   \n",
       "13   -2.0   -2.0   -2.0     -2  ...      1614.0         0.0      2800.0   \n",
       "14    0.0    0.0    0.0      0  ...     10078.0      9654.0      9648.0   \n",
       "15    0.0    0.0    0.0      0  ...     55182.0     48983.0     50136.0   \n",
       "16    0.0    0.0    0.0      0  ...     62643.0     59265.0     59046.0   \n",
       "17   -1.0    2.0    0.0     -1  ...      1634.0      1335.0      1825.0   \n",
       "18    0.0    0.0    0.0      0  ...     57066.0    112716.0     57044.0   \n",
       "19   -1.0   -1.0   -1.0     -1  ...      5954.0         0.0      1308.0   \n",
       "\n",
       "    pay_amt_1  pay_amt_2  pay_amt_3  pay_amt_4  pay_amt_5  pay_amt_6  \\\n",
       "0      7300.0     8839.0     8000.0     5900.0     6000.0     6000.0   \n",
       "1      1200.0     1201.0      592.0      500.0     1500.0        0.0   \n",
       "2      2000.0     3000.0     3000.0     6000.0     2000.0     2000.0   \n",
       "3      3000.0    11000.0     5000.0     3150.0     2000.0     4000.0   \n",
       "4      1020.0     9479.0     1000.0      200.0     1832.0     5889.0   \n",
       "5      3000.0     5000.0     2500.0     2500.0     3500.0    87000.0   \n",
       "6     22650.0        0.0     3887.0        0.0     7413.0        0.0   \n",
       "7      2003.0     2041.0     1092.0        4.0    64895.0     3003.0   \n",
       "8      2000.0        0.0     1603.0     3000.0     2000.0     1056.0   \n",
       "9      2500.0     3000.0        0.0     2600.0     1000.0     1500.0   \n",
       "10        2.0     2000.0     3000.0        0.0     3000.0        0.0   \n",
       "11     1217.0    31967.0     1796.0     1936.0      556.0    15664.0   \n",
       "12        0.0      103.0        0.0        0.0        0.0      225.0   \n",
       "13     5580.0      500.0     1614.0        0.0     2800.0        0.0   \n",
       "14     1649.0     1300.0      500.0      500.0      300.0      500.0   \n",
       "15     3500.0     2000.0    20000.0     2000.0     2000.0     2000.0   \n",
       "16     2400.0     2518.0     2514.0     2100.0     2500.0     2500.0   \n",
       "17     2440.0        0.0     1000.0     1335.0      888.0      150.0   \n",
       "18     4000.0     2800.0     2200.0     2200.0     3000.0     2000.0   \n",
       "19      608.0      700.0     5954.0        0.0     1308.0        0.0   \n",
       "\n",
       "    default_payment_next_month  \n",
       "0                            0  \n",
       "1                            1  \n",
       "2                            0  \n",
       "3                            0  \n",
       "4                            0  \n",
       "5                            1  \n",
       "6                            1  \n",
       "7                            0  \n",
       "8                            0  \n",
       "9                            1  \n",
       "10                           0  \n",
       "11                           0  \n",
       "12                           0  \n",
       "13                           0  \n",
       "14                           0  \n",
       "15                           0  \n",
       "16                           0  \n",
       "17                           0  \n",
       "18                           0  \n",
       "19                           1  \n",
       "\n",
       "[20 rows x 24 columns]"
      ]
     },
     "execution_count": 19,
     "metadata": {},
     "output_type": "execute_result"
    }
   ],
   "source": [
    "# menampilkan data inference setelah diatur index\n",
    "data_inf\n"
   ]
  },
  {
   "cell_type": "code",
   "execution_count": 20,
   "metadata": {},
   "outputs": [
    {
     "data": {
      "text/html": [
       "<div>\n",
       "<style scoped>\n",
       "    .dataframe tbody tr th:only-of-type {\n",
       "        vertical-align: middle;\n",
       "    }\n",
       "\n",
       "    .dataframe tbody tr th {\n",
       "        vertical-align: top;\n",
       "    }\n",
       "\n",
       "    .dataframe thead th {\n",
       "        text-align: right;\n",
       "    }\n",
       "</style>\n",
       "<table border=\"1\" class=\"dataframe\">\n",
       "  <thead>\n",
       "    <tr style=\"text-align: right;\">\n",
       "      <th></th>\n",
       "      <th>limit_balance</th>\n",
       "      <th>gender</th>\n",
       "      <th>education_level</th>\n",
       "      <th>marital_status</th>\n",
       "      <th>age</th>\n",
       "      <th>pay_0</th>\n",
       "      <th>pay_2</th>\n",
       "      <th>pay_3</th>\n",
       "      <th>pay_4</th>\n",
       "      <th>pay_5</th>\n",
       "      <th>...</th>\n",
       "      <th>bill_amt_4</th>\n",
       "      <th>bill_amt_5</th>\n",
       "      <th>bill_amt_6</th>\n",
       "      <th>pay_amt_1</th>\n",
       "      <th>pay_amt_2</th>\n",
       "      <th>pay_amt_3</th>\n",
       "      <th>pay_amt_4</th>\n",
       "      <th>pay_amt_5</th>\n",
       "      <th>pay_amt_6</th>\n",
       "      <th>default_payment_next_month</th>\n",
       "    </tr>\n",
       "  </thead>\n",
       "  <tbody>\n",
       "    <tr>\n",
       "      <th>0</th>\n",
       "      <td>50000.0</td>\n",
       "      <td>1</td>\n",
       "      <td>1</td>\n",
       "      <td>2</td>\n",
       "      <td>39.0</td>\n",
       "      <td>0.0</td>\n",
       "      <td>0.0</td>\n",
       "      <td>0.0</td>\n",
       "      <td>0.0</td>\n",
       "      <td>0</td>\n",
       "      <td>...</td>\n",
       "      <td>50803.0</td>\n",
       "      <td>30789.0</td>\n",
       "      <td>15874.0</td>\n",
       "      <td>1800.0</td>\n",
       "      <td>2000.0</td>\n",
       "      <td>3000.0</td>\n",
       "      <td>2000.0</td>\n",
       "      <td>2000.0</td>\n",
       "      <td>2000.0</td>\n",
       "      <td>0</td>\n",
       "    </tr>\n",
       "    <tr>\n",
       "      <th>1</th>\n",
       "      <td>110000.0</td>\n",
       "      <td>2</td>\n",
       "      <td>1</td>\n",
       "      <td>2</td>\n",
       "      <td>29.0</td>\n",
       "      <td>0.0</td>\n",
       "      <td>0.0</td>\n",
       "      <td>0.0</td>\n",
       "      <td>0.0</td>\n",
       "      <td>0</td>\n",
       "      <td>...</td>\n",
       "      <td>32489.0</td>\n",
       "      <td>26354.0</td>\n",
       "      <td>20221.0</td>\n",
       "      <td>2000.0</td>\n",
       "      <td>2010.0</td>\n",
       "      <td>3000.0</td>\n",
       "      <td>3000.0</td>\n",
       "      <td>3000.0</td>\n",
       "      <td>1000.0</td>\n",
       "      <td>0</td>\n",
       "    </tr>\n",
       "    <tr>\n",
       "      <th>2</th>\n",
       "      <td>270000.0</td>\n",
       "      <td>1</td>\n",
       "      <td>1</td>\n",
       "      <td>2</td>\n",
       "      <td>36.0</td>\n",
       "      <td>0.0</td>\n",
       "      <td>0.0</td>\n",
       "      <td>0.0</td>\n",
       "      <td>2.0</td>\n",
       "      <td>0</td>\n",
       "      <td>...</td>\n",
       "      <td>40335.0</td>\n",
       "      <td>37165.0</td>\n",
       "      <td>22156.0</td>\n",
       "      <td>10076.0</td>\n",
       "      <td>4018.0</td>\n",
       "      <td>14.0</td>\n",
       "      <td>2051.0</td>\n",
       "      <td>2000.0</td>\n",
       "      <td>0.0</td>\n",
       "      <td>0</td>\n",
       "    </tr>\n",
       "    <tr>\n",
       "      <th>3</th>\n",
       "      <td>130000.0</td>\n",
       "      <td>1</td>\n",
       "      <td>1</td>\n",
       "      <td>1</td>\n",
       "      <td>45.0</td>\n",
       "      <td>0.0</td>\n",
       "      <td>0.0</td>\n",
       "      <td>0.0</td>\n",
       "      <td>0.0</td>\n",
       "      <td>0</td>\n",
       "      <td>...</td>\n",
       "      <td>62377.0</td>\n",
       "      <td>63832.0</td>\n",
       "      <td>65099.0</td>\n",
       "      <td>2886.0</td>\n",
       "      <td>2908.0</td>\n",
       "      <td>2129.0</td>\n",
       "      <td>2354.0</td>\n",
       "      <td>2366.0</td>\n",
       "      <td>2291.0</td>\n",
       "      <td>0</td>\n",
       "    </tr>\n",
       "    <tr>\n",
       "      <th>4</th>\n",
       "      <td>50000.0</td>\n",
       "      <td>1</td>\n",
       "      <td>1</td>\n",
       "      <td>2</td>\n",
       "      <td>24.0</td>\n",
       "      <td>0.0</td>\n",
       "      <td>0.0</td>\n",
       "      <td>0.0</td>\n",
       "      <td>0.0</td>\n",
       "      <td>0</td>\n",
       "      <td>...</td>\n",
       "      <td>19837.0</td>\n",
       "      <td>19855.0</td>\n",
       "      <td>20151.0</td>\n",
       "      <td>1367.0</td>\n",
       "      <td>1606.0</td>\n",
       "      <td>692.0</td>\n",
       "      <td>709.0</td>\n",
       "      <td>721.0</td>\n",
       "      <td>692.0</td>\n",
       "      <td>0</td>\n",
       "    </tr>\n",
       "    <tr>\n",
       "      <th>...</th>\n",
       "      <td>...</td>\n",
       "      <td>...</td>\n",
       "      <td>...</td>\n",
       "      <td>...</td>\n",
       "      <td>...</td>\n",
       "      <td>...</td>\n",
       "      <td>...</td>\n",
       "      <td>...</td>\n",
       "      <td>...</td>\n",
       "      <td>...</td>\n",
       "      <td>...</td>\n",
       "      <td>...</td>\n",
       "      <td>...</td>\n",
       "      <td>...</td>\n",
       "      <td>...</td>\n",
       "      <td>...</td>\n",
       "      <td>...</td>\n",
       "      <td>...</td>\n",
       "      <td>...</td>\n",
       "      <td>...</td>\n",
       "      <td>...</td>\n",
       "    </tr>\n",
       "    <tr>\n",
       "      <th>2940</th>\n",
       "      <td>210000.0</td>\n",
       "      <td>2</td>\n",
       "      <td>2</td>\n",
       "      <td>1</td>\n",
       "      <td>39.0</td>\n",
       "      <td>-1.0</td>\n",
       "      <td>-1.0</td>\n",
       "      <td>-1.0</td>\n",
       "      <td>-1.0</td>\n",
       "      <td>-2</td>\n",
       "      <td>...</td>\n",
       "      <td>0.0</td>\n",
       "      <td>0.0</td>\n",
       "      <td>12000.0</td>\n",
       "      <td>0.0</td>\n",
       "      <td>28428.0</td>\n",
       "      <td>0.0</td>\n",
       "      <td>0.0</td>\n",
       "      <td>12000.0</td>\n",
       "      <td>33664.0</td>\n",
       "      <td>0</td>\n",
       "    </tr>\n",
       "    <tr>\n",
       "      <th>2941</th>\n",
       "      <td>280000.0</td>\n",
       "      <td>2</td>\n",
       "      <td>1</td>\n",
       "      <td>1</td>\n",
       "      <td>41.0</td>\n",
       "      <td>2.0</td>\n",
       "      <td>-1.0</td>\n",
       "      <td>-1.0</td>\n",
       "      <td>-1.0</td>\n",
       "      <td>-2</td>\n",
       "      <td>...</td>\n",
       "      <td>0.0</td>\n",
       "      <td>0.0</td>\n",
       "      <td>244.0</td>\n",
       "      <td>6859.0</td>\n",
       "      <td>486.0</td>\n",
       "      <td>0.0</td>\n",
       "      <td>0.0</td>\n",
       "      <td>244.0</td>\n",
       "      <td>0.0</td>\n",
       "      <td>0</td>\n",
       "    </tr>\n",
       "    <tr>\n",
       "      <th>2942</th>\n",
       "      <td>80000.0</td>\n",
       "      <td>1</td>\n",
       "      <td>1</td>\n",
       "      <td>2</td>\n",
       "      <td>28.0</td>\n",
       "      <td>1.0</td>\n",
       "      <td>-1.0</td>\n",
       "      <td>-1.0</td>\n",
       "      <td>-1.0</td>\n",
       "      <td>-2</td>\n",
       "      <td>...</td>\n",
       "      <td>0.0</td>\n",
       "      <td>0.0</td>\n",
       "      <td>0.0</td>\n",
       "      <td>47.0</td>\n",
       "      <td>207.0</td>\n",
       "      <td>0.0</td>\n",
       "      <td>0.0</td>\n",
       "      <td>0.0</td>\n",
       "      <td>0.0</td>\n",
       "      <td>0</td>\n",
       "    </tr>\n",
       "    <tr>\n",
       "      <th>2943</th>\n",
       "      <td>200000.0</td>\n",
       "      <td>1</td>\n",
       "      <td>2</td>\n",
       "      <td>1</td>\n",
       "      <td>53.0</td>\n",
       "      <td>1.0</td>\n",
       "      <td>-1.0</td>\n",
       "      <td>-1.0</td>\n",
       "      <td>-2.0</td>\n",
       "      <td>-2</td>\n",
       "      <td>...</td>\n",
       "      <td>0.0</td>\n",
       "      <td>0.0</td>\n",
       "      <td>6753.0</td>\n",
       "      <td>2920.0</td>\n",
       "      <td>0.0</td>\n",
       "      <td>0.0</td>\n",
       "      <td>0.0</td>\n",
       "      <td>6753.0</td>\n",
       "      <td>0.0</td>\n",
       "      <td>1</td>\n",
       "    </tr>\n",
       "    <tr>\n",
       "      <th>2944</th>\n",
       "      <td>20000.0</td>\n",
       "      <td>2</td>\n",
       "      <td>1</td>\n",
       "      <td>2</td>\n",
       "      <td>24.0</td>\n",
       "      <td>-1.0</td>\n",
       "      <td>-1.0</td>\n",
       "      <td>-2.0</td>\n",
       "      <td>-2.0</td>\n",
       "      <td>-2</td>\n",
       "      <td>...</td>\n",
       "      <td>0.0</td>\n",
       "      <td>0.0</td>\n",
       "      <td>0.0</td>\n",
       "      <td>0.0</td>\n",
       "      <td>0.0</td>\n",
       "      <td>0.0</td>\n",
       "      <td>0.0</td>\n",
       "      <td>0.0</td>\n",
       "      <td>0.0</td>\n",
       "      <td>0</td>\n",
       "    </tr>\n",
       "  </tbody>\n",
       "</table>\n",
       "<p>2945 rows × 24 columns</p>\n",
       "</div>"
      ],
      "text/plain": [
       "      limit_balance  gender  education_level  marital_status   age  pay_0  \\\n",
       "0           50000.0       1                1               2  39.0    0.0   \n",
       "1          110000.0       2                1               2  29.0    0.0   \n",
       "2          270000.0       1                1               2  36.0    0.0   \n",
       "3          130000.0       1                1               1  45.0    0.0   \n",
       "4           50000.0       1                1               2  24.0    0.0   \n",
       "...             ...     ...              ...             ...   ...    ...   \n",
       "2940       210000.0       2                2               1  39.0   -1.0   \n",
       "2941       280000.0       2                1               1  41.0    2.0   \n",
       "2942        80000.0       1                1               2  28.0    1.0   \n",
       "2943       200000.0       1                2               1  53.0    1.0   \n",
       "2944        20000.0       2                1               2  24.0   -1.0   \n",
       "\n",
       "      pay_2  pay_3  pay_4  pay_5  ...  bill_amt_4  bill_amt_5  bill_amt_6  \\\n",
       "0       0.0    0.0    0.0      0  ...     50803.0     30789.0     15874.0   \n",
       "1       0.0    0.0    0.0      0  ...     32489.0     26354.0     20221.0   \n",
       "2       0.0    0.0    2.0      0  ...     40335.0     37165.0     22156.0   \n",
       "3       0.0    0.0    0.0      0  ...     62377.0     63832.0     65099.0   \n",
       "4       0.0    0.0    0.0      0  ...     19837.0     19855.0     20151.0   \n",
       "...     ...    ...    ...    ...  ...         ...         ...         ...   \n",
       "2940   -1.0   -1.0   -1.0     -2  ...         0.0         0.0     12000.0   \n",
       "2941   -1.0   -1.0   -1.0     -2  ...         0.0         0.0       244.0   \n",
       "2942   -1.0   -1.0   -1.0     -2  ...         0.0         0.0         0.0   \n",
       "2943   -1.0   -1.0   -2.0     -2  ...         0.0         0.0      6753.0   \n",
       "2944   -1.0   -2.0   -2.0     -2  ...         0.0         0.0         0.0   \n",
       "\n",
       "      pay_amt_1  pay_amt_2  pay_amt_3  pay_amt_4  pay_amt_5  pay_amt_6  \\\n",
       "0        1800.0     2000.0     3000.0     2000.0     2000.0     2000.0   \n",
       "1        2000.0     2010.0     3000.0     3000.0     3000.0     1000.0   \n",
       "2       10076.0     4018.0       14.0     2051.0     2000.0        0.0   \n",
       "3        2886.0     2908.0     2129.0     2354.0     2366.0     2291.0   \n",
       "4        1367.0     1606.0      692.0      709.0      721.0      692.0   \n",
       "...         ...        ...        ...        ...        ...        ...   \n",
       "2940        0.0    28428.0        0.0        0.0    12000.0    33664.0   \n",
       "2941     6859.0      486.0        0.0        0.0      244.0        0.0   \n",
       "2942       47.0      207.0        0.0        0.0        0.0        0.0   \n",
       "2943     2920.0        0.0        0.0        0.0     6753.0        0.0   \n",
       "2944        0.0        0.0        0.0        0.0        0.0        0.0   \n",
       "\n",
       "      default_payment_next_month  \n",
       "0                              0  \n",
       "1                              0  \n",
       "2                              0  \n",
       "3                              0  \n",
       "4                              0  \n",
       "...                          ...  \n",
       "2940                           0  \n",
       "2941                           0  \n",
       "2942                           0  \n",
       "2943                           1  \n",
       "2944                           0  \n",
       "\n",
       "[2945 rows x 24 columns]"
      ]
     },
     "execution_count": 20,
     "metadata": {},
     "output_type": "execute_result"
    }
   ],
   "source": [
    "# menampilkan data-set\n",
    "data_set"
   ]
  },
  {
   "cell_type": "markdown",
   "metadata": {},
   "source": [
    "Oke, data inferece telah dipisahkan dari dataset!"
   ]
  },
  {
   "cell_type": "markdown",
   "metadata": {},
   "source": [
    "## 5.1 Split data train dan test dari dataset"
   ]
  },
  {
   "cell_type": "markdown",
   "metadata": {},
   "source": [
    "Pertama definisikan fitur dan target yang akan digunakan untuk model. Fitur merupakan kolom yang nantinya akan mempengaruhi hasil pelabelan dari target. Fitur adalah X dan target adalah y."
   ]
  },
  {
   "cell_type": "markdown",
   "metadata": {},
   "source": [
    "Split data X dan y"
   ]
  },
  {
   "cell_type": "code",
   "execution_count": 21,
   "metadata": {},
   "outputs": [],
   "source": [
    "# data fitur (X)\n",
    "X = data_set.drop('default_payment_next_month', axis=1)\n",
    "\n",
    "# data target\n",
    "y = data_set['default_payment_next_month']"
   ]
  },
  {
   "cell_type": "markdown",
   "metadata": {},
   "source": [
    "Setelah mendefinisikan fitur dan target, selanjutnya data dipisahkan untuk train dan test. Tujuannya adalah sebelum dilakukan prediksi model, model harus 'belajar' terlebih dahulu, nah 'belajar' tersebut dilakukan meggunakan data train. Untuk menguji model atau 'ujian' maka akan digunakan  data test. Pembagiannya data tidak direkomendasikan seimbang, baiknya lebih banyak train agar model banyak belajar. Jadi penulis membagi train 85% dan test 15%."
   ]
  },
  {
   "cell_type": "markdown",
   "metadata": {},
   "source": [
    "Split data train dan test."
   ]
  },
  {
   "cell_type": "code",
   "execution_count": 22,
   "metadata": {},
   "outputs": [
    {
     "name": "stdout",
     "output_type": "stream",
     "text": [
      "Size dataset: (2945, 24)\n",
      "Size X-Train: (2503, 23)\n",
      "Size X-Train: (2503,)\n",
      "Size X-Test: (442, 23)\n",
      "Size X-Test: (442,)\n"
     ]
    }
   ],
   "source": [
    "# split train dan test dari fitur dan target\n",
    "X_train, X_test, y_train, y_test = train_test_split(X, y, random_state= 17, test_size=0.15)\n",
    "\n",
    "# tampilkan size dataset, train dan test\n",
    "print('Size dataset:', data_set.shape)\n",
    "print('Size X-Train:', X_train.shape)\n",
    "print('Size X-Train:', y_train.shape)\n",
    "print('Size X-Test:', X_test.shape)\n",
    "print('Size X-Test:', y_test.shape)"
   ]
  },
  {
   "cell_type": "markdown",
   "metadata": {},
   "source": [
    "jadi untuk dataset sebelum ditentukan fitur dan terget masi ada 24 kolom, setelah dipisah maka untuk fitur 23 kolom dan terget 1. "
   ]
  },
  {
   "cell_type": "markdown",
   "metadata": {},
   "source": [
    "## 5.3 Data Cleaning"
   ]
  },
  {
   "cell_type": "markdown",
   "metadata": {},
   "source": [
    "Data cleaning merupakan proses mengecek missing value ataupun outliers. Untuk missing value sendiri harus dilakukan replacing ataupun di handle dengan cara lainnya sedangkan untuk outliers bisa tidak dihandle tetapi lebih baik dilakukan handle karena ada beberapa model machine learning yang sensitif terhadapnya."
   ]
  },
  {
   "cell_type": "markdown",
   "metadata": {},
   "source": [
    "Cek missing value masing-masing data."
   ]
  },
  {
   "cell_type": "code",
   "execution_count": 23,
   "metadata": {},
   "outputs": [
    {
     "name": "stdout",
     "output_type": "stream",
     "text": [
      "Missing value X-train: 0\n",
      "Missing value X-test: 0\n",
      "Missing value y-train: 0\n",
      "Missing value y-test: 0\n"
     ]
    }
   ],
   "source": [
    "# missing value dari masing-masing data\n",
    "print('Missing value X-train:', X_train.isnull().sum().sum())\n",
    "print('Missing value X-test:', X_test.isnull().sum().sum())\n",
    "print('Missing value y-train:', y_train.isnull().sum().sum())\n",
    "print('Missing value y-test:', y_test.isnull().sum().sum())"
   ]
  },
  {
   "cell_type": "markdown",
   "metadata": {},
   "source": [
    "Tidak ditemukan missing value untuk masing-masing data, hal ini sebenrnya sudah dilihat pada data info tetapi untuk memastikan kembali missing value jika ada yang terlewat karena terkadang tidak terlalu teliti."
   ]
  },
  {
   "cell_type": "markdown",
   "metadata": {},
   "source": [
    "Cek outliers pada X-train. "
   ]
  },
  {
   "cell_type": "markdown",
   "metadata": {},
   "source": [
    "Untuk cek dan handle outliers hanya dilakukan pada X-train, alasannya agar tidak terjadinya data leak (model mendapatkan data di train dan test yang sama). Mencengah data leak berarti mencegah terjadinya overfit pada model."
   ]
  },
  {
   "cell_type": "code",
   "execution_count": 24,
   "metadata": {},
   "outputs": [],
   "source": [
    "# Membuat fungsi untuk mengecek distribusi dan boxplot dari fitur X-train\n",
    "def distribusi_plot(X_train, variable):\n",
    "    # Define figure size\n",
    "    plt.figure(figsize=(16, 4))\n",
    "\n",
    "    # Histogram\n",
    "    plt.subplot(1, 2, 1)\n",
    "    sns.distplot(X_train[variable], bins=30)\n",
    "    plt.title('Histogram')\n",
    "\n",
    "    # Boxplot\n",
    "    plt.subplot(1, 2, 2)\n",
    "    sns.boxplot(y=X_train[variable])\n",
    "    plt.title('Boxplot')\n",
    "\n",
    "    plt.show()"
   ]
  },
  {
   "cell_type": "code",
   "execution_count": 25,
   "metadata": {},
   "outputs": [
    {
     "name": "stdout",
     "output_type": "stream",
     "text": [
      "Distribusi dan boxplot age sebelum capping\n",
      "mean dari age: 35.14742309228925\n"
     ]
    },
    {
     "name": "stderr",
     "output_type": "stream",
     "text": [
      "c:\\Users\\Hp\\anaconda3\\envs\\Hacktiv8\\lib\\site-packages\\seaborn\\distributions.py:2619: FutureWarning: `distplot` is a deprecated function and will be removed in a future version. Please adapt your code to use either `displot` (a figure-level function with similar flexibility) or `histplot` (an axes-level function for histograms).\n",
      "  warnings.warn(msg, FutureWarning)\n"
     ]
    },
    {
     "data": {
      "image/png": "[encoded data removed]",
      "text/plain": [
       "<Figure size 1152x288 with 2 Axes>"
      ]
     },
     "metadata": {
      "needs_background": "light"
     },
     "output_type": "display_data"
    }
   ],
   "source": [
    "# distribusi dan boxplot age\n",
    "print('Distribusi dan boxplot age sebelum capping')\n",
    "print('mean dari age:', X_train['age'].mean())\n",
    "distribusi_plot(X_train, 'age')"
   ]
  },
  {
   "cell_type": "markdown",
   "metadata": {},
   "source": [
    "Dari boxplot, dalam kolom age terdapat outliers dan distribusinya right-skew oleh karena itu handle outliers menggunakan median imputation dengan metode capping. Kelebihan metode ini adalah tidak mengurasi data yang ada tetapi kelemahannya bisa merubah sedikit dari distibusi data awal. Perubahannya dapat dilihat dari nilai meannya."
   ]
  },
  {
   "cell_type": "code",
   "execution_count": 26,
   "metadata": {},
   "outputs": [],
   "source": [
    "# membuat capper dengan median imputation\n",
    "windsoriser = Winsorizer(capping_method='iqr', tail='both', fold=1.5, variables=['age'])\n",
    "\n",
    "# fit data X-train\n",
    "windsoriser.fit(X_train)\n",
    "\n",
    "#transfoem data\n",
    "X_train_handle = windsoriser.transform(X_train)"
   ]
  },
  {
   "cell_type": "code",
   "execution_count": 27,
   "metadata": {},
   "outputs": [
    {
     "name": "stdout",
     "output_type": "stream",
     "text": [
      "Distribusi dan boxplot age sebelum capping\n",
      "mean dari age: 35.14742309228925\n"
     ]
    },
    {
     "name": "stderr",
     "output_type": "stream",
     "text": [
      "c:\\Users\\Hp\\anaconda3\\envs\\Hacktiv8\\lib\\site-packages\\seaborn\\distributions.py:2619: FutureWarning: `distplot` is a deprecated function and will be removed in a future version. Please adapt your code to use either `displot` (a figure-level function with similar flexibility) or `histplot` (an axes-level function for histograms).\n",
      "  warnings.warn(msg, FutureWarning)\n"
     ]
    },
    {
     "data": {
      "image/png": "[encoded data removed]",
      "text/plain": [
       "<Figure size 1152x288 with 2 Axes>"
      ]
     },
     "metadata": {
      "needs_background": "light"
     },
     "output_type": "display_data"
    },
    {
     "name": "stdout",
     "output_type": "stream",
     "text": [
      "Distribusi dan boxplot age setelah capping\n",
      "mean dari age: 35.12804634438674\n"
     ]
    },
    {
     "name": "stderr",
     "output_type": "stream",
     "text": [
      "c:\\Users\\Hp\\anaconda3\\envs\\Hacktiv8\\lib\\site-packages\\seaborn\\distributions.py:2619: FutureWarning: `distplot` is a deprecated function and will be removed in a future version. Please adapt your code to use either `displot` (a figure-level function with similar flexibility) or `histplot` (an axes-level function for histograms).\n",
      "  warnings.warn(msg, FutureWarning)\n"
     ]
    },
    {
     "data": {
      "image/png": "[encoded data removed]",
      "text/plain": [
       "<Figure size 1152x288 with 2 Axes>"
      ]
     },
     "metadata": {
      "needs_background": "light"
     },
     "output_type": "display_data"
    }
   ],
   "source": [
    "# sebelum capping\n",
    "print('Distribusi dan boxplot age sebelum capping')\n",
    "print('mean dari age:', X_train['age'].mean())\n",
    "distribusi_plot(X_train, 'age')\n",
    "\n",
    "# setelah capping\n",
    "print('Distribusi dan boxplot age setelah capping')\n",
    "print('mean dari age:', X_train_handle['age'].mean())\n",
    "distribusi_plot(X_train_handle, 'age')"
   ]
  },
  {
   "cell_type": "markdown",
   "metadata": {},
   "source": [
    "Setelah dilakukan capping nilai dari mean berubah dari 35.147 menjadi 35.128, walaupun sedikit nilai dari mean yang berubah tetapi tetap saja hal tersebut telah mengubah sedikit distribusi dari kolom age ini. tetapi tidak ada data yang hilang."
   ]
  },
  {
   "cell_type": "markdown",
   "metadata": {},
   "source": [
    "## 5.4 Feature Selection"
   ]
  },
  {
   "cell_type": "markdown",
   "metadata": {},
   "source": [
    "Pada EDA mengenai hubungan korelasi antar fitur terdapat banyak fitur yang memiliki korelasi satu sama lain, artinya kolom antar fitur tidak saling independent dan hal ini dapat menyebabkan overfitting pada model train. Oleh karena itu diambil salah satu kolom yang memiliki korelasi dengan target dan yang lainnya didrop.\n",
    "\n",
    "Fitur-fitur yang memiliki korelasi tinggi yaitu antara pay_0 sampai pay_6, bill_amt_1 sampai bill_amt_6 dan pay_amt_1 sampai pay_amt_6 jadi dari masing-masing kolom tersebut hanya akan diambil 1 fitur yang mewakili. Berdasarkan hasil heatmap bahwa dipilih pay_0, bill_amt_6 dan pay_amt_4."
   ]
  },
  {
   "cell_type": "code",
   "execution_count": 28,
   "metadata": {},
   "outputs": [
    {
     "data": {
      "text/plain": [
       "Index(['limit_balance', 'gender', 'education_level', 'marital_status', 'age',\n",
       "       'pay_0', 'pay_2', 'pay_3', 'pay_4', 'pay_5', 'pay_6', 'bill_amt_1',\n",
       "       'bill_amt_2', 'bill_amt_3', 'bill_amt_4', 'bill_amt_5', 'bill_amt_6',\n",
       "       'pay_amt_1', 'pay_amt_2', 'pay_amt_3', 'pay_amt_4', 'pay_amt_5',\n",
       "       'pay_amt_6'],\n",
       "      dtype='object')"
      ]
     },
     "execution_count": 28,
     "metadata": {},
     "output_type": "execute_result"
    }
   ],
   "source": [
    "# menampilkan semua kolom pada x-train\n",
    "X_train_handle.columns"
   ]
  },
  {
   "cell_type": "code",
   "execution_count": 29,
   "metadata": {},
   "outputs": [],
   "source": [
    "# Drop Column yang tidak digunakan pada X-train\n",
    "X_train_handle.drop(['pay_2', 'pay_3', 'pay_4', 'pay_5', 'pay_6', 'bill_amt_1',\n",
    "                    'bill_amt_2', 'bill_amt_3', 'bill_amt_4', 'bill_amt_5',\n",
    "                    'pay_amt_1', 'pay_amt_2', 'pay_amt_3', 'pay_amt_5','pay_amt_6'], axis=1, inplace=True)"
   ]
  },
  {
   "cell_type": "code",
   "execution_count": 30,
   "metadata": {},
   "outputs": [],
   "source": [
    "# Drop Column yang tidak digunakan pada X-test\n",
    "X_test.drop(['pay_2', 'pay_3', 'pay_4', 'pay_5', 'pay_6', 'bill_amt_1',\n",
    "            'bill_amt_2', 'bill_amt_3', 'bill_amt_4', 'bill_amt_5',\n",
    "            'pay_amt_1', 'pay_amt_2', 'pay_amt_3', 'pay_amt_5','pay_amt_6'], axis=1, inplace=True)"
   ]
  },
  {
   "cell_type": "code",
   "execution_count": 31,
   "metadata": {},
   "outputs": [
    {
     "data": {
      "text/html": [
       "<div>\n",
       "<style scoped>\n",
       "    .dataframe tbody tr th:only-of-type {\n",
       "        vertical-align: middle;\n",
       "    }\n",
       "\n",
       "    .dataframe tbody tr th {\n",
       "        vertical-align: top;\n",
       "    }\n",
       "\n",
       "    .dataframe thead th {\n",
       "        text-align: right;\n",
       "    }\n",
       "</style>\n",
       "<table border=\"1\" class=\"dataframe\">\n",
       "  <thead>\n",
       "    <tr style=\"text-align: right;\">\n",
       "      <th></th>\n",
       "      <th>limit_balance</th>\n",
       "      <th>gender</th>\n",
       "      <th>education_level</th>\n",
       "      <th>marital_status</th>\n",
       "      <th>age</th>\n",
       "      <th>pay_0</th>\n",
       "      <th>bill_amt_6</th>\n",
       "      <th>pay_amt_4</th>\n",
       "    </tr>\n",
       "  </thead>\n",
       "  <tbody>\n",
       "    <tr>\n",
       "      <th>2579</th>\n",
       "      <td>200000.0</td>\n",
       "      <td>2</td>\n",
       "      <td>1</td>\n",
       "      <td>1</td>\n",
       "      <td>41.0</td>\n",
       "      <td>-2.0</td>\n",
       "      <td>0.0</td>\n",
       "      <td>4680.0</td>\n",
       "    </tr>\n",
       "    <tr>\n",
       "      <th>1587</th>\n",
       "      <td>90000.0</td>\n",
       "      <td>1</td>\n",
       "      <td>2</td>\n",
       "      <td>1</td>\n",
       "      <td>47.0</td>\n",
       "      <td>0.0</td>\n",
       "      <td>300.0</td>\n",
       "      <td>0.0</td>\n",
       "    </tr>\n",
       "    <tr>\n",
       "      <th>1033</th>\n",
       "      <td>500000.0</td>\n",
       "      <td>1</td>\n",
       "      <td>1</td>\n",
       "      <td>1</td>\n",
       "      <td>48.0</td>\n",
       "      <td>0.0</td>\n",
       "      <td>120388.0</td>\n",
       "      <td>5000.0</td>\n",
       "    </tr>\n",
       "    <tr>\n",
       "      <th>1995</th>\n",
       "      <td>500000.0</td>\n",
       "      <td>2</td>\n",
       "      <td>1</td>\n",
       "      <td>1</td>\n",
       "      <td>34.0</td>\n",
       "      <td>-2.0</td>\n",
       "      <td>0.0</td>\n",
       "      <td>0.0</td>\n",
       "    </tr>\n",
       "    <tr>\n",
       "      <th>1023</th>\n",
       "      <td>20000.0</td>\n",
       "      <td>1</td>\n",
       "      <td>3</td>\n",
       "      <td>1</td>\n",
       "      <td>36.0</td>\n",
       "      <td>0.0</td>\n",
       "      <td>14218.0</td>\n",
       "      <td>701.0</td>\n",
       "    </tr>\n",
       "    <tr>\n",
       "      <th>...</th>\n",
       "      <td>...</td>\n",
       "      <td>...</td>\n",
       "      <td>...</td>\n",
       "      <td>...</td>\n",
       "      <td>...</td>\n",
       "      <td>...</td>\n",
       "      <td>...</td>\n",
       "      <td>...</td>\n",
       "    </tr>\n",
       "    <tr>\n",
       "      <th>1337</th>\n",
       "      <td>230000.0</td>\n",
       "      <td>1</td>\n",
       "      <td>3</td>\n",
       "      <td>2</td>\n",
       "      <td>24.0</td>\n",
       "      <td>0.0</td>\n",
       "      <td>73418.0</td>\n",
       "      <td>0.0</td>\n",
       "    </tr>\n",
       "    <tr>\n",
       "      <th>406</th>\n",
       "      <td>100000.0</td>\n",
       "      <td>1</td>\n",
       "      <td>2</td>\n",
       "      <td>2</td>\n",
       "      <td>28.0</td>\n",
       "      <td>0.0</td>\n",
       "      <td>1434.0</td>\n",
       "      <td>3786.0</td>\n",
       "    </tr>\n",
       "    <tr>\n",
       "      <th>1414</th>\n",
       "      <td>60000.0</td>\n",
       "      <td>2</td>\n",
       "      <td>2</td>\n",
       "      <td>2</td>\n",
       "      <td>23.0</td>\n",
       "      <td>0.0</td>\n",
       "      <td>30103.0</td>\n",
       "      <td>0.0</td>\n",
       "    </tr>\n",
       "    <tr>\n",
       "      <th>2191</th>\n",
       "      <td>310000.0</td>\n",
       "      <td>1</td>\n",
       "      <td>1</td>\n",
       "      <td>2</td>\n",
       "      <td>38.0</td>\n",
       "      <td>-2.0</td>\n",
       "      <td>995.0</td>\n",
       "      <td>1502.0</td>\n",
       "    </tr>\n",
       "    <tr>\n",
       "      <th>2671</th>\n",
       "      <td>200000.0</td>\n",
       "      <td>2</td>\n",
       "      <td>3</td>\n",
       "      <td>1</td>\n",
       "      <td>42.0</td>\n",
       "      <td>-1.0</td>\n",
       "      <td>400.0</td>\n",
       "      <td>400.0</td>\n",
       "    </tr>\n",
       "  </tbody>\n",
       "</table>\n",
       "<p>2503 rows × 8 columns</p>\n",
       "</div>"
      ],
      "text/plain": [
       "      limit_balance  gender  education_level  marital_status   age  pay_0  \\\n",
       "2579       200000.0       2                1               1  41.0   -2.0   \n",
       "1587        90000.0       1                2               1  47.0    0.0   \n",
       "1033       500000.0       1                1               1  48.0    0.0   \n",
       "1995       500000.0       2                1               1  34.0   -2.0   \n",
       "1023        20000.0       1                3               1  36.0    0.0   \n",
       "...             ...     ...              ...             ...   ...    ...   \n",
       "1337       230000.0       1                3               2  24.0    0.0   \n",
       "406        100000.0       1                2               2  28.0    0.0   \n",
       "1414        60000.0       2                2               2  23.0    0.0   \n",
       "2191       310000.0       1                1               2  38.0   -2.0   \n",
       "2671       200000.0       2                3               1  42.0   -1.0   \n",
       "\n",
       "      bill_amt_6  pay_amt_4  \n",
       "2579         0.0     4680.0  \n",
       "1587       300.0        0.0  \n",
       "1033    120388.0     5000.0  \n",
       "1995         0.0        0.0  \n",
       "1023     14218.0      701.0  \n",
       "...          ...        ...  \n",
       "1337     73418.0        0.0  \n",
       "406       1434.0     3786.0  \n",
       "1414     30103.0        0.0  \n",
       "2191       995.0     1502.0  \n",
       "2671       400.0      400.0  \n",
       "\n",
       "[2503 rows x 8 columns]"
      ]
     },
     "execution_count": 31,
     "metadata": {},
     "output_type": "execute_result"
    }
   ],
   "source": [
    "X_train_handle"
   ]
  },
  {
   "cell_type": "markdown",
   "metadata": {},
   "source": [
    "## 5.5 Feature Scaling"
   ]
  },
  {
   "cell_type": "markdown",
   "metadata": {},
   "source": [
    "Feature scaling bertujuan untuk menyamakan range antar data. Misalnya range age dan limit balance yang sama-sama numerik tetapi dalam definisi 'nilai' yang berbeda maka dilakukan normalisasi range. Selain itu scaling bertujuan agar machine learning tidak bingung lagi dalam mempelajari range. Untuk dataset ini hanya perlu dilakukan scaling karena semua data telah berbentuk numerik. Scaling dapat menggunakan berbagai macam scaler, disini akan menggunakan MinMaxScaler untuk mengubah range data dari 0-1."
   ]
  },
  {
   "cell_type": "code",
   "execution_count": 32,
   "metadata": {},
   "outputs": [],
   "source": [
    "# definisikan scaler\n",
    "scaler = MinMaxScaler()"
   ]
  },
  {
   "cell_type": "code",
   "execution_count": 33,
   "metadata": {},
   "outputs": [],
   "source": [
    "# fit dan transform X-train\n",
    "X_train_final = scaler.fit_transform(X_train_handle)\n",
    "\n",
    "# transformX-test\n",
    "X_test_final = scaler.transform(X_test)"
   ]
  },
  {
   "cell_type": "code",
   "execution_count": 34,
   "metadata": {},
   "outputs": [
    {
     "data": {
      "text/html": [
       "<div>\n",
       "<style scoped>\n",
       "    .dataframe tbody tr th:only-of-type {\n",
       "        vertical-align: middle;\n",
       "    }\n",
       "\n",
       "    .dataframe tbody tr th {\n",
       "        vertical-align: top;\n",
       "    }\n",
       "\n",
       "    .dataframe thead th {\n",
       "        text-align: right;\n",
       "    }\n",
       "</style>\n",
       "<table border=\"1\" class=\"dataframe\">\n",
       "  <thead>\n",
       "    <tr style=\"text-align: right;\">\n",
       "      <th></th>\n",
       "      <th>limit_balance</th>\n",
       "      <th>gender</th>\n",
       "      <th>education_level</th>\n",
       "      <th>marital_status</th>\n",
       "      <th>age</th>\n",
       "      <th>pay_0</th>\n",
       "      <th>bill_amt_6</th>\n",
       "      <th>pay_amt_4</th>\n",
       "    </tr>\n",
       "  </thead>\n",
       "  <tbody>\n",
       "    <tr>\n",
       "      <th>0</th>\n",
       "      <td>0.240506</td>\n",
       "      <td>1.0</td>\n",
       "      <td>0.000000</td>\n",
       "      <td>0.333333</td>\n",
       "      <td>0.506329</td>\n",
       "      <td>0.0</td>\n",
       "      <td>0.144873</td>\n",
       "      <td>0.025347</td>\n",
       "    </tr>\n",
       "    <tr>\n",
       "      <th>1</th>\n",
       "      <td>0.101266</td>\n",
       "      <td>0.0</td>\n",
       "      <td>0.333333</td>\n",
       "      <td>0.333333</td>\n",
       "      <td>0.658228</td>\n",
       "      <td>0.2</td>\n",
       "      <td>0.145461</td>\n",
       "      <td>0.000000</td>\n",
       "    </tr>\n",
       "    <tr>\n",
       "      <th>2</th>\n",
       "      <td>0.620253</td>\n",
       "      <td>0.0</td>\n",
       "      <td>0.000000</td>\n",
       "      <td>0.333333</td>\n",
       "      <td>0.683544</td>\n",
       "      <td>0.2</td>\n",
       "      <td>0.380897</td>\n",
       "      <td>0.027080</td>\n",
       "    </tr>\n",
       "    <tr>\n",
       "      <th>3</th>\n",
       "      <td>0.620253</td>\n",
       "      <td>1.0</td>\n",
       "      <td>0.000000</td>\n",
       "      <td>0.333333</td>\n",
       "      <td>0.329114</td>\n",
       "      <td>0.0</td>\n",
       "      <td>0.144873</td>\n",
       "      <td>0.000000</td>\n",
       "    </tr>\n",
       "    <tr>\n",
       "      <th>4</th>\n",
       "      <td>0.012658</td>\n",
       "      <td>0.0</td>\n",
       "      <td>0.666667</td>\n",
       "      <td>0.333333</td>\n",
       "      <td>0.379747</td>\n",
       "      <td>0.2</td>\n",
       "      <td>0.172748</td>\n",
       "      <td>0.003797</td>\n",
       "    </tr>\n",
       "    <tr>\n",
       "      <th>...</th>\n",
       "      <td>...</td>\n",
       "      <td>...</td>\n",
       "      <td>...</td>\n",
       "      <td>...</td>\n",
       "      <td>...</td>\n",
       "      <td>...</td>\n",
       "      <td>...</td>\n",
       "      <td>...</td>\n",
       "    </tr>\n",
       "    <tr>\n",
       "      <th>2498</th>\n",
       "      <td>0.278481</td>\n",
       "      <td>0.0</td>\n",
       "      <td>0.666667</td>\n",
       "      <td>0.666667</td>\n",
       "      <td>0.075949</td>\n",
       "      <td>0.2</td>\n",
       "      <td>0.288811</td>\n",
       "      <td>0.000000</td>\n",
       "    </tr>\n",
       "    <tr>\n",
       "      <th>2499</th>\n",
       "      <td>0.113924</td>\n",
       "      <td>0.0</td>\n",
       "      <td>0.333333</td>\n",
       "      <td>0.666667</td>\n",
       "      <td>0.177215</td>\n",
       "      <td>0.2</td>\n",
       "      <td>0.147685</td>\n",
       "      <td>0.020505</td>\n",
       "    </tr>\n",
       "    <tr>\n",
       "      <th>2500</th>\n",
       "      <td>0.063291</td>\n",
       "      <td>1.0</td>\n",
       "      <td>0.333333</td>\n",
       "      <td>0.666667</td>\n",
       "      <td>0.050633</td>\n",
       "      <td>0.2</td>\n",
       "      <td>0.203891</td>\n",
       "      <td>0.000000</td>\n",
       "    </tr>\n",
       "    <tr>\n",
       "      <th>2501</th>\n",
       "      <td>0.379747</td>\n",
       "      <td>0.0</td>\n",
       "      <td>0.000000</td>\n",
       "      <td>0.666667</td>\n",
       "      <td>0.430380</td>\n",
       "      <td>0.0</td>\n",
       "      <td>0.146824</td>\n",
       "      <td>0.008135</td>\n",
       "    </tr>\n",
       "    <tr>\n",
       "      <th>2502</th>\n",
       "      <td>0.240506</td>\n",
       "      <td>1.0</td>\n",
       "      <td>0.666667</td>\n",
       "      <td>0.333333</td>\n",
       "      <td>0.531646</td>\n",
       "      <td>0.1</td>\n",
       "      <td>0.145657</td>\n",
       "      <td>0.002166</td>\n",
       "    </tr>\n",
       "  </tbody>\n",
       "</table>\n",
       "<p>2503 rows × 8 columns</p>\n",
       "</div>"
      ],
      "text/plain": [
       "      limit_balance  gender  education_level  marital_status       age  pay_0  \\\n",
       "0          0.240506     1.0         0.000000        0.333333  0.506329    0.0   \n",
       "1          0.101266     0.0         0.333333        0.333333  0.658228    0.2   \n",
       "2          0.620253     0.0         0.000000        0.333333  0.683544    0.2   \n",
       "3          0.620253     1.0         0.000000        0.333333  0.329114    0.0   \n",
       "4          0.012658     0.0         0.666667        0.333333  0.379747    0.2   \n",
       "...             ...     ...              ...             ...       ...    ...   \n",
       "2498       0.278481     0.0         0.666667        0.666667  0.075949    0.2   \n",
       "2499       0.113924     0.0         0.333333        0.666667  0.177215    0.2   \n",
       "2500       0.063291     1.0         0.333333        0.666667  0.050633    0.2   \n",
       "2501       0.379747     0.0         0.000000        0.666667  0.430380    0.0   \n",
       "2502       0.240506     1.0         0.666667        0.333333  0.531646    0.1   \n",
       "\n",
       "      bill_amt_6  pay_amt_4  \n",
       "0       0.144873   0.025347  \n",
       "1       0.145461   0.000000  \n",
       "2       0.380897   0.027080  \n",
       "3       0.144873   0.000000  \n",
       "4       0.172748   0.003797  \n",
       "...          ...        ...  \n",
       "2498    0.288811   0.000000  \n",
       "2499    0.147685   0.020505  \n",
       "2500    0.203891   0.000000  \n",
       "2501    0.146824   0.008135  \n",
       "2502    0.145657   0.002166  \n",
       "\n",
       "[2503 rows x 8 columns]"
      ]
     },
     "execution_count": 34,
     "metadata": {},
     "output_type": "execute_result"
    }
   ],
   "source": [
    "# membuat X-train-final menjadi dataframe\n",
    "X_train_final_df = pd.DataFrame(X_train_final, columns=['limit_balance', 'gender', 'education_level', 'marital_status', 'age',\n",
    "                                                        'pay_0', 'bill_amt_6', 'pay_amt_4'])\n",
    "X_train_final_df"
   ]
  },
  {
   "cell_type": "markdown",
   "metadata": {},
   "source": [
    "Setelah data dilakukan scaling, data setalnjutnya sudah siap dimasukkan dalam model dan dilakukan prediksi."
   ]
  },
  {
   "cell_type": "markdown",
   "metadata": {},
   "source": [
    "# 6. Pembuatan Model"
   ]
  },
  {
   "cell_type": "markdown",
   "metadata": {},
   "source": [
    "## 6.1 Model Logistic Regression"
   ]
  },
  {
   "cell_type": "markdown",
   "metadata": {},
   "source": [
    "### 6.1.1 Model Definition"
   ]
  },
  {
   "cell_type": "markdown",
   "metadata": {},
   "source": [
    "Model yang akan digunakan adalah logistic regression. Untuk memvalidasi model maka akan menggunakan cross validation dan untuk menemukan kombinasi paramater terbaik akan menggunakan gridsearch."
   ]
  },
  {
   "cell_type": "code",
   "execution_count": 35,
   "metadata": {},
   "outputs": [],
   "source": [
    "# definisikan model\n",
    "model_logistic = LogisticRegression()"
   ]
  },
  {
   "cell_type": "markdown",
   "metadata": {},
   "source": [
    "Validasi model algoritma menggunakan cross validation"
   ]
  },
  {
   "cell_type": "code",
   "execution_count": 36,
   "metadata": {},
   "outputs": [
    {
     "name": "stdout",
     "output_type": "stream",
     "text": [
      "Score 5 Cross Validation [0.82235529 0.79241517 0.82834331 0.774      0.838     ]\n",
      "rata-rata Cross Validation score :0.8110227544910179\n",
      "Standar deviasi Cross Validation score :0.023971343085059625\n"
     ]
    }
   ],
   "source": [
    "# validasi dilakukan 5 kali\n",
    "k_logistic=KFold(n_splits=5)\n",
    "\n",
    "# cross validation\n",
    "score_logistic = cross_val_score(model_logistic, X_train_final, y_train, cv=k_logistic)\n",
    "\n",
    "# tampilkan hasil validasi, rata-rata dan standar deviasi\n",
    "print(\"Score 5 Cross Validation {}\".format(score_logistic))\n",
    "print(\"rata-rata Cross Validation score :{}\".format(score_logistic.mean()))\n",
    "print(\"Standar deviasi Cross Validation score :{}\".format(score_logistic.std()))"
   ]
  },
  {
   "cell_type": "markdown",
   "metadata": {},
   "source": [
    "Diperoleh nilai validasi model dengan rata-rata 0.811 dan standar deviasi 0.024 artinya rentang akurasi dari model +- 2,4% dari nilai rata-rata akurasi yang diperoleh. Jika pada hasil train atau test memperoleh nilai akurasi model 0,787 - 0.835 berrati nilainya dapat dikatakan telah sesuai karena telah divalidasi sebanyak 5 kali."
   ]
  },
  {
   "cell_type": "markdown",
   "metadata": {},
   "source": [
    "Selanjutnya mencari kombinasi parameter yang paling bagus menggunakan Gridsearch."
   ]
  },
  {
   "cell_type": "code",
   "execution_count": 37,
   "metadata": {},
   "outputs": [],
   "source": [
    "# definisikan parameter yang akan diuji\n",
    "param_logistic = {\n",
    "                    'penalty': ['l1', 'l2', 'none'],\n",
    "                    'solver': ['newton-cg', 'lbfgs', 'liblinear'],\n",
    "                    'max_iter': [50, 100]\n",
    "}"
   ]
  },
  {
   "cell_type": "code",
   "execution_count": 38,
   "metadata": {},
   "outputs": [],
   "source": [
    "# gridseacrh dengan cross validation 5 kali\n",
    "logistic_grid = GridSearchCV(model_logistic, param_logistic, cv=5, scoring='accuracy', return_train_score=True)"
   ]
  },
  {
   "cell_type": "markdown",
   "metadata": {},
   "source": [
    "### 6.1.2 Model Training"
   ]
  },
  {
   "cell_type": "markdown",
   "metadata": {},
   "source": [
    "Setelah mendefinisikan model maka model akan dilakuka training dan untuk mencari hyperparamter yang terbaik yang digunakan dari hasil gridsearch."
   ]
  },
  {
   "cell_type": "code",
   "execution_count": 39,
   "metadata": {},
   "outputs": [
    {
     "name": "stderr",
     "output_type": "stream",
     "text": [
      "c:\\Users\\Hp\\anaconda3\\envs\\Hacktiv8\\lib\\site-packages\\sklearn\\model_selection\\_validation.py:372: FitFailedWarning: \n",
      "30 fits failed out of a total of 90.\n",
      "The score on these train-test partitions for these parameters will be set to nan.\n",
      "If these failures are not expected, you can try to debug them by setting error_score='raise'.\n",
      "\n",
      "Below are more details about the failures:\n",
      "--------------------------------------------------------------------------------\n",
      "10 fits failed with the following error:\n",
      "Traceback (most recent call last):\n",
      "  File \"c:\\Users\\Hp\\anaconda3\\envs\\Hacktiv8\\lib\\site-packages\\sklearn\\model_selection\\_validation.py\", line 680, in _fit_and_score\n",
      "    estimator.fit(X_train, y_train, **fit_params)\n",
      "  File \"c:\\Users\\Hp\\anaconda3\\envs\\Hacktiv8\\lib\\site-packages\\sklearn\\linear_model\\_logistic.py\", line 1461, in fit\n",
      "    solver = _check_solver(self.solver, self.penalty, self.dual)\n",
      "  File \"c:\\Users\\Hp\\anaconda3\\envs\\Hacktiv8\\lib\\site-packages\\sklearn\\linear_model\\_logistic.py\", line 447, in _check_solver\n",
      "    raise ValueError(\n",
      "ValueError: Solver newton-cg supports only 'l2' or 'none' penalties, got l1 penalty.\n",
      "\n",
      "--------------------------------------------------------------------------------\n",
      "10 fits failed with the following error:\n",
      "Traceback (most recent call last):\n",
      "  File \"c:\\Users\\Hp\\anaconda3\\envs\\Hacktiv8\\lib\\site-packages\\sklearn\\model_selection\\_validation.py\", line 680, in _fit_and_score\n",
      "    estimator.fit(X_train, y_train, **fit_params)\n",
      "  File \"c:\\Users\\Hp\\anaconda3\\envs\\Hacktiv8\\lib\\site-packages\\sklearn\\linear_model\\_logistic.py\", line 1461, in fit\n",
      "    solver = _check_solver(self.solver, self.penalty, self.dual)\n",
      "  File \"c:\\Users\\Hp\\anaconda3\\envs\\Hacktiv8\\lib\\site-packages\\sklearn\\linear_model\\_logistic.py\", line 447, in _check_solver\n",
      "    raise ValueError(\n",
      "ValueError: Solver lbfgs supports only 'l2' or 'none' penalties, got l1 penalty.\n",
      "\n",
      "--------------------------------------------------------------------------------\n",
      "10 fits failed with the following error:\n",
      "Traceback (most recent call last):\n",
      "  File \"c:\\Users\\Hp\\anaconda3\\envs\\Hacktiv8\\lib\\site-packages\\sklearn\\model_selection\\_validation.py\", line 680, in _fit_and_score\n",
      "    estimator.fit(X_train, y_train, **fit_params)\n",
      "  File \"c:\\Users\\Hp\\anaconda3\\envs\\Hacktiv8\\lib\\site-packages\\sklearn\\linear_model\\_logistic.py\", line 1461, in fit\n",
      "    solver = _check_solver(self.solver, self.penalty, self.dual)\n",
      "  File \"c:\\Users\\Hp\\anaconda3\\envs\\Hacktiv8\\lib\\site-packages\\sklearn\\linear_model\\_logistic.py\", line 464, in _check_solver\n",
      "    raise ValueError(\"penalty='none' is not supported for the liblinear solver\")\n",
      "ValueError: penalty='none' is not supported for the liblinear solver\n",
      "\n",
      "  warnings.warn(some_fits_failed_message, FitFailedWarning)\n",
      "c:\\Users\\Hp\\anaconda3\\envs\\Hacktiv8\\lib\\site-packages\\sklearn\\model_selection\\_search.py:969: UserWarning: One or more of the test scores are non-finite: [       nan        nan 0.82621637 0.81023313 0.81023313 0.80903234\n",
      " 0.82901238 0.82901238        nan        nan        nan 0.82621637\n",
      " 0.81023313 0.81023313 0.80903234 0.82901238 0.82901238        nan]\n",
      "  warnings.warn(\n",
      "c:\\Users\\Hp\\anaconda3\\envs\\Hacktiv8\\lib\\site-packages\\sklearn\\model_selection\\_search.py:969: UserWarning: One or more of the train scores are non-finite: [       nan        nan 0.82890589 0.81212617 0.81212617 0.81172667\n",
      " 0.8316025  0.8317024         nan        nan        nan 0.82900574\n",
      " 0.81212617 0.81212617 0.81172667 0.8316025  0.8317024         nan]\n",
      "  warnings.warn(\n"
     ]
    },
    {
     "data": {
      "text/plain": [
       "GridSearchCV(cv=5, estimator=LogisticRegression(),\n",
       "             param_grid={'max_iter': [50, 100], 'penalty': ['l1', 'l2', 'none'],\n",
       "                         'solver': ['newton-cg', 'lbfgs', 'liblinear']},\n",
       "             return_train_score=True, scoring='accuracy')"
      ]
     },
     "execution_count": 39,
     "metadata": {},
     "output_type": "execute_result"
    }
   ],
   "source": [
    "# Training model\n",
    "logistic_grid.fit(X_train_final, y_train)"
   ]
  },
  {
   "cell_type": "code",
   "execution_count": 40,
   "metadata": {},
   "outputs": [
    {
     "name": "stdout",
     "output_type": "stream",
     "text": [
      "best params: {'max_iter': 50, 'penalty': 'none', 'solver': 'newton-cg'}\n",
      "best score: 0.829012375249501\n"
     ]
    }
   ],
   "source": [
    "# kombinasi paramter terbaik\n",
    "print('best params:', logistic_grid.best_params_)\n",
    "\n",
    "# score dari kombinasi parameter terbaik\n",
    "print('best score:', logistic_grid.best_score_)\n"
   ]
  },
  {
   "cell_type": "code",
   "execution_count": 41,
   "metadata": {},
   "outputs": [
    {
     "name": "stdout",
     "output_type": "stream",
     "text": [
      "LogisticRegression(max_iter=50, penalty='none', solver='newton-cg')\n"
     ]
    }
   ],
   "source": [
    "# definisikan estemator terbaik dengan model\n",
    "logistic_best = logistic_grid.best_estimator_\n",
    "print(logistic_best)"
   ]
  },
  {
   "cell_type": "markdown",
   "metadata": {},
   "source": [
    "dari gridsearch diperoleh kombinasi paramter untuk digunakan model yaitu solver newton-gc, tidak menggunakan penalty dan max iterasi 50 kali. Hasil ini akan digunakan untuk prediksi data train dan test"
   ]
  },
  {
   "cell_type": "markdown",
   "metadata": {},
   "source": [
    "### 6.1.3 Model Evaluation"
   ]
  },
  {
   "cell_type": "markdown",
   "metadata": {},
   "source": [
    "Setelah dilakukan training model dan menggunakan hyperparameter tunning, model akan melakukan prediksi pada data train dan test"
   ]
  },
  {
   "cell_type": "code",
   "execution_count": 42,
   "metadata": {},
   "outputs": [],
   "source": [
    "# prediksi data train\n",
    "y_pred_train_log = logistic_best.predict(X_train_final)\n",
    "# prediksi data test\n",
    "y_pred_test_log = logistic_best.predict(X_test_final)"
   ]
  },
  {
   "cell_type": "markdown",
   "metadata": {},
   "source": [
    "Dilakukan evaluasi terhadapat perfoma dari model klasifikasi, evaluasi dapat dilihat akurasi, f1-score dan sebagainya.\n",
    "\n",
    "pertama, evaluasi dari hasil confusion_matrix"
   ]
  },
  {
   "cell_type": "code",
   "execution_count": 43,
   "metadata": {},
   "outputs": [
    {
     "name": "stdout",
     "output_type": "stream",
     "text": [
      "Hasil prediksi train-set\n",
      "[[1910   54]\n",
      " [ 367  172]]\n",
      "\n",
      " Hasil prediksi test-set\n",
      "[[340  11]\n",
      " [ 69  22]]\n"
     ]
    }
   ],
   "source": [
    "# hasiil train \n",
    "print('Hasil prediksi train-set')\n",
    "print(confusion_matrix(y_train, y_pred_train_log))\n",
    "\n",
    "# hasiil test\n",
    "print('\\n Hasil prediksi test-set')\n",
    "print(confusion_matrix(y_test, y_pred_test_log))"
   ]
  },
  {
   "cell_type": "markdown",
   "metadata": {},
   "source": [
    "Nilai dari confusion matrix terdapat 4 pembagian yaitu True positif dan True Negatif (aktual dan prediksi sama), False positif dan False Negatif (aktual dan prediksi berbeda). Data diklasifikan dengan benar merupakan TP+TN/jumlah seluruh data sedangkan data yang klasifikasi salah merupakan FP+FN/jumlah keseluruhan data.\n",
    "\n",
    "Untuk klasifikasi data train yang benar 1910 + 172/2503 = 0.83, data train yang salah 367+54/2503 = 0.17. Maka akurasi dari model adalah 83% karena model telah dapat mendapatkan hasil prediksi sesuai dengan aktualnya. \n",
    "\n",
    "Untuk klasifikasi data test yang benar 340 + 22/442 = 0.82, data train yang salah 69+11/442 = 0.18. Dapat dikatakan akurasi dari model adalah 82% karena model telah dapat mendapatkan hasil prediksi sesuai dengan aktualnya. \n",
    "\n",
    "Nilai akurasi dari confusion matrix ini akan sama dengan akurasi dengan classification report."
   ]
  },
  {
   "cell_type": "markdown",
   "metadata": {},
   "source": [
    "kedua, lihat dari classification_report"
   ]
  },
  {
   "cell_type": "code",
   "execution_count": 44,
   "metadata": {},
   "outputs": [
    {
     "name": "stdout",
     "output_type": "stream",
     "text": [
      "Hasil prediksi train-set\n",
      "              precision    recall  f1-score   support\n",
      "\n",
      "           0       0.84      0.97      0.90      1964\n",
      "           1       0.76      0.32      0.45       539\n",
      "\n",
      "    accuracy                           0.83      2503\n",
      "   macro avg       0.80      0.65      0.68      2503\n",
      "weighted avg       0.82      0.83      0.80      2503\n",
      "\n",
      "\n",
      " Hasil prediksi test-set\n",
      "              precision    recall  f1-score   support\n",
      "\n",
      "           0       0.83      0.97      0.89       351\n",
      "           1       0.67      0.24      0.35        91\n",
      "\n",
      "    accuracy                           0.82       442\n",
      "   macro avg       0.75      0.61      0.62       442\n",
      "weighted avg       0.80      0.82      0.78       442\n",
      "\n"
     ]
    }
   ],
   "source": [
    "# hasiil train \n",
    "print('Hasil prediksi train-set')\n",
    "print(classification_report(y_train, y_pred_train_log))\n",
    "\n",
    "# hasil test\n",
    "print('\\n Hasil prediksi test-set')\n",
    "print(classification_report(y_test, y_pred_test_log))"
   ]
  },
  {
   "cell_type": "markdown",
   "metadata": {},
   "source": [
    " Akurasi menunjukkan seberapa tepat model dalam mengklasifikasikan data, hasil akurasi dapat diperoleh dari TP+TN/jumlah keseluruhan data .Diperoleh akurasi dari model untuk data train 83% dan test 82% dimana model ini dapat dikatan cukup bagus karena dapat menempatkan klasifikasi dengan benar. Walaupun sudah cukup bagus tetapi model masih sedikit overfit dengan perbedaan 1% lebih tinggi untuk data train. Berdasarkan rentang nilai validasi nilai akurasi model 78,7 - 83,5% maka model akurasinya telah tervalidasi sesuai cross validation. \n",
    "\n",
    "Berasarkan nilai f1-score data train untuk klasifikasi label 0 hasilnya mencapai 90% sedangkan label 1 hanya 45% hal ini mungkin disebabkan karena data dari label 1 sedikit jadi model masih kurang belajar. Sama halnya dengan data test, untuk label 0 memiliki hasil yang baik mancapi 89% tetapi untuk label 1 hasilnya hanya 35%. F1-score digunakan karena nilai ini menunjukkan perbandingan rata-rata dari precision dan recall yang dibobotkan. "
   ]
  },
  {
   "cell_type": "markdown",
   "metadata": {},
   "source": [
    "### 6.1.4 Model Inference"
   ]
  },
  {
   "cell_type": "markdown",
   "metadata": {},
   "source": [
    "Model logistic yang telah ditraining dan di test sebelumnya selanjutnya akan diuji menggunakan data inference, hasil dari prediksinya akan dibandingkan dengan hasil aktualnya."
   ]
  },
  {
   "cell_type": "code",
   "execution_count": 45,
   "metadata": {},
   "outputs": [
    {
     "data": {
      "text/html": [
       "<div>\n",
       "<style scoped>\n",
       "    .dataframe tbody tr th:only-of-type {\n",
       "        vertical-align: middle;\n",
       "    }\n",
       "\n",
       "    .dataframe tbody tr th {\n",
       "        vertical-align: top;\n",
       "    }\n",
       "\n",
       "    .dataframe thead th {\n",
       "        text-align: right;\n",
       "    }\n",
       "</style>\n",
       "<table border=\"1\" class=\"dataframe\">\n",
       "  <thead>\n",
       "    <tr style=\"text-align: right;\">\n",
       "      <th></th>\n",
       "      <th>limit_balance</th>\n",
       "      <th>gender</th>\n",
       "      <th>education_level</th>\n",
       "      <th>marital_status</th>\n",
       "      <th>age</th>\n",
       "      <th>pay_0</th>\n",
       "      <th>pay_2</th>\n",
       "      <th>pay_3</th>\n",
       "      <th>pay_4</th>\n",
       "      <th>pay_5</th>\n",
       "      <th>...</th>\n",
       "      <th>bill_amt_4</th>\n",
       "      <th>bill_amt_5</th>\n",
       "      <th>bill_amt_6</th>\n",
       "      <th>pay_amt_1</th>\n",
       "      <th>pay_amt_2</th>\n",
       "      <th>pay_amt_3</th>\n",
       "      <th>pay_amt_4</th>\n",
       "      <th>pay_amt_5</th>\n",
       "      <th>pay_amt_6</th>\n",
       "      <th>default_payment_next_month</th>\n",
       "    </tr>\n",
       "  </thead>\n",
       "  <tbody>\n",
       "    <tr>\n",
       "      <th>0</th>\n",
       "      <td>420000.0</td>\n",
       "      <td>2</td>\n",
       "      <td>2</td>\n",
       "      <td>2</td>\n",
       "      <td>32.0</td>\n",
       "      <td>0.0</td>\n",
       "      <td>0.0</td>\n",
       "      <td>0.0</td>\n",
       "      <td>0.0</td>\n",
       "      <td>0</td>\n",
       "      <td>...</td>\n",
       "      <td>198925.0</td>\n",
       "      <td>175684.0</td>\n",
       "      <td>164037.0</td>\n",
       "      <td>7300.0</td>\n",
       "      <td>8839.0</td>\n",
       "      <td>8000.0</td>\n",
       "      <td>5900.0</td>\n",
       "      <td>6000.0</td>\n",
       "      <td>6000.0</td>\n",
       "      <td>0</td>\n",
       "    </tr>\n",
       "    <tr>\n",
       "      <th>1</th>\n",
       "      <td>30000.0</td>\n",
       "      <td>2</td>\n",
       "      <td>2</td>\n",
       "      <td>2</td>\n",
       "      <td>25.0</td>\n",
       "      <td>2.0</td>\n",
       "      <td>0.0</td>\n",
       "      <td>0.0</td>\n",
       "      <td>0.0</td>\n",
       "      <td>0</td>\n",
       "      <td>...</td>\n",
       "      <td>12473.0</td>\n",
       "      <td>12623.0</td>\n",
       "      <td>27460.0</td>\n",
       "      <td>1200.0</td>\n",
       "      <td>1201.0</td>\n",
       "      <td>592.0</td>\n",
       "      <td>500.0</td>\n",
       "      <td>1500.0</td>\n",
       "      <td>0.0</td>\n",
       "      <td>1</td>\n",
       "    </tr>\n",
       "    <tr>\n",
       "      <th>2</th>\n",
       "      <td>40000.0</td>\n",
       "      <td>2</td>\n",
       "      <td>3</td>\n",
       "      <td>1</td>\n",
       "      <td>60.0</td>\n",
       "      <td>0.0</td>\n",
       "      <td>0.0</td>\n",
       "      <td>0.0</td>\n",
       "      <td>0.0</td>\n",
       "      <td>0</td>\n",
       "      <td>...</td>\n",
       "      <td>21058.0</td>\n",
       "      <td>8204.0</td>\n",
       "      <td>9899.0</td>\n",
       "      <td>2000.0</td>\n",
       "      <td>3000.0</td>\n",
       "      <td>3000.0</td>\n",
       "      <td>6000.0</td>\n",
       "      <td>2000.0</td>\n",
       "      <td>2000.0</td>\n",
       "      <td>0</td>\n",
       "    </tr>\n",
       "    <tr>\n",
       "      <th>3</th>\n",
       "      <td>70000.0</td>\n",
       "      <td>2</td>\n",
       "      <td>3</td>\n",
       "      <td>3</td>\n",
       "      <td>39.0</td>\n",
       "      <td>0.0</td>\n",
       "      <td>0.0</td>\n",
       "      <td>-1.0</td>\n",
       "      <td>0.0</td>\n",
       "      <td>-1</td>\n",
       "      <td>...</td>\n",
       "      <td>15133.0</td>\n",
       "      <td>3148.0</td>\n",
       "      <td>4699.0</td>\n",
       "      <td>3000.0</td>\n",
       "      <td>11000.0</td>\n",
       "      <td>5000.0</td>\n",
       "      <td>3150.0</td>\n",
       "      <td>2000.0</td>\n",
       "      <td>4000.0</td>\n",
       "      <td>0</td>\n",
       "    </tr>\n",
       "    <tr>\n",
       "      <th>4</th>\n",
       "      <td>60000.0</td>\n",
       "      <td>2</td>\n",
       "      <td>2</td>\n",
       "      <td>2</td>\n",
       "      <td>24.0</td>\n",
       "      <td>-1.0</td>\n",
       "      <td>0.0</td>\n",
       "      <td>-1.0</td>\n",
       "      <td>0.0</td>\n",
       "      <td>0</td>\n",
       "      <td>...</td>\n",
       "      <td>10213.0</td>\n",
       "      <td>10000.0</td>\n",
       "      <td>11832.0</td>\n",
       "      <td>1020.0</td>\n",
       "      <td>9479.0</td>\n",
       "      <td>1000.0</td>\n",
       "      <td>200.0</td>\n",
       "      <td>1832.0</td>\n",
       "      <td>5889.0</td>\n",
       "      <td>0</td>\n",
       "    </tr>\n",
       "    <tr>\n",
       "      <th>5</th>\n",
       "      <td>300000.0</td>\n",
       "      <td>2</td>\n",
       "      <td>1</td>\n",
       "      <td>1</td>\n",
       "      <td>30.0</td>\n",
       "      <td>0.0</td>\n",
       "      <td>0.0</td>\n",
       "      <td>0.0</td>\n",
       "      <td>0.0</td>\n",
       "      <td>0</td>\n",
       "      <td>...</td>\n",
       "      <td>76244.0</td>\n",
       "      <td>67747.0</td>\n",
       "      <td>70389.0</td>\n",
       "      <td>3000.0</td>\n",
       "      <td>5000.0</td>\n",
       "      <td>2500.0</td>\n",
       "      <td>2500.0</td>\n",
       "      <td>3500.0</td>\n",
       "      <td>87000.0</td>\n",
       "      <td>1</td>\n",
       "    </tr>\n",
       "    <tr>\n",
       "      <th>6</th>\n",
       "      <td>500000.0</td>\n",
       "      <td>1</td>\n",
       "      <td>1</td>\n",
       "      <td>2</td>\n",
       "      <td>43.0</td>\n",
       "      <td>0.0</td>\n",
       "      <td>0.0</td>\n",
       "      <td>0.0</td>\n",
       "      <td>-1.0</td>\n",
       "      <td>-1</td>\n",
       "      <td>...</td>\n",
       "      <td>3887.0</td>\n",
       "      <td>0.0</td>\n",
       "      <td>7413.0</td>\n",
       "      <td>22650.0</td>\n",
       "      <td>0.0</td>\n",
       "      <td>3887.0</td>\n",
       "      <td>0.0</td>\n",
       "      <td>7413.0</td>\n",
       "      <td>0.0</td>\n",
       "      <td>1</td>\n",
       "    </tr>\n",
       "    <tr>\n",
       "      <th>7</th>\n",
       "      <td>490000.0</td>\n",
       "      <td>2</td>\n",
       "      <td>2</td>\n",
       "      <td>1</td>\n",
       "      <td>30.0</td>\n",
       "      <td>0.0</td>\n",
       "      <td>0.0</td>\n",
       "      <td>0.0</td>\n",
       "      <td>0.0</td>\n",
       "      <td>0</td>\n",
       "      <td>...</td>\n",
       "      <td>16995.0</td>\n",
       "      <td>-1527.0</td>\n",
       "      <td>62491.0</td>\n",
       "      <td>2003.0</td>\n",
       "      <td>2041.0</td>\n",
       "      <td>1092.0</td>\n",
       "      <td>4.0</td>\n",
       "      <td>64895.0</td>\n",
       "      <td>3003.0</td>\n",
       "      <td>0</td>\n",
       "    </tr>\n",
       "    <tr>\n",
       "      <th>8</th>\n",
       "      <td>80000.0</td>\n",
       "      <td>1</td>\n",
       "      <td>1</td>\n",
       "      <td>2</td>\n",
       "      <td>26.0</td>\n",
       "      <td>1.0</td>\n",
       "      <td>2.0</td>\n",
       "      <td>2.0</td>\n",
       "      <td>0.0</td>\n",
       "      <td>0</td>\n",
       "      <td>...</td>\n",
       "      <td>40793.0</td>\n",
       "      <td>42990.0</td>\n",
       "      <td>42854.0</td>\n",
       "      <td>2000.0</td>\n",
       "      <td>0.0</td>\n",
       "      <td>1603.0</td>\n",
       "      <td>3000.0</td>\n",
       "      <td>2000.0</td>\n",
       "      <td>1056.0</td>\n",
       "      <td>0</td>\n",
       "    </tr>\n",
       "    <tr>\n",
       "      <th>9</th>\n",
       "      <td>130000.0</td>\n",
       "      <td>2</td>\n",
       "      <td>2</td>\n",
       "      <td>1</td>\n",
       "      <td>34.0</td>\n",
       "      <td>2.0</td>\n",
       "      <td>2.0</td>\n",
       "      <td>2.0</td>\n",
       "      <td>2.0</td>\n",
       "      <td>2</td>\n",
       "      <td>...</td>\n",
       "      <td>32336.0</td>\n",
       "      <td>34186.0</td>\n",
       "      <td>34588.0</td>\n",
       "      <td>2500.0</td>\n",
       "      <td>3000.0</td>\n",
       "      <td>0.0</td>\n",
       "      <td>2600.0</td>\n",
       "      <td>1000.0</td>\n",
       "      <td>1500.0</td>\n",
       "      <td>1</td>\n",
       "    </tr>\n",
       "    <tr>\n",
       "      <th>10</th>\n",
       "      <td>20000.0</td>\n",
       "      <td>2</td>\n",
       "      <td>1</td>\n",
       "      <td>2</td>\n",
       "      <td>25.0</td>\n",
       "      <td>1.0</td>\n",
       "      <td>2.0</td>\n",
       "      <td>0.0</td>\n",
       "      <td>0.0</td>\n",
       "      <td>0</td>\n",
       "      <td>...</td>\n",
       "      <td>17000.0</td>\n",
       "      <td>17000.0</td>\n",
       "      <td>20000.0</td>\n",
       "      <td>2.0</td>\n",
       "      <td>2000.0</td>\n",
       "      <td>3000.0</td>\n",
       "      <td>0.0</td>\n",
       "      <td>3000.0</td>\n",
       "      <td>0.0</td>\n",
       "      <td>0</td>\n",
       "    </tr>\n",
       "    <tr>\n",
       "      <th>11</th>\n",
       "      <td>310000.0</td>\n",
       "      <td>1</td>\n",
       "      <td>2</td>\n",
       "      <td>2</td>\n",
       "      <td>45.0</td>\n",
       "      <td>-1.0</td>\n",
       "      <td>-1.0</td>\n",
       "      <td>-1.0</td>\n",
       "      <td>-1.0</td>\n",
       "      <td>-1</td>\n",
       "      <td>...</td>\n",
       "      <td>1788.0</td>\n",
       "      <td>1927.0</td>\n",
       "      <td>553.0</td>\n",
       "      <td>1217.0</td>\n",
       "      <td>31967.0</td>\n",
       "      <td>1796.0</td>\n",
       "      <td>1936.0</td>\n",
       "      <td>556.0</td>\n",
       "      <td>15664.0</td>\n",
       "      <td>0</td>\n",
       "    </tr>\n",
       "    <tr>\n",
       "      <th>12</th>\n",
       "      <td>200000.0</td>\n",
       "      <td>2</td>\n",
       "      <td>1</td>\n",
       "      <td>1</td>\n",
       "      <td>49.0</td>\n",
       "      <td>-1.0</td>\n",
       "      <td>-1.0</td>\n",
       "      <td>-1.0</td>\n",
       "      <td>-1.0</td>\n",
       "      <td>-2</td>\n",
       "      <td>...</td>\n",
       "      <td>0.0</td>\n",
       "      <td>0.0</td>\n",
       "      <td>0.0</td>\n",
       "      <td>0.0</td>\n",
       "      <td>103.0</td>\n",
       "      <td>0.0</td>\n",
       "      <td>0.0</td>\n",
       "      <td>0.0</td>\n",
       "      <td>225.0</td>\n",
       "      <td>0</td>\n",
       "    </tr>\n",
       "    <tr>\n",
       "      <th>13</th>\n",
       "      <td>230000.0</td>\n",
       "      <td>2</td>\n",
       "      <td>3</td>\n",
       "      <td>1</td>\n",
       "      <td>66.0</td>\n",
       "      <td>-2.0</td>\n",
       "      <td>-2.0</td>\n",
       "      <td>-2.0</td>\n",
       "      <td>-2.0</td>\n",
       "      <td>-2</td>\n",
       "      <td>...</td>\n",
       "      <td>1614.0</td>\n",
       "      <td>0.0</td>\n",
       "      <td>2800.0</td>\n",
       "      <td>5580.0</td>\n",
       "      <td>500.0</td>\n",
       "      <td>1614.0</td>\n",
       "      <td>0.0</td>\n",
       "      <td>2800.0</td>\n",
       "      <td>0.0</td>\n",
       "      <td>0</td>\n",
       "    </tr>\n",
       "    <tr>\n",
       "      <th>14</th>\n",
       "      <td>50000.0</td>\n",
       "      <td>2</td>\n",
       "      <td>2</td>\n",
       "      <td>2</td>\n",
       "      <td>23.0</td>\n",
       "      <td>0.0</td>\n",
       "      <td>0.0</td>\n",
       "      <td>0.0</td>\n",
       "      <td>0.0</td>\n",
       "      <td>0</td>\n",
       "      <td>...</td>\n",
       "      <td>10078.0</td>\n",
       "      <td>9654.0</td>\n",
       "      <td>9648.0</td>\n",
       "      <td>1649.0</td>\n",
       "      <td>1300.0</td>\n",
       "      <td>500.0</td>\n",
       "      <td>500.0</td>\n",
       "      <td>300.0</td>\n",
       "      <td>500.0</td>\n",
       "      <td>0</td>\n",
       "    </tr>\n",
       "    <tr>\n",
       "      <th>15</th>\n",
       "      <td>150000.0</td>\n",
       "      <td>2</td>\n",
       "      <td>2</td>\n",
       "      <td>2</td>\n",
       "      <td>35.0</td>\n",
       "      <td>0.0</td>\n",
       "      <td>0.0</td>\n",
       "      <td>0.0</td>\n",
       "      <td>0.0</td>\n",
       "      <td>0</td>\n",
       "      <td>...</td>\n",
       "      <td>55182.0</td>\n",
       "      <td>48983.0</td>\n",
       "      <td>50136.0</td>\n",
       "      <td>3500.0</td>\n",
       "      <td>2000.0</td>\n",
       "      <td>20000.0</td>\n",
       "      <td>2000.0</td>\n",
       "      <td>2000.0</td>\n",
       "      <td>2000.0</td>\n",
       "      <td>0</td>\n",
       "    </tr>\n",
       "    <tr>\n",
       "      <th>16</th>\n",
       "      <td>90000.0</td>\n",
       "      <td>2</td>\n",
       "      <td>1</td>\n",
       "      <td>2</td>\n",
       "      <td>27.0</td>\n",
       "      <td>0.0</td>\n",
       "      <td>0.0</td>\n",
       "      <td>0.0</td>\n",
       "      <td>0.0</td>\n",
       "      <td>0</td>\n",
       "      <td>...</td>\n",
       "      <td>62643.0</td>\n",
       "      <td>59265.0</td>\n",
       "      <td>59046.0</td>\n",
       "      <td>2400.0</td>\n",
       "      <td>2518.0</td>\n",
       "      <td>2514.0</td>\n",
       "      <td>2100.0</td>\n",
       "      <td>2500.0</td>\n",
       "      <td>2500.0</td>\n",
       "      <td>0</td>\n",
       "    </tr>\n",
       "    <tr>\n",
       "      <th>17</th>\n",
       "      <td>60000.0</td>\n",
       "      <td>1</td>\n",
       "      <td>1</td>\n",
       "      <td>2</td>\n",
       "      <td>29.0</td>\n",
       "      <td>-1.0</td>\n",
       "      <td>-1.0</td>\n",
       "      <td>2.0</td>\n",
       "      <td>0.0</td>\n",
       "      <td>-1</td>\n",
       "      <td>...</td>\n",
       "      <td>1634.0</td>\n",
       "      <td>1335.0</td>\n",
       "      <td>1825.0</td>\n",
       "      <td>2440.0</td>\n",
       "      <td>0.0</td>\n",
       "      <td>1000.0</td>\n",
       "      <td>1335.0</td>\n",
       "      <td>888.0</td>\n",
       "      <td>150.0</td>\n",
       "      <td>0</td>\n",
       "    </tr>\n",
       "    <tr>\n",
       "      <th>18</th>\n",
       "      <td>110000.0</td>\n",
       "      <td>1</td>\n",
       "      <td>1</td>\n",
       "      <td>2</td>\n",
       "      <td>33.0</td>\n",
       "      <td>0.0</td>\n",
       "      <td>0.0</td>\n",
       "      <td>0.0</td>\n",
       "      <td>0.0</td>\n",
       "      <td>0</td>\n",
       "      <td>...</td>\n",
       "      <td>57066.0</td>\n",
       "      <td>112716.0</td>\n",
       "      <td>57044.0</td>\n",
       "      <td>4000.0</td>\n",
       "      <td>2800.0</td>\n",
       "      <td>2200.0</td>\n",
       "      <td>2200.0</td>\n",
       "      <td>3000.0</td>\n",
       "      <td>2000.0</td>\n",
       "      <td>0</td>\n",
       "    </tr>\n",
       "    <tr>\n",
       "      <th>19</th>\n",
       "      <td>10000.0</td>\n",
       "      <td>1</td>\n",
       "      <td>2</td>\n",
       "      <td>2</td>\n",
       "      <td>43.0</td>\n",
       "      <td>2.0</td>\n",
       "      <td>-1.0</td>\n",
       "      <td>-1.0</td>\n",
       "      <td>-1.0</td>\n",
       "      <td>-1</td>\n",
       "      <td>...</td>\n",
       "      <td>5954.0</td>\n",
       "      <td>0.0</td>\n",
       "      <td>1308.0</td>\n",
       "      <td>608.0</td>\n",
       "      <td>700.0</td>\n",
       "      <td>5954.0</td>\n",
       "      <td>0.0</td>\n",
       "      <td>1308.0</td>\n",
       "      <td>0.0</td>\n",
       "      <td>1</td>\n",
       "    </tr>\n",
       "  </tbody>\n",
       "</table>\n",
       "<p>20 rows × 24 columns</p>\n",
       "</div>"
      ],
      "text/plain": [
       "    limit_balance  gender  education_level  marital_status   age  pay_0  \\\n",
       "0        420000.0       2                2               2  32.0    0.0   \n",
       "1         30000.0       2                2               2  25.0    2.0   \n",
       "2         40000.0       2                3               1  60.0    0.0   \n",
       "3         70000.0       2                3               3  39.0    0.0   \n",
       "4         60000.0       2                2               2  24.0   -1.0   \n",
       "5        300000.0       2                1               1  30.0    0.0   \n",
       "6        500000.0       1                1               2  43.0    0.0   \n",
       "7        490000.0       2                2               1  30.0    0.0   \n",
       "8         80000.0       1                1               2  26.0    1.0   \n",
       "9        130000.0       2                2               1  34.0    2.0   \n",
       "10        20000.0       2                1               2  25.0    1.0   \n",
       "11       310000.0       1                2               2  45.0   -1.0   \n",
       "12       200000.0       2                1               1  49.0   -1.0   \n",
       "13       230000.0       2                3               1  66.0   -2.0   \n",
       "14        50000.0       2                2               2  23.0    0.0   \n",
       "15       150000.0       2                2               2  35.0    0.0   \n",
       "16        90000.0       2                1               2  27.0    0.0   \n",
       "17        60000.0       1                1               2  29.0   -1.0   \n",
       "18       110000.0       1                1               2  33.0    0.0   \n",
       "19        10000.0       1                2               2  43.0    2.0   \n",
       "\n",
       "    pay_2  pay_3  pay_4  pay_5  ...  bill_amt_4  bill_amt_5  bill_amt_6  \\\n",
       "0     0.0    0.0    0.0      0  ...    198925.0    175684.0    164037.0   \n",
       "1     0.0    0.0    0.0      0  ...     12473.0     12623.0     27460.0   \n",
       "2     0.0    0.0    0.0      0  ...     21058.0      8204.0      9899.0   \n",
       "3     0.0   -1.0    0.0     -1  ...     15133.0      3148.0      4699.0   \n",
       "4     0.0   -1.0    0.0      0  ...     10213.0     10000.0     11832.0   \n",
       "5     0.0    0.0    0.0      0  ...     76244.0     67747.0     70389.0   \n",
       "6     0.0    0.0   -1.0     -1  ...      3887.0         0.0      7413.0   \n",
       "7     0.0    0.0    0.0      0  ...     16995.0     -1527.0     62491.0   \n",
       "8     2.0    2.0    0.0      0  ...     40793.0     42990.0     42854.0   \n",
       "9     2.0    2.0    2.0      2  ...     32336.0     34186.0     34588.0   \n",
       "10    2.0    0.0    0.0      0  ...     17000.0     17000.0     20000.0   \n",
       "11   -1.0   -1.0   -1.0     -1  ...      1788.0      1927.0       553.0   \n",
       "12   -1.0   -1.0   -1.0     -2  ...         0.0         0.0         0.0   \n",
       "13   -2.0   -2.0   -2.0     -2  ...      1614.0         0.0      2800.0   \n",
       "14    0.0    0.0    0.0      0  ...     10078.0      9654.0      9648.0   \n",
       "15    0.0    0.0    0.0      0  ...     55182.0     48983.0     50136.0   \n",
       "16    0.0    0.0    0.0      0  ...     62643.0     59265.0     59046.0   \n",
       "17   -1.0    2.0    0.0     -1  ...      1634.0      1335.0      1825.0   \n",
       "18    0.0    0.0    0.0      0  ...     57066.0    112716.0     57044.0   \n",
       "19   -1.0   -1.0   -1.0     -1  ...      5954.0         0.0      1308.0   \n",
       "\n",
       "    pay_amt_1  pay_amt_2  pay_amt_3  pay_amt_4  pay_amt_5  pay_amt_6  \\\n",
       "0      7300.0     8839.0     8000.0     5900.0     6000.0     6000.0   \n",
       "1      1200.0     1201.0      592.0      500.0     1500.0        0.0   \n",
       "2      2000.0     3000.0     3000.0     6000.0     2000.0     2000.0   \n",
       "3      3000.0    11000.0     5000.0     3150.0     2000.0     4000.0   \n",
       "4      1020.0     9479.0     1000.0      200.0     1832.0     5889.0   \n",
       "5      3000.0     5000.0     2500.0     2500.0     3500.0    87000.0   \n",
       "6     22650.0        0.0     3887.0        0.0     7413.0        0.0   \n",
       "7      2003.0     2041.0     1092.0        4.0    64895.0     3003.0   \n",
       "8      2000.0        0.0     1603.0     3000.0     2000.0     1056.0   \n",
       "9      2500.0     3000.0        0.0     2600.0     1000.0     1500.0   \n",
       "10        2.0     2000.0     3000.0        0.0     3000.0        0.0   \n",
       "11     1217.0    31967.0     1796.0     1936.0      556.0    15664.0   \n",
       "12        0.0      103.0        0.0        0.0        0.0      225.0   \n",
       "13     5580.0      500.0     1614.0        0.0     2800.0        0.0   \n",
       "14     1649.0     1300.0      500.0      500.0      300.0      500.0   \n",
       "15     3500.0     2000.0    20000.0     2000.0     2000.0     2000.0   \n",
       "16     2400.0     2518.0     2514.0     2100.0     2500.0     2500.0   \n",
       "17     2440.0        0.0     1000.0     1335.0      888.0      150.0   \n",
       "18     4000.0     2800.0     2200.0     2200.0     3000.0     2000.0   \n",
       "19      608.0      700.0     5954.0        0.0     1308.0        0.0   \n",
       "\n",
       "    default_payment_next_month  \n",
       "0                            0  \n",
       "1                            1  \n",
       "2                            0  \n",
       "3                            0  \n",
       "4                            0  \n",
       "5                            1  \n",
       "6                            1  \n",
       "7                            0  \n",
       "8                            0  \n",
       "9                            1  \n",
       "10                           0  \n",
       "11                           0  \n",
       "12                           0  \n",
       "13                           0  \n",
       "14                           0  \n",
       "15                           0  \n",
       "16                           0  \n",
       "17                           0  \n",
       "18                           0  \n",
       "19                           1  \n",
       "\n",
       "[20 rows x 24 columns]"
      ]
     },
     "execution_count": 45,
     "metadata": {},
     "output_type": "execute_result"
    }
   ],
   "source": [
    "# tampilkan data inference\n",
    "data_inf"
   ]
  },
  {
   "cell_type": "markdown",
   "metadata": {},
   "source": [
    "Lakukan feature selection, scaling dan mengubah dalam dataframe"
   ]
  },
  {
   "cell_type": "code",
   "execution_count": 46,
   "metadata": {},
   "outputs": [],
   "source": [
    "# Drop Column untuk menyesuaikan model\n",
    "data_inf_drop = data_inf.drop(['pay_2', 'pay_3', 'pay_4', 'pay_5', 'pay_6', 'bill_amt_1',\n",
    "            'bill_amt_2', 'bill_amt_3', 'bill_amt_4', 'bill_amt_5',\n",
    "            'pay_amt_1', 'pay_amt_2', 'pay_amt_3', 'pay_amt_5','pay_amt_6', 'default_payment_next_month'], axis=1)"
   ]
  },
  {
   "cell_type": "code",
   "execution_count": 47,
   "metadata": {},
   "outputs": [],
   "source": [
    "#scaling\n",
    "data_inf_final = scaler.transform(data_inf_drop)"
   ]
  },
  {
   "cell_type": "code",
   "execution_count": 48,
   "metadata": {},
   "outputs": [
    {
     "data": {
      "text/plain": [
       "array([0, 1, 0, 0, 0, 0, 0, 0, 0, 1, 0, 0, 0, 0, 0, 0, 0, 0, 0, 1],\n",
       "      dtype=int64)"
      ]
     },
     "execution_count": 48,
     "metadata": {},
     "output_type": "execute_result"
    }
   ],
   "source": [
    "# Mempediksi data Inference\n",
    "y_pred_inf_log = logistic_best.predict(data_inf_final)\n",
    "y_pred_inf_log"
   ]
  },
  {
   "cell_type": "code",
   "execution_count": 49,
   "metadata": {},
   "outputs": [
    {
     "data": {
      "text/html": [
       "<div>\n",
       "<style scoped>\n",
       "    .dataframe tbody tr th:only-of-type {\n",
       "        vertical-align: middle;\n",
       "    }\n",
       "\n",
       "    .dataframe tbody tr th {\n",
       "        vertical-align: top;\n",
       "    }\n",
       "\n",
       "    .dataframe thead th {\n",
       "        text-align: right;\n",
       "    }\n",
       "</style>\n",
       "<table border=\"1\" class=\"dataframe\">\n",
       "  <thead>\n",
       "    <tr style=\"text-align: right;\">\n",
       "      <th></th>\n",
       "      <th>limit_balance</th>\n",
       "      <th>gender</th>\n",
       "      <th>education_level</th>\n",
       "      <th>marital_status</th>\n",
       "      <th>age</th>\n",
       "      <th>pay_0</th>\n",
       "      <th>pay_2</th>\n",
       "      <th>pay_3</th>\n",
       "      <th>pay_4</th>\n",
       "      <th>pay_5</th>\n",
       "      <th>...</th>\n",
       "      <th>bill_amt_5</th>\n",
       "      <th>bill_amt_6</th>\n",
       "      <th>pay_amt_1</th>\n",
       "      <th>pay_amt_2</th>\n",
       "      <th>pay_amt_3</th>\n",
       "      <th>pay_amt_4</th>\n",
       "      <th>pay_amt_5</th>\n",
       "      <th>pay_amt_6</th>\n",
       "      <th>default_payment_next_month</th>\n",
       "      <th>default payment-Prediction</th>\n",
       "    </tr>\n",
       "  </thead>\n",
       "  <tbody>\n",
       "    <tr>\n",
       "      <th>0</th>\n",
       "      <td>420000.0</td>\n",
       "      <td>2</td>\n",
       "      <td>2</td>\n",
       "      <td>2</td>\n",
       "      <td>32.0</td>\n",
       "      <td>0.0</td>\n",
       "      <td>0.0</td>\n",
       "      <td>0.0</td>\n",
       "      <td>0.0</td>\n",
       "      <td>0</td>\n",
       "      <td>...</td>\n",
       "      <td>175684.0</td>\n",
       "      <td>164037.0</td>\n",
       "      <td>7300.0</td>\n",
       "      <td>8839.0</td>\n",
       "      <td>8000.0</td>\n",
       "      <td>5900.0</td>\n",
       "      <td>6000.0</td>\n",
       "      <td>6000.0</td>\n",
       "      <td>0</td>\n",
       "      <td>0</td>\n",
       "    </tr>\n",
       "    <tr>\n",
       "      <th>1</th>\n",
       "      <td>30000.0</td>\n",
       "      <td>2</td>\n",
       "      <td>2</td>\n",
       "      <td>2</td>\n",
       "      <td>25.0</td>\n",
       "      <td>2.0</td>\n",
       "      <td>0.0</td>\n",
       "      <td>0.0</td>\n",
       "      <td>0.0</td>\n",
       "      <td>0</td>\n",
       "      <td>...</td>\n",
       "      <td>12623.0</td>\n",
       "      <td>27460.0</td>\n",
       "      <td>1200.0</td>\n",
       "      <td>1201.0</td>\n",
       "      <td>592.0</td>\n",
       "      <td>500.0</td>\n",
       "      <td>1500.0</td>\n",
       "      <td>0.0</td>\n",
       "      <td>1</td>\n",
       "      <td>1</td>\n",
       "    </tr>\n",
       "    <tr>\n",
       "      <th>2</th>\n",
       "      <td>40000.0</td>\n",
       "      <td>2</td>\n",
       "      <td>3</td>\n",
       "      <td>1</td>\n",
       "      <td>60.0</td>\n",
       "      <td>0.0</td>\n",
       "      <td>0.0</td>\n",
       "      <td>0.0</td>\n",
       "      <td>0.0</td>\n",
       "      <td>0</td>\n",
       "      <td>...</td>\n",
       "      <td>8204.0</td>\n",
       "      <td>9899.0</td>\n",
       "      <td>2000.0</td>\n",
       "      <td>3000.0</td>\n",
       "      <td>3000.0</td>\n",
       "      <td>6000.0</td>\n",
       "      <td>2000.0</td>\n",
       "      <td>2000.0</td>\n",
       "      <td>0</td>\n",
       "      <td>0</td>\n",
       "    </tr>\n",
       "    <tr>\n",
       "      <th>3</th>\n",
       "      <td>70000.0</td>\n",
       "      <td>2</td>\n",
       "      <td>3</td>\n",
       "      <td>3</td>\n",
       "      <td>39.0</td>\n",
       "      <td>0.0</td>\n",
       "      <td>0.0</td>\n",
       "      <td>-1.0</td>\n",
       "      <td>0.0</td>\n",
       "      <td>-1</td>\n",
       "      <td>...</td>\n",
       "      <td>3148.0</td>\n",
       "      <td>4699.0</td>\n",
       "      <td>3000.0</td>\n",
       "      <td>11000.0</td>\n",
       "      <td>5000.0</td>\n",
       "      <td>3150.0</td>\n",
       "      <td>2000.0</td>\n",
       "      <td>4000.0</td>\n",
       "      <td>0</td>\n",
       "      <td>0</td>\n",
       "    </tr>\n",
       "    <tr>\n",
       "      <th>4</th>\n",
       "      <td>60000.0</td>\n",
       "      <td>2</td>\n",
       "      <td>2</td>\n",
       "      <td>2</td>\n",
       "      <td>24.0</td>\n",
       "      <td>-1.0</td>\n",
       "      <td>0.0</td>\n",
       "      <td>-1.0</td>\n",
       "      <td>0.0</td>\n",
       "      <td>0</td>\n",
       "      <td>...</td>\n",
       "      <td>10000.0</td>\n",
       "      <td>11832.0</td>\n",
       "      <td>1020.0</td>\n",
       "      <td>9479.0</td>\n",
       "      <td>1000.0</td>\n",
       "      <td>200.0</td>\n",
       "      <td>1832.0</td>\n",
       "      <td>5889.0</td>\n",
       "      <td>0</td>\n",
       "      <td>0</td>\n",
       "    </tr>\n",
       "    <tr>\n",
       "      <th>5</th>\n",
       "      <td>300000.0</td>\n",
       "      <td>2</td>\n",
       "      <td>1</td>\n",
       "      <td>1</td>\n",
       "      <td>30.0</td>\n",
       "      <td>0.0</td>\n",
       "      <td>0.0</td>\n",
       "      <td>0.0</td>\n",
       "      <td>0.0</td>\n",
       "      <td>0</td>\n",
       "      <td>...</td>\n",
       "      <td>67747.0</td>\n",
       "      <td>70389.0</td>\n",
       "      <td>3000.0</td>\n",
       "      <td>5000.0</td>\n",
       "      <td>2500.0</td>\n",
       "      <td>2500.0</td>\n",
       "      <td>3500.0</td>\n",
       "      <td>87000.0</td>\n",
       "      <td>1</td>\n",
       "      <td>0</td>\n",
       "    </tr>\n",
       "    <tr>\n",
       "      <th>6</th>\n",
       "      <td>500000.0</td>\n",
       "      <td>1</td>\n",
       "      <td>1</td>\n",
       "      <td>2</td>\n",
       "      <td>43.0</td>\n",
       "      <td>0.0</td>\n",
       "      <td>0.0</td>\n",
       "      <td>0.0</td>\n",
       "      <td>-1.0</td>\n",
       "      <td>-1</td>\n",
       "      <td>...</td>\n",
       "      <td>0.0</td>\n",
       "      <td>7413.0</td>\n",
       "      <td>22650.0</td>\n",
       "      <td>0.0</td>\n",
       "      <td>3887.0</td>\n",
       "      <td>0.0</td>\n",
       "      <td>7413.0</td>\n",
       "      <td>0.0</td>\n",
       "      <td>1</td>\n",
       "      <td>0</td>\n",
       "    </tr>\n",
       "    <tr>\n",
       "      <th>7</th>\n",
       "      <td>490000.0</td>\n",
       "      <td>2</td>\n",
       "      <td>2</td>\n",
       "      <td>1</td>\n",
       "      <td>30.0</td>\n",
       "      <td>0.0</td>\n",
       "      <td>0.0</td>\n",
       "      <td>0.0</td>\n",
       "      <td>0.0</td>\n",
       "      <td>0</td>\n",
       "      <td>...</td>\n",
       "      <td>-1527.0</td>\n",
       "      <td>62491.0</td>\n",
       "      <td>2003.0</td>\n",
       "      <td>2041.0</td>\n",
       "      <td>1092.0</td>\n",
       "      <td>4.0</td>\n",
       "      <td>64895.0</td>\n",
       "      <td>3003.0</td>\n",
       "      <td>0</td>\n",
       "      <td>0</td>\n",
       "    </tr>\n",
       "    <tr>\n",
       "      <th>8</th>\n",
       "      <td>80000.0</td>\n",
       "      <td>1</td>\n",
       "      <td>1</td>\n",
       "      <td>2</td>\n",
       "      <td>26.0</td>\n",
       "      <td>1.0</td>\n",
       "      <td>2.0</td>\n",
       "      <td>2.0</td>\n",
       "      <td>0.0</td>\n",
       "      <td>0</td>\n",
       "      <td>...</td>\n",
       "      <td>42990.0</td>\n",
       "      <td>42854.0</td>\n",
       "      <td>2000.0</td>\n",
       "      <td>0.0</td>\n",
       "      <td>1603.0</td>\n",
       "      <td>3000.0</td>\n",
       "      <td>2000.0</td>\n",
       "      <td>1056.0</td>\n",
       "      <td>0</td>\n",
       "      <td>0</td>\n",
       "    </tr>\n",
       "    <tr>\n",
       "      <th>9</th>\n",
       "      <td>130000.0</td>\n",
       "      <td>2</td>\n",
       "      <td>2</td>\n",
       "      <td>1</td>\n",
       "      <td>34.0</td>\n",
       "      <td>2.0</td>\n",
       "      <td>2.0</td>\n",
       "      <td>2.0</td>\n",
       "      <td>2.0</td>\n",
       "      <td>2</td>\n",
       "      <td>...</td>\n",
       "      <td>34186.0</td>\n",
       "      <td>34588.0</td>\n",
       "      <td>2500.0</td>\n",
       "      <td>3000.0</td>\n",
       "      <td>0.0</td>\n",
       "      <td>2600.0</td>\n",
       "      <td>1000.0</td>\n",
       "      <td>1500.0</td>\n",
       "      <td>1</td>\n",
       "      <td>1</td>\n",
       "    </tr>\n",
       "    <tr>\n",
       "      <th>10</th>\n",
       "      <td>20000.0</td>\n",
       "      <td>2</td>\n",
       "      <td>1</td>\n",
       "      <td>2</td>\n",
       "      <td>25.0</td>\n",
       "      <td>1.0</td>\n",
       "      <td>2.0</td>\n",
       "      <td>0.0</td>\n",
       "      <td>0.0</td>\n",
       "      <td>0</td>\n",
       "      <td>...</td>\n",
       "      <td>17000.0</td>\n",
       "      <td>20000.0</td>\n",
       "      <td>2.0</td>\n",
       "      <td>2000.0</td>\n",
       "      <td>3000.0</td>\n",
       "      <td>0.0</td>\n",
       "      <td>3000.0</td>\n",
       "      <td>0.0</td>\n",
       "      <td>0</td>\n",
       "      <td>0</td>\n",
       "    </tr>\n",
       "    <tr>\n",
       "      <th>11</th>\n",
       "      <td>310000.0</td>\n",
       "      <td>1</td>\n",
       "      <td>2</td>\n",
       "      <td>2</td>\n",
       "      <td>45.0</td>\n",
       "      <td>-1.0</td>\n",
       "      <td>-1.0</td>\n",
       "      <td>-1.0</td>\n",
       "      <td>-1.0</td>\n",
       "      <td>-1</td>\n",
       "      <td>...</td>\n",
       "      <td>1927.0</td>\n",
       "      <td>553.0</td>\n",
       "      <td>1217.0</td>\n",
       "      <td>31967.0</td>\n",
       "      <td>1796.0</td>\n",
       "      <td>1936.0</td>\n",
       "      <td>556.0</td>\n",
       "      <td>15664.0</td>\n",
       "      <td>0</td>\n",
       "      <td>0</td>\n",
       "    </tr>\n",
       "    <tr>\n",
       "      <th>12</th>\n",
       "      <td>200000.0</td>\n",
       "      <td>2</td>\n",
       "      <td>1</td>\n",
       "      <td>1</td>\n",
       "      <td>49.0</td>\n",
       "      <td>-1.0</td>\n",
       "      <td>-1.0</td>\n",
       "      <td>-1.0</td>\n",
       "      <td>-1.0</td>\n",
       "      <td>-2</td>\n",
       "      <td>...</td>\n",
       "      <td>0.0</td>\n",
       "      <td>0.0</td>\n",
       "      <td>0.0</td>\n",
       "      <td>103.0</td>\n",
       "      <td>0.0</td>\n",
       "      <td>0.0</td>\n",
       "      <td>0.0</td>\n",
       "      <td>225.0</td>\n",
       "      <td>0</td>\n",
       "      <td>0</td>\n",
       "    </tr>\n",
       "    <tr>\n",
       "      <th>13</th>\n",
       "      <td>230000.0</td>\n",
       "      <td>2</td>\n",
       "      <td>3</td>\n",
       "      <td>1</td>\n",
       "      <td>66.0</td>\n",
       "      <td>-2.0</td>\n",
       "      <td>-2.0</td>\n",
       "      <td>-2.0</td>\n",
       "      <td>-2.0</td>\n",
       "      <td>-2</td>\n",
       "      <td>...</td>\n",
       "      <td>0.0</td>\n",
       "      <td>2800.0</td>\n",
       "      <td>5580.0</td>\n",
       "      <td>500.0</td>\n",
       "      <td>1614.0</td>\n",
       "      <td>0.0</td>\n",
       "      <td>2800.0</td>\n",
       "      <td>0.0</td>\n",
       "      <td>0</td>\n",
       "      <td>0</td>\n",
       "    </tr>\n",
       "    <tr>\n",
       "      <th>14</th>\n",
       "      <td>50000.0</td>\n",
       "      <td>2</td>\n",
       "      <td>2</td>\n",
       "      <td>2</td>\n",
       "      <td>23.0</td>\n",
       "      <td>0.0</td>\n",
       "      <td>0.0</td>\n",
       "      <td>0.0</td>\n",
       "      <td>0.0</td>\n",
       "      <td>0</td>\n",
       "      <td>...</td>\n",
       "      <td>9654.0</td>\n",
       "      <td>9648.0</td>\n",
       "      <td>1649.0</td>\n",
       "      <td>1300.0</td>\n",
       "      <td>500.0</td>\n",
       "      <td>500.0</td>\n",
       "      <td>300.0</td>\n",
       "      <td>500.0</td>\n",
       "      <td>0</td>\n",
       "      <td>0</td>\n",
       "    </tr>\n",
       "    <tr>\n",
       "      <th>15</th>\n",
       "      <td>150000.0</td>\n",
       "      <td>2</td>\n",
       "      <td>2</td>\n",
       "      <td>2</td>\n",
       "      <td>35.0</td>\n",
       "      <td>0.0</td>\n",
       "      <td>0.0</td>\n",
       "      <td>0.0</td>\n",
       "      <td>0.0</td>\n",
       "      <td>0</td>\n",
       "      <td>...</td>\n",
       "      <td>48983.0</td>\n",
       "      <td>50136.0</td>\n",
       "      <td>3500.0</td>\n",
       "      <td>2000.0</td>\n",
       "      <td>20000.0</td>\n",
       "      <td>2000.0</td>\n",
       "      <td>2000.0</td>\n",
       "      <td>2000.0</td>\n",
       "      <td>0</td>\n",
       "      <td>0</td>\n",
       "    </tr>\n",
       "    <tr>\n",
       "      <th>16</th>\n",
       "      <td>90000.0</td>\n",
       "      <td>2</td>\n",
       "      <td>1</td>\n",
       "      <td>2</td>\n",
       "      <td>27.0</td>\n",
       "      <td>0.0</td>\n",
       "      <td>0.0</td>\n",
       "      <td>0.0</td>\n",
       "      <td>0.0</td>\n",
       "      <td>0</td>\n",
       "      <td>...</td>\n",
       "      <td>59265.0</td>\n",
       "      <td>59046.0</td>\n",
       "      <td>2400.0</td>\n",
       "      <td>2518.0</td>\n",
       "      <td>2514.0</td>\n",
       "      <td>2100.0</td>\n",
       "      <td>2500.0</td>\n",
       "      <td>2500.0</td>\n",
       "      <td>0</td>\n",
       "      <td>0</td>\n",
       "    </tr>\n",
       "    <tr>\n",
       "      <th>17</th>\n",
       "      <td>60000.0</td>\n",
       "      <td>1</td>\n",
       "      <td>1</td>\n",
       "      <td>2</td>\n",
       "      <td>29.0</td>\n",
       "      <td>-1.0</td>\n",
       "      <td>-1.0</td>\n",
       "      <td>2.0</td>\n",
       "      <td>0.0</td>\n",
       "      <td>-1</td>\n",
       "      <td>...</td>\n",
       "      <td>1335.0</td>\n",
       "      <td>1825.0</td>\n",
       "      <td>2440.0</td>\n",
       "      <td>0.0</td>\n",
       "      <td>1000.0</td>\n",
       "      <td>1335.0</td>\n",
       "      <td>888.0</td>\n",
       "      <td>150.0</td>\n",
       "      <td>0</td>\n",
       "      <td>0</td>\n",
       "    </tr>\n",
       "    <tr>\n",
       "      <th>18</th>\n",
       "      <td>110000.0</td>\n",
       "      <td>1</td>\n",
       "      <td>1</td>\n",
       "      <td>2</td>\n",
       "      <td>33.0</td>\n",
       "      <td>0.0</td>\n",
       "      <td>0.0</td>\n",
       "      <td>0.0</td>\n",
       "      <td>0.0</td>\n",
       "      <td>0</td>\n",
       "      <td>...</td>\n",
       "      <td>112716.0</td>\n",
       "      <td>57044.0</td>\n",
       "      <td>4000.0</td>\n",
       "      <td>2800.0</td>\n",
       "      <td>2200.0</td>\n",
       "      <td>2200.0</td>\n",
       "      <td>3000.0</td>\n",
       "      <td>2000.0</td>\n",
       "      <td>0</td>\n",
       "      <td>0</td>\n",
       "    </tr>\n",
       "    <tr>\n",
       "      <th>19</th>\n",
       "      <td>10000.0</td>\n",
       "      <td>1</td>\n",
       "      <td>2</td>\n",
       "      <td>2</td>\n",
       "      <td>43.0</td>\n",
       "      <td>2.0</td>\n",
       "      <td>-1.0</td>\n",
       "      <td>-1.0</td>\n",
       "      <td>-1.0</td>\n",
       "      <td>-1</td>\n",
       "      <td>...</td>\n",
       "      <td>0.0</td>\n",
       "      <td>1308.0</td>\n",
       "      <td>608.0</td>\n",
       "      <td>700.0</td>\n",
       "      <td>5954.0</td>\n",
       "      <td>0.0</td>\n",
       "      <td>1308.0</td>\n",
       "      <td>0.0</td>\n",
       "      <td>1</td>\n",
       "      <td>1</td>\n",
       "    </tr>\n",
       "  </tbody>\n",
       "</table>\n",
       "<p>20 rows × 25 columns</p>\n",
       "</div>"
      ],
      "text/plain": [
       "    limit_balance  gender  education_level  marital_status   age  pay_0  \\\n",
       "0        420000.0       2                2               2  32.0    0.0   \n",
       "1         30000.0       2                2               2  25.0    2.0   \n",
       "2         40000.0       2                3               1  60.0    0.0   \n",
       "3         70000.0       2                3               3  39.0    0.0   \n",
       "4         60000.0       2                2               2  24.0   -1.0   \n",
       "5        300000.0       2                1               1  30.0    0.0   \n",
       "6        500000.0       1                1               2  43.0    0.0   \n",
       "7        490000.0       2                2               1  30.0    0.0   \n",
       "8         80000.0       1                1               2  26.0    1.0   \n",
       "9        130000.0       2                2               1  34.0    2.0   \n",
       "10        20000.0       2                1               2  25.0    1.0   \n",
       "11       310000.0       1                2               2  45.0   -1.0   \n",
       "12       200000.0       2                1               1  49.0   -1.0   \n",
       "13       230000.0       2                3               1  66.0   -2.0   \n",
       "14        50000.0       2                2               2  23.0    0.0   \n",
       "15       150000.0       2                2               2  35.0    0.0   \n",
       "16        90000.0       2                1               2  27.0    0.0   \n",
       "17        60000.0       1                1               2  29.0   -1.0   \n",
       "18       110000.0       1                1               2  33.0    0.0   \n",
       "19        10000.0       1                2               2  43.0    2.0   \n",
       "\n",
       "    pay_2  pay_3  pay_4  pay_5  ...  bill_amt_5  bill_amt_6  pay_amt_1  \\\n",
       "0     0.0    0.0    0.0      0  ...    175684.0    164037.0     7300.0   \n",
       "1     0.0    0.0    0.0      0  ...     12623.0     27460.0     1200.0   \n",
       "2     0.0    0.0    0.0      0  ...      8204.0      9899.0     2000.0   \n",
       "3     0.0   -1.0    0.0     -1  ...      3148.0      4699.0     3000.0   \n",
       "4     0.0   -1.0    0.0      0  ...     10000.0     11832.0     1020.0   \n",
       "5     0.0    0.0    0.0      0  ...     67747.0     70389.0     3000.0   \n",
       "6     0.0    0.0   -1.0     -1  ...         0.0      7413.0    22650.0   \n",
       "7     0.0    0.0    0.0      0  ...     -1527.0     62491.0     2003.0   \n",
       "8     2.0    2.0    0.0      0  ...     42990.0     42854.0     2000.0   \n",
       "9     2.0    2.0    2.0      2  ...     34186.0     34588.0     2500.0   \n",
       "10    2.0    0.0    0.0      0  ...     17000.0     20000.0        2.0   \n",
       "11   -1.0   -1.0   -1.0     -1  ...      1927.0       553.0     1217.0   \n",
       "12   -1.0   -1.0   -1.0     -2  ...         0.0         0.0        0.0   \n",
       "13   -2.0   -2.0   -2.0     -2  ...         0.0      2800.0     5580.0   \n",
       "14    0.0    0.0    0.0      0  ...      9654.0      9648.0     1649.0   \n",
       "15    0.0    0.0    0.0      0  ...     48983.0     50136.0     3500.0   \n",
       "16    0.0    0.0    0.0      0  ...     59265.0     59046.0     2400.0   \n",
       "17   -1.0    2.0    0.0     -1  ...      1335.0      1825.0     2440.0   \n",
       "18    0.0    0.0    0.0      0  ...    112716.0     57044.0     4000.0   \n",
       "19   -1.0   -1.0   -1.0     -1  ...         0.0      1308.0      608.0   \n",
       "\n",
       "    pay_amt_2  pay_amt_3  pay_amt_4  pay_amt_5  pay_amt_6  \\\n",
       "0      8839.0     8000.0     5900.0     6000.0     6000.0   \n",
       "1      1201.0      592.0      500.0     1500.0        0.0   \n",
       "2      3000.0     3000.0     6000.0     2000.0     2000.0   \n",
       "3     11000.0     5000.0     3150.0     2000.0     4000.0   \n",
       "4      9479.0     1000.0      200.0     1832.0     5889.0   \n",
       "5      5000.0     2500.0     2500.0     3500.0    87000.0   \n",
       "6         0.0     3887.0        0.0     7413.0        0.0   \n",
       "7      2041.0     1092.0        4.0    64895.0     3003.0   \n",
       "8         0.0     1603.0     3000.0     2000.0     1056.0   \n",
       "9      3000.0        0.0     2600.0     1000.0     1500.0   \n",
       "10     2000.0     3000.0        0.0     3000.0        0.0   \n",
       "11    31967.0     1796.0     1936.0      556.0    15664.0   \n",
       "12      103.0        0.0        0.0        0.0      225.0   \n",
       "13      500.0     1614.0        0.0     2800.0        0.0   \n",
       "14     1300.0      500.0      500.0      300.0      500.0   \n",
       "15     2000.0    20000.0     2000.0     2000.0     2000.0   \n",
       "16     2518.0     2514.0     2100.0     2500.0     2500.0   \n",
       "17        0.0     1000.0     1335.0      888.0      150.0   \n",
       "18     2800.0     2200.0     2200.0     3000.0     2000.0   \n",
       "19      700.0     5954.0        0.0     1308.0        0.0   \n",
       "\n",
       "    default_payment_next_month  default payment-Prediction  \n",
       "0                            0                           0  \n",
       "1                            1                           1  \n",
       "2                            0                           0  \n",
       "3                            0                           0  \n",
       "4                            0                           0  \n",
       "5                            1                           0  \n",
       "6                            1                           0  \n",
       "7                            0                           0  \n",
       "8                            0                           0  \n",
       "9                            1                           1  \n",
       "10                           0                           0  \n",
       "11                           0                           0  \n",
       "12                           0                           0  \n",
       "13                           0                           0  \n",
       "14                           0                           0  \n",
       "15                           0                           0  \n",
       "16                           0                           0  \n",
       "17                           0                           0  \n",
       "18                           0                           0  \n",
       "19                           1                           1  \n",
       "\n",
       "[20 rows x 25 columns]"
      ]
     },
     "execution_count": 49,
     "metadata": {},
     "output_type": "execute_result"
    }
   ],
   "source": [
    "# Memasukkan hasil prediksi data inference dalam data set\n",
    "y_pred_inf_log_df = pd.DataFrame(y_pred_inf_log, columns=['default payment-Prediction'])\n",
    "\n",
    "# Gabungkan data Inference dengan kolom prediksi\n",
    "data_inf_predic_log = pd.concat([data_inf, y_pred_inf_log_df], axis=1)\n",
    "data_inf_predic_log"
   ]
  },
  {
   "cell_type": "code",
   "execution_count": 50,
   "metadata": {},
   "outputs": [
    {
     "data": {
      "text/html": [
       "<div>\n",
       "<style scoped>\n",
       "    .dataframe tbody tr th:only-of-type {\n",
       "        vertical-align: middle;\n",
       "    }\n",
       "\n",
       "    .dataframe tbody tr th {\n",
       "        vertical-align: top;\n",
       "    }\n",
       "\n",
       "    .dataframe thead th {\n",
       "        text-align: right;\n",
       "    }\n",
       "</style>\n",
       "<table border=\"1\" class=\"dataframe\">\n",
       "  <thead>\n",
       "    <tr style=\"text-align: right;\">\n",
       "      <th></th>\n",
       "      <th>default_payment_next_month</th>\n",
       "      <th>default payment-Prediction</th>\n",
       "    </tr>\n",
       "  </thead>\n",
       "  <tbody>\n",
       "    <tr>\n",
       "      <th>0</th>\n",
       "      <td>0</td>\n",
       "      <td>0</td>\n",
       "    </tr>\n",
       "    <tr>\n",
       "      <th>1</th>\n",
       "      <td>1</td>\n",
       "      <td>1</td>\n",
       "    </tr>\n",
       "    <tr>\n",
       "      <th>2</th>\n",
       "      <td>0</td>\n",
       "      <td>0</td>\n",
       "    </tr>\n",
       "    <tr>\n",
       "      <th>3</th>\n",
       "      <td>0</td>\n",
       "      <td>0</td>\n",
       "    </tr>\n",
       "    <tr>\n",
       "      <th>4</th>\n",
       "      <td>0</td>\n",
       "      <td>0</td>\n",
       "    </tr>\n",
       "    <tr>\n",
       "      <th>5</th>\n",
       "      <td>1</td>\n",
       "      <td>0</td>\n",
       "    </tr>\n",
       "    <tr>\n",
       "      <th>6</th>\n",
       "      <td>1</td>\n",
       "      <td>0</td>\n",
       "    </tr>\n",
       "    <tr>\n",
       "      <th>7</th>\n",
       "      <td>0</td>\n",
       "      <td>0</td>\n",
       "    </tr>\n",
       "    <tr>\n",
       "      <th>8</th>\n",
       "      <td>0</td>\n",
       "      <td>0</td>\n",
       "    </tr>\n",
       "    <tr>\n",
       "      <th>9</th>\n",
       "      <td>1</td>\n",
       "      <td>1</td>\n",
       "    </tr>\n",
       "    <tr>\n",
       "      <th>10</th>\n",
       "      <td>0</td>\n",
       "      <td>0</td>\n",
       "    </tr>\n",
       "    <tr>\n",
       "      <th>11</th>\n",
       "      <td>0</td>\n",
       "      <td>0</td>\n",
       "    </tr>\n",
       "    <tr>\n",
       "      <th>12</th>\n",
       "      <td>0</td>\n",
       "      <td>0</td>\n",
       "    </tr>\n",
       "    <tr>\n",
       "      <th>13</th>\n",
       "      <td>0</td>\n",
       "      <td>0</td>\n",
       "    </tr>\n",
       "    <tr>\n",
       "      <th>14</th>\n",
       "      <td>0</td>\n",
       "      <td>0</td>\n",
       "    </tr>\n",
       "    <tr>\n",
       "      <th>15</th>\n",
       "      <td>0</td>\n",
       "      <td>0</td>\n",
       "    </tr>\n",
       "    <tr>\n",
       "      <th>16</th>\n",
       "      <td>0</td>\n",
       "      <td>0</td>\n",
       "    </tr>\n",
       "    <tr>\n",
       "      <th>17</th>\n",
       "      <td>0</td>\n",
       "      <td>0</td>\n",
       "    </tr>\n",
       "    <tr>\n",
       "      <th>18</th>\n",
       "      <td>0</td>\n",
       "      <td>0</td>\n",
       "    </tr>\n",
       "    <tr>\n",
       "      <th>19</th>\n",
       "      <td>1</td>\n",
       "      <td>1</td>\n",
       "    </tr>\n",
       "  </tbody>\n",
       "</table>\n",
       "</div>"
      ],
      "text/plain": [
       "    default_payment_next_month  default payment-Prediction\n",
       "0                            0                           0\n",
       "1                            1                           1\n",
       "2                            0                           0\n",
       "3                            0                           0\n",
       "4                            0                           0\n",
       "5                            1                           0\n",
       "6                            1                           0\n",
       "7                            0                           0\n",
       "8                            0                           0\n",
       "9                            1                           1\n",
       "10                           0                           0\n",
       "11                           0                           0\n",
       "12                           0                           0\n",
       "13                           0                           0\n",
       "14                           0                           0\n",
       "15                           0                           0\n",
       "16                           0                           0\n",
       "17                           0                           0\n",
       "18                           0                           0\n",
       "19                           1                           1"
      ]
     },
     "execution_count": 50,
     "metadata": {},
     "output_type": "execute_result"
    }
   ],
   "source": [
    "#tampilkan tabel aktual dan prediksi payment default\n",
    "pd.concat([(data_inf['default_payment_next_month']), (y_pred_inf_log_df['default payment-Prediction'])], axis=1)"
   ]
  },
  {
   "cell_type": "markdown",
   "metadata": {},
   "source": [
    "Setelah diterapkan pada data inference, dapat dilihat bahwa dari 20 prediksi data hanya terdapat 2 data yang hasil prediksinya berbeda dengan aslinya. "
   ]
  },
  {
   "cell_type": "markdown",
   "metadata": {},
   "source": [
    "## 6.2 Model SVM"
   ]
  },
  {
   "cell_type": "markdown",
   "metadata": {},
   "source": [
    "### 6.2.1 Model Definition"
   ]
  },
  {
   "cell_type": "markdown",
   "metadata": {},
   "source": [
    "Definisikan model svm dan lakukan cross validation sebelum dilakukan training model."
   ]
  },
  {
   "cell_type": "code",
   "execution_count": 51,
   "metadata": {},
   "outputs": [],
   "source": [
    "# definisikan model\n",
    "model_svm = SVC()"
   ]
  },
  {
   "cell_type": "markdown",
   "metadata": {},
   "source": [
    "Lakukan validasi model menggunakan cross validation"
   ]
  },
  {
   "cell_type": "code",
   "execution_count": 52,
   "metadata": {},
   "outputs": [
    {
     "name": "stdout",
     "output_type": "stream",
     "text": [
      "Score 5 Cross Validation [0.82834331 0.81237525 0.84231537 0.766      0.844     ]\n",
      "rata-rata Cross Validation score :0.8186067864271458\n",
      "Standar deviasi Cross Validation score :0.02866362916029472\n"
     ]
    }
   ],
   "source": [
    "# validasi dilakukan 5 kali\n",
    "k_svm = KFold(n_splits=5)\n",
    "\n",
    "# cross validation\n",
    "score_svm= cross_val_score(model_svm, X_train_final, y_train, cv=k_svm)\n",
    "\n",
    "# tampilkan hasil validasi, rata-rata dan standar deviasi\n",
    "print(\"Score 5 Cross Validation {}\".format(score_svm))\n",
    "print(\"rata-rata Cross Validation score :{}\".format(score_svm.mean()))\n",
    "print(\"Standar deviasi Cross Validation score :{}\".format(score_svm.std()))"
   ]
  },
  {
   "cell_type": "markdown",
   "metadata": {},
   "source": [
    "Rentang nilai akurasi dari model adalah 0.791 - 0.847 karena rata-rata dari cross validasinya 0.819 dan memiliki standar deviasi +- 0.028. Cross validasi ini dilakukan sebanyak 5 kali fold dan hasilnya diambil rata-ratanya."
   ]
  },
  {
   "cell_type": "markdown",
   "metadata": {},
   "source": [
    "Selanjutnya definisikan parameter dan akan digunakan gridsearch untuk mencari kombinasi paramter terbaik"
   ]
  },
  {
   "cell_type": "code",
   "execution_count": 53,
   "metadata": {},
   "outputs": [],
   "source": [
    "# definisikan parameter yang akan diuji\n",
    "param_svm = {\n",
    "            'C': [0.01, 0.1, 1],\n",
    "            'gamma': [0.01, 0.1, 1],\n",
    "            'kernel': ['linear', 'rbf', 'sigmoid']\n",
    "}"
   ]
  },
  {
   "cell_type": "code",
   "execution_count": 54,
   "metadata": {},
   "outputs": [],
   "source": [
    "# gridseacrh dengan cross validation 5 kali\n",
    "svm_grid = GridSearchCV(\n",
    "                        model_svm, \n",
    "                        param_svm, \n",
    "                        cv=5, \n",
    "                        scoring='accuracy', \n",
    "                        return_train_score=True)"
   ]
  },
  {
   "cell_type": "markdown",
   "metadata": {},
   "source": [
    "### 6.2.2 Model Training"
   ]
  },
  {
   "cell_type": "markdown",
   "metadata": {},
   "source": [
    "Dilakukan training dan dipilih best parameter yang akan digunakan"
   ]
  },
  {
   "cell_type": "code",
   "execution_count": 55,
   "metadata": {},
   "outputs": [
    {
     "data": {
      "text/plain": [
       "GridSearchCV(cv=5, estimator=SVC(),\n",
       "             param_grid={'C': [0.01, 0.1, 1], 'gamma': [0.01, 0.1, 1],\n",
       "                         'kernel': ['linear', 'rbf', 'sigmoid']},\n",
       "             return_train_score=True, scoring='accuracy')"
      ]
     },
     "execution_count": 55,
     "metadata": {},
     "output_type": "execute_result"
    }
   ],
   "source": [
    "# Training model\n",
    "svm_grid.fit(X_train_final, y_train)"
   ]
  },
  {
   "cell_type": "code",
   "execution_count": 56,
   "metadata": {},
   "outputs": [
    {
     "name": "stdout",
     "output_type": "stream",
     "text": [
      "best params: {'C': 1, 'gamma': 1, 'kernel': 'rbf'}\n",
      "best score: 0.8034339321357287\n"
     ]
    }
   ],
   "source": [
    "# kombinasi paramter terbaik\n",
    "print('best params:', svm_grid.best_params_)\n",
    "\n",
    "# score dari kombinasi parameter terbaik\n",
    "print('best score:', svm_grid.best_score_)"
   ]
  },
  {
   "cell_type": "code",
   "execution_count": 57,
   "metadata": {},
   "outputs": [
    {
     "name": "stdout",
     "output_type": "stream",
     "text": [
      "SVC(C=1, gamma=1)\n"
     ]
    }
   ],
   "source": [
    "# definisikan estemator terbaik dengan model\n",
    "svm_best = svm_grid.best_estimator_\n",
    "print(svm_best)"
   ]
  },
  {
   "cell_type": "markdown",
   "metadata": {},
   "source": [
    "Pada best parameter akan diguanakn nilai C dan gamma adalah 1."
   ]
  },
  {
   "cell_type": "markdown",
   "metadata": {},
   "source": [
    "### 6.2.3 Model Evaluation"
   ]
  },
  {
   "cell_type": "markdown",
   "metadata": {},
   "source": [
    "Prediksi data train dan test menggunakan model SVM dengan menggunakan hyperpameter tunning."
   ]
  },
  {
   "cell_type": "code",
   "execution_count": 58,
   "metadata": {},
   "outputs": [],
   "source": [
    "# prediksi data train\n",
    "y_pred_train_svm = svm_best.predict(X_train_final)\n",
    "# prediksi data test\n",
    "y_pred_test_svm = svm_best.predict(X_test_final)"
   ]
  },
  {
   "cell_type": "markdown",
   "metadata": {},
   "source": [
    "Melihat hasil evaluasi model svm menggunakan confusion_matrix dan classification report"
   ]
  },
  {
   "cell_type": "code",
   "execution_count": 59,
   "metadata": {},
   "outputs": [
    {
     "name": "stdout",
     "output_type": "stream",
     "text": [
      "Hasil prediksi train-set\n",
      "[[1938   26]\n",
      " [ 428  111]]\n",
      "\n",
      " Hasil prediksi test-set\n",
      "[[345   6]\n",
      " [ 79  12]]\n"
     ]
    }
   ],
   "source": [
    "# hasiil train \n",
    "print('Hasil prediksi train-set')\n",
    "print(confusion_matrix(y_train, y_pred_train_svm))\n",
    "\n",
    "# hasiil test\n",
    "print('\\n Hasil prediksi test-set')\n",
    "print(confusion_matrix(y_test, y_pred_test_svm))"
   ]
  },
  {
   "cell_type": "markdown",
   "metadata": {},
   "source": [
    "Hasil dari confusion matrix untuk melihat berapa banyak data yang diklasifikasikan dengan benar dan salah.\n",
    "\n",
    "Data train, klasifikasi yang benar 1938+111/2503 = 0.82 dari 1, klasifikasi yang salah 428+26/2503 = 0.18 dari 1. Maka aurasi data yang diprediksi telah sesuai sebesar 82 %.\n",
    "\n",
    "Sedangkan untuk data test, klasifikasi yang benar 345+12/442 = 0.81 dari 1, klasifikasi yang salah 79+6/442 = 0.19 dari 1. Maka akurasi dari data yang dipreksi telah sesuai sebesar 81%."
   ]
  },
  {
   "cell_type": "code",
   "execution_count": 60,
   "metadata": {},
   "outputs": [
    {
     "name": "stdout",
     "output_type": "stream",
     "text": [
      "Hasil prediksi train-set\n",
      "              precision    recall  f1-score   support\n",
      "\n",
      "           0       0.82      0.99      0.90      1964\n",
      "           1       0.81      0.21      0.33       539\n",
      "\n",
      "    accuracy                           0.82      2503\n",
      "   macro avg       0.81      0.60      0.61      2503\n",
      "weighted avg       0.82      0.82      0.77      2503\n",
      "\n",
      "\n",
      " Hasil prediksi test-set\n",
      "              precision    recall  f1-score   support\n",
      "\n",
      "           0       0.81      0.98      0.89       351\n",
      "           1       0.67      0.13      0.22        91\n",
      "\n",
      "    accuracy                           0.81       442\n",
      "   macro avg       0.74      0.56      0.56       442\n",
      "weighted avg       0.78      0.81      0.75       442\n",
      "\n"
     ]
    }
   ],
   "source": [
    "# hasiil train \n",
    "print('Hasil prediksi train-set')\n",
    "print(classification_report(y_train, y_pred_train_svm))\n",
    "\n",
    "# hasil test\n",
    "print('\\n Hasil prediksi test-set')\n",
    "print(classification_report(y_test, y_pred_test_svm))"
   ]
  },
  {
   "cell_type": "markdown",
   "metadata": {},
   "source": [
    "Dari f1-score train dan test untuk label 0 memiliki nilai 0.90 dan 0.89 nilai sangat baik karena nilainya telah mendekati 1, tetapi untuk label 1 nilainya masih rendah yaitu 0.50 dan 0.41 dan masih sangat jauh dari 1. Berarti model masih underfitting dalam klasifikasi label 0.\n",
    "\n",
    "Dari clasification report dapat dilihat akurasi dari train dan test telah sama dengan perhitungan dari confusion matrix diatas yaitu akurasi train 82% dan test 81%. \n",
    "\n",
    "Secara keseluruhan untuk hasil yang diperoleh model sudah baik tetapi masih overfitting karena nilai train 1% lebih tinggi dibandingkan dengan nilai test tetapi hasilnya dapat dikatakan baik dengan akurasi begitu dan telah sesuai dengan rentang nilai yang telah di validasi dari cross validation yang rentang 79.1 - 84.7%. "
   ]
  },
  {
   "cell_type": "markdown",
   "metadata": {},
   "source": [
    "### 6.2.4 Model Inference"
   ]
  },
  {
   "cell_type": "markdown",
   "metadata": {},
   "source": [
    "Model SVM telah dilakukan training dan test, selanjutnya menguji model svm menggunakan data baru. data inference sebelumnya telah dilakukan scaling dan untuk model ini langsung dilakukan prediksi."
   ]
  },
  {
   "cell_type": "code",
   "execution_count": 61,
   "metadata": {},
   "outputs": [
    {
     "data": {
      "text/plain": [
       "array([0, 1, 0, 0, 0, 0, 0, 0, 0, 1, 0, 0, 0, 0, 0, 0, 0, 0, 0, 0],\n",
       "      dtype=int64)"
      ]
     },
     "execution_count": 61,
     "metadata": {},
     "output_type": "execute_result"
    }
   ],
   "source": [
    "# Mempediksi data Inference\n",
    "y_pred_inf_svm = svm_best.predict(data_inf_final)\n",
    "y_pred_inf_svm"
   ]
  },
  {
   "cell_type": "code",
   "execution_count": 62,
   "metadata": {},
   "outputs": [],
   "source": [
    "# Memasukkan hasil prediksi data inference dalam data set\n",
    "y_pred_inf_svm_df = pd.DataFrame(y_pred_inf_svm, columns=['default payment-Prediction SVM'])\n",
    "\n",
    "# Gabungkan data Inference dengan kolom prediksi\n",
    "data_inf_predic_svm = pd.concat([data_inf, y_pred_inf_svm_df], axis=1)"
   ]
  },
  {
   "cell_type": "code",
   "execution_count": 63,
   "metadata": {},
   "outputs": [
    {
     "data": {
      "text/html": [
       "<div>\n",
       "<style scoped>\n",
       "    .dataframe tbody tr th:only-of-type {\n",
       "        vertical-align: middle;\n",
       "    }\n",
       "\n",
       "    .dataframe tbody tr th {\n",
       "        vertical-align: top;\n",
       "    }\n",
       "\n",
       "    .dataframe thead th {\n",
       "        text-align: right;\n",
       "    }\n",
       "</style>\n",
       "<table border=\"1\" class=\"dataframe\">\n",
       "  <thead>\n",
       "    <tr style=\"text-align: right;\">\n",
       "      <th></th>\n",
       "      <th>default_payment_next_month</th>\n",
       "      <th>default payment-Prediction SVM</th>\n",
       "    </tr>\n",
       "  </thead>\n",
       "  <tbody>\n",
       "    <tr>\n",
       "      <th>0</th>\n",
       "      <td>0</td>\n",
       "      <td>0</td>\n",
       "    </tr>\n",
       "    <tr>\n",
       "      <th>1</th>\n",
       "      <td>1</td>\n",
       "      <td>1</td>\n",
       "    </tr>\n",
       "    <tr>\n",
       "      <th>2</th>\n",
       "      <td>0</td>\n",
       "      <td>0</td>\n",
       "    </tr>\n",
       "    <tr>\n",
       "      <th>3</th>\n",
       "      <td>0</td>\n",
       "      <td>0</td>\n",
       "    </tr>\n",
       "    <tr>\n",
       "      <th>4</th>\n",
       "      <td>0</td>\n",
       "      <td>0</td>\n",
       "    </tr>\n",
       "    <tr>\n",
       "      <th>5</th>\n",
       "      <td>1</td>\n",
       "      <td>0</td>\n",
       "    </tr>\n",
       "    <tr>\n",
       "      <th>6</th>\n",
       "      <td>1</td>\n",
       "      <td>0</td>\n",
       "    </tr>\n",
       "    <tr>\n",
       "      <th>7</th>\n",
       "      <td>0</td>\n",
       "      <td>0</td>\n",
       "    </tr>\n",
       "    <tr>\n",
       "      <th>8</th>\n",
       "      <td>0</td>\n",
       "      <td>0</td>\n",
       "    </tr>\n",
       "    <tr>\n",
       "      <th>9</th>\n",
       "      <td>1</td>\n",
       "      <td>1</td>\n",
       "    </tr>\n",
       "    <tr>\n",
       "      <th>10</th>\n",
       "      <td>0</td>\n",
       "      <td>0</td>\n",
       "    </tr>\n",
       "    <tr>\n",
       "      <th>11</th>\n",
       "      <td>0</td>\n",
       "      <td>0</td>\n",
       "    </tr>\n",
       "    <tr>\n",
       "      <th>12</th>\n",
       "      <td>0</td>\n",
       "      <td>0</td>\n",
       "    </tr>\n",
       "    <tr>\n",
       "      <th>13</th>\n",
       "      <td>0</td>\n",
       "      <td>0</td>\n",
       "    </tr>\n",
       "    <tr>\n",
       "      <th>14</th>\n",
       "      <td>0</td>\n",
       "      <td>0</td>\n",
       "    </tr>\n",
       "    <tr>\n",
       "      <th>15</th>\n",
       "      <td>0</td>\n",
       "      <td>0</td>\n",
       "    </tr>\n",
       "    <tr>\n",
       "      <th>16</th>\n",
       "      <td>0</td>\n",
       "      <td>0</td>\n",
       "    </tr>\n",
       "    <tr>\n",
       "      <th>17</th>\n",
       "      <td>0</td>\n",
       "      <td>0</td>\n",
       "    </tr>\n",
       "    <tr>\n",
       "      <th>18</th>\n",
       "      <td>0</td>\n",
       "      <td>0</td>\n",
       "    </tr>\n",
       "    <tr>\n",
       "      <th>19</th>\n",
       "      <td>1</td>\n",
       "      <td>0</td>\n",
       "    </tr>\n",
       "  </tbody>\n",
       "</table>\n",
       "</div>"
      ],
      "text/plain": [
       "    default_payment_next_month  default payment-Prediction SVM\n",
       "0                            0                               0\n",
       "1                            1                               1\n",
       "2                            0                               0\n",
       "3                            0                               0\n",
       "4                            0                               0\n",
       "5                            1                               0\n",
       "6                            1                               0\n",
       "7                            0                               0\n",
       "8                            0                               0\n",
       "9                            1                               1\n",
       "10                           0                               0\n",
       "11                           0                               0\n",
       "12                           0                               0\n",
       "13                           0                               0\n",
       "14                           0                               0\n",
       "15                           0                               0\n",
       "16                           0                               0\n",
       "17                           0                               0\n",
       "18                           0                               0\n",
       "19                           1                               0"
      ]
     },
     "execution_count": 63,
     "metadata": {},
     "output_type": "execute_result"
    }
   ],
   "source": [
    "# tampilkan kolom default payment dan prediksi svm\n",
    "data_inf_predic_svm[['default_payment_next_month', 'default payment-Prediction SVM']]"
   ]
  },
  {
   "cell_type": "markdown",
   "metadata": {},
   "source": [
    "Pada index baris 5, 6 dan 19 hasil prediksinya berbeda dari data sebenarnya karena model svm hanya memiliki akurasi model hingga 81% sehingga jika ada data pasti masih memiliki prediksi yang salah."
   ]
  },
  {
   "cell_type": "markdown",
   "metadata": {},
   "source": [
    "## 6.3 Model Random Forest"
   ]
  },
  {
   "cell_type": "markdown",
   "metadata": {},
   "source": [
    "### 6.3.1 Model Definition"
   ]
  },
  {
   "cell_type": "markdown",
   "metadata": {},
   "source": [
    "Pendefinisian model random forest dan menggunakan cross validation untuk menvalidasi akurasi dari model."
   ]
  },
  {
   "cell_type": "code",
   "execution_count": 64,
   "metadata": {},
   "outputs": [],
   "source": [
    "# definisikan model\n",
    "model_rf = RandomForestClassifier()"
   ]
  },
  {
   "cell_type": "code",
   "execution_count": 65,
   "metadata": {},
   "outputs": [
    {
     "name": "stdout",
     "output_type": "stream",
     "text": [
      "Score 5 Cross Validation [0.81237525 0.82634731 0.84830339 0.788      0.866     ]\n",
      "rata-rata Cross Validation score :0.8282051896207584\n",
      "Standar deviasi Cross Validation score :0.02721353152281113\n"
     ]
    }
   ],
   "source": [
    "# validasi dilakukan 5 kali\n",
    "k_rf = KFold(n_splits=5)\n",
    "\n",
    "# cross validation\n",
    "score_rf = cross_val_score(model_rf, X_train_final, y_train, cv=k_rf)\n",
    "\n",
    "# tampilkan hasil validasi, rata-rata dan standar deviasi\n",
    "print(\"Score 5 Cross Validation {}\".format(score_rf))\n",
    "print(\"rata-rata Cross Validation score :{}\".format(score_rf.mean()))\n",
    "print(\"Standar deviasi Cross Validation score :{}\".format(score_rf.std()))"
   ]
  },
  {
   "cell_type": "markdown",
   "metadata": {},
   "source": [
    "Score cross validasi model adalah rata-rata 0.826 dan standar deviasi 0.03 artinya rentang akurasi dari model +- 3% dari nilai rata-rata akurasi yang diperoleh. Jika pada hasil train atau test memperoleh nilai akurasi model 0,795 - 0.856 berati nilainya dapat dikatakan telah sesuai."
   ]
  },
  {
   "cell_type": "markdown",
   "metadata": {},
   "source": [
    "Selanjutnya mencari kombinasi parameter yang paling baik menggunakan Gridsearch."
   ]
  },
  {
   "cell_type": "code",
   "execution_count": 66,
   "metadata": {},
   "outputs": [],
   "source": [
    "# paramter yang akan diuji\n",
    "param_rf = {\n",
    "    'criterion': ['gini', 'entropy'],\n",
    "    'max_depth': [3, 5, 7, 9],\n",
    "    'min_samples_split': [2, 3, 5, 7, 9]\n",
    "}"
   ]
  },
  {
   "cell_type": "code",
   "execution_count": 67,
   "metadata": {},
   "outputs": [],
   "source": [
    "# gridseacrh dengan cross validation 5 kali\n",
    "rf_grid = GridSearchCV(model_rf, param_rf, cv=5, scoring='accuracy', return_train_score=True)"
   ]
  },
  {
   "cell_type": "markdown",
   "metadata": {},
   "source": [
    "### 6.3.2 Model Training"
   ]
  },
  {
   "cell_type": "markdown",
   "metadata": {},
   "source": [
    "Model random forest akan ditraining dan mencari best parameter yang akan digunakan untuk prediksi."
   ]
  },
  {
   "cell_type": "code",
   "execution_count": 68,
   "metadata": {},
   "outputs": [
    {
     "data": {
      "text/plain": [
       "GridSearchCV(cv=5, estimator=RandomForestClassifier(),\n",
       "             param_grid={'criterion': ['gini', 'entropy'],\n",
       "                         'max_depth': [3, 5, 7, 9],\n",
       "                         'min_samples_split': [2, 3, 5, 7, 9]},\n",
       "             return_train_score=True, scoring='accuracy')"
      ]
     },
     "execution_count": 68,
     "metadata": {},
     "output_type": "execute_result"
    }
   ],
   "source": [
    "# Training model\n",
    "rf_grid.fit(X_train_final, y_train)"
   ]
  },
  {
   "cell_type": "code",
   "execution_count": 69,
   "metadata": {},
   "outputs": [
    {
     "name": "stdout",
     "output_type": "stream",
     "text": [
      "best params: {'criterion': 'gini', 'max_depth': 5, 'min_samples_split': 9}\n",
      "best score: 0.8362035928143712\n"
     ]
    }
   ],
   "source": [
    "# kombinasi paramter terbaik\n",
    "print('best params:', rf_grid.best_params_)\n",
    "\n",
    "# score dari kombinasi parameter terbaik\n",
    "print('best score:', rf_grid.best_score_)"
   ]
  },
  {
   "cell_type": "code",
   "execution_count": 70,
   "metadata": {},
   "outputs": [
    {
     "name": "stdout",
     "output_type": "stream",
     "text": [
      "RandomForestClassifier(max_depth=5, min_samples_split=9)\n"
     ]
    }
   ],
   "source": [
    "# definisikan estemator terbaik dengan model\n",
    "rf_best = rf_grid.best_estimator_\n",
    "print(rf_best)"
   ]
  },
  {
   "cell_type": "markdown",
   "metadata": {},
   "source": [
    "Kombinasi dari parameter (hyperparameter tuning) adalah menggunakan entropy dengan max depth 5 dan min sample split 9."
   ]
  },
  {
   "cell_type": "markdown",
   "metadata": {},
   "source": [
    "### 6.3.3 Model Evaluation"
   ]
  },
  {
   "cell_type": "markdown",
   "metadata": {},
   "source": [
    "Evaluasi model random forest yang telah diperoleh."
   ]
  },
  {
   "cell_type": "code",
   "execution_count": 71,
   "metadata": {},
   "outputs": [],
   "source": [
    "# prediksi data train\n",
    "y_pred_train_rf = rf_best.predict(X_train_final)\n",
    "# prediksi data test\n",
    "y_pred_test_rf = rf_best.predict(X_test_final)"
   ]
  },
  {
   "cell_type": "markdown",
   "metadata": {},
   "source": [
    "Pertama, lihat confusion matrixnya"
   ]
  },
  {
   "cell_type": "code",
   "execution_count": 72,
   "metadata": {},
   "outputs": [
    {
     "name": "stdout",
     "output_type": "stream",
     "text": [
      "Hasil prediksi train-set\n",
      "[[1906   58]\n",
      " [ 342  197]]\n",
      "\n",
      " Hasil prediksi test-set\n",
      "[[337  14]\n",
      " [ 64  27]]\n"
     ]
    }
   ],
   "source": [
    "# hasiil train \n",
    "print('Hasil prediksi train-set')\n",
    "print(confusion_matrix(y_train, y_pred_train_rf))\n",
    "\n",
    "# hasiil test\n",
    "print('\\n Hasil prediksi test-set')\n",
    "print(confusion_matrix(y_test, y_pred_test_rf))"
   ]
  },
  {
   "cell_type": "markdown",
   "metadata": {},
   "source": [
    "Hasil dari confusion matrix untuk melihat berapa banyak data yang diklasifikasikan dengan benar dan salah.\n",
    "\n",
    "Data train, klasifikasi yang benar 1910+197/2503 = 0.84 dari 1, klasifikasi yang salah 342+54/2503 = 0.16 dari 1. Maka aurasi data yang diprediksi telah sesuai sebesar 84 %.\n",
    "\n",
    "Sedangkan untuk data test, klasifikasi yang benar 337+27/442 = 0.82 dari 1, klasifikasi yang salah 14+64/442 = 0.18 dari 1. Maka akurasi dari data yang dipreksi telah sesuai sebesar 82%."
   ]
  },
  {
   "cell_type": "markdown",
   "metadata": {},
   "source": [
    "Kedua, hasil evaluasi dari classification_report"
   ]
  },
  {
   "cell_type": "code",
   "execution_count": 73,
   "metadata": {},
   "outputs": [
    {
     "name": "stdout",
     "output_type": "stream",
     "text": [
      "Hasil prediksi train-set\n",
      "              precision    recall  f1-score   support\n",
      "\n",
      "           0       0.85      0.97      0.91      1964\n",
      "           1       0.77      0.37      0.50       539\n",
      "\n",
      "    accuracy                           0.84      2503\n",
      "   macro avg       0.81      0.67      0.70      2503\n",
      "weighted avg       0.83      0.84      0.82      2503\n",
      "\n",
      "\n",
      " Hasil prediksi test-set\n",
      "              precision    recall  f1-score   support\n",
      "\n",
      "           0       0.84      0.96      0.90       351\n",
      "           1       0.66      0.30      0.41        91\n",
      "\n",
      "    accuracy                           0.82       442\n",
      "   macro avg       0.75      0.63      0.65       442\n",
      "weighted avg       0.80      0.82      0.80       442\n",
      "\n"
     ]
    }
   ],
   "source": [
    "# hasiil train \n",
    "print('Hasil prediksi train-set')\n",
    "print(classification_report(y_train, y_pred_train_rf))\n",
    "\n",
    "# hasil test\n",
    "print('\\n Hasil prediksi test-set')\n",
    "print(classification_report(y_test, y_pred_test_rf))"
   ]
  },
  {
   "cell_type": "markdown",
   "metadata": {},
   "source": [
    "Dari clasification report dapat dilihat akurasi dari train dan test telah sama dengan perhitungan dari confusion matrix diatas. Dari f1-score train dan test untuk label 0 memiliki nilai 0.91 dan 0.90 nilai ini merupakan nilai yang sangat baik karena nilainya telah mendekati 1, tetapi untuk label 1 nilainya masih rendah yaitu 0.50 dan 0.41.\n",
    "\n",
    "Secara keseluruhan untuk hasil yang diperoleh model sudah baik tetapi masih overfitting karena nilai train 2% lebih tinggi dibandingkan dengan nilai test. Akurasi dari model ini juga telah sesuai dengan rentang nilai yang telah di validasi dari cross validation yang rentang nilainya 79.5 - 85.6%"
   ]
  },
  {
   "cell_type": "markdown",
   "metadata": {},
   "source": [
    "Dalam model Random forest terdapat fitur yang dapat melihat fitur important yang akan menghitung rata-rata pengurangan reduksi impurity yang dihasilkan oleh suatu fitur di seluruh pohon."
   ]
  },
  {
   "cell_type": "code",
   "execution_count": 135,
   "metadata": {},
   "outputs": [
    {
     "data": {
      "text/plain": [
       "<function matplotlib.pyplot.show(close=None, block=None)>"
      ]
     },
     "execution_count": 135,
     "metadata": {},
     "output_type": "execute_result"
    },
    {
     "data": {
      "image/png": "[encoded data removed]",
      "text/plain": [
       "<Figure size 864x504 with 1 Axes>"
      ]
     },
     "metadata": {
      "needs_background": "light"
     },
     "output_type": "display_data"
    }
   ],
   "source": [
    "# fitur important\n",
    "feature =  pd.Series(rf_best.feature_importances_, X_train_final_df.columns).sort_values(ascending = True)\n",
    "\n",
    "# bar plot\n",
    "plt.figure(figsize = (12,7))\n",
    "plt.barh(X_train_final_df.columns, feature)\n",
    "plt.xlabel('Mean Impurity Reduction', fontsize = 12)\n",
    "plt.ylabel('Features', fontsize = 12)\n",
    "plt.yticks(fontsize = 12)\n",
    "plt.title('Feature Importances', fontsize = 20)\n",
    "plt.show()"
   ]
  },
  {
   "cell_type": "markdown",
   "metadata": {},
   "source": [
    "Setelah dicek dari feature important model random forest hasil yang diperoleh bahwa fitur pay_amt_4 yang paling tinggi membantu model untuk membedakan pembayaran default bulan selanjutntnya."
   ]
  },
  {
   "cell_type": "markdown",
   "metadata": {},
   "source": [
    "### 6.3.4 Model Inference"
   ]
  },
  {
   "cell_type": "markdown",
   "metadata": {},
   "source": [
    "Model random forest akan digunakan untuk memprediksi dari data inference"
   ]
  },
  {
   "cell_type": "code",
   "execution_count": 75,
   "metadata": {},
   "outputs": [
    {
     "data": {
      "text/plain": [
       "array([0, 1, 0, 0, 0, 0, 0, 0, 0, 1, 0, 0, 0, 0, 0, 0, 0, 0, 0, 1],\n",
       "      dtype=int64)"
      ]
     },
     "execution_count": 75,
     "metadata": {},
     "output_type": "execute_result"
    }
   ],
   "source": [
    "# Mempediksi data Inference\n",
    "y_pred_inf_rf = rf_best.predict(data_inf_final)\n",
    "y_pred_inf_rf"
   ]
  },
  {
   "cell_type": "code",
   "execution_count": 76,
   "metadata": {},
   "outputs": [],
   "source": [
    "# Memasukkan hasil prediksi data inference dalam data set\n",
    "y_pred_inf_rf_df = pd.DataFrame(y_pred_inf_rf, columns=['default payment-Prediction RF'])\n",
    "\n",
    "# Gabungkan data Inference dengan kolom prekdiksi\n",
    "data_inf_predic_rf = pd.concat([data_inf, y_pred_inf_rf_df], axis=1)"
   ]
  },
  {
   "cell_type": "code",
   "execution_count": 77,
   "metadata": {},
   "outputs": [
    {
     "data": {
      "text/html": [
       "<div>\n",
       "<style scoped>\n",
       "    .dataframe tbody tr th:only-of-type {\n",
       "        vertical-align: middle;\n",
       "    }\n",
       "\n",
       "    .dataframe tbody tr th {\n",
       "        vertical-align: top;\n",
       "    }\n",
       "\n",
       "    .dataframe thead th {\n",
       "        text-align: right;\n",
       "    }\n",
       "</style>\n",
       "<table border=\"1\" class=\"dataframe\">\n",
       "  <thead>\n",
       "    <tr style=\"text-align: right;\">\n",
       "      <th></th>\n",
       "      <th>default_payment_next_month</th>\n",
       "      <th>default payment-Prediction RF</th>\n",
       "    </tr>\n",
       "  </thead>\n",
       "  <tbody>\n",
       "    <tr>\n",
       "      <th>0</th>\n",
       "      <td>0</td>\n",
       "      <td>0</td>\n",
       "    </tr>\n",
       "    <tr>\n",
       "      <th>1</th>\n",
       "      <td>1</td>\n",
       "      <td>1</td>\n",
       "    </tr>\n",
       "    <tr>\n",
       "      <th>2</th>\n",
       "      <td>0</td>\n",
       "      <td>0</td>\n",
       "    </tr>\n",
       "    <tr>\n",
       "      <th>3</th>\n",
       "      <td>0</td>\n",
       "      <td>0</td>\n",
       "    </tr>\n",
       "    <tr>\n",
       "      <th>4</th>\n",
       "      <td>0</td>\n",
       "      <td>0</td>\n",
       "    </tr>\n",
       "    <tr>\n",
       "      <th>5</th>\n",
       "      <td>1</td>\n",
       "      <td>0</td>\n",
       "    </tr>\n",
       "    <tr>\n",
       "      <th>6</th>\n",
       "      <td>1</td>\n",
       "      <td>0</td>\n",
       "    </tr>\n",
       "    <tr>\n",
       "      <th>7</th>\n",
       "      <td>0</td>\n",
       "      <td>0</td>\n",
       "    </tr>\n",
       "    <tr>\n",
       "      <th>8</th>\n",
       "      <td>0</td>\n",
       "      <td>0</td>\n",
       "    </tr>\n",
       "    <tr>\n",
       "      <th>9</th>\n",
       "      <td>1</td>\n",
       "      <td>1</td>\n",
       "    </tr>\n",
       "    <tr>\n",
       "      <th>10</th>\n",
       "      <td>0</td>\n",
       "      <td>0</td>\n",
       "    </tr>\n",
       "    <tr>\n",
       "      <th>11</th>\n",
       "      <td>0</td>\n",
       "      <td>0</td>\n",
       "    </tr>\n",
       "    <tr>\n",
       "      <th>12</th>\n",
       "      <td>0</td>\n",
       "      <td>0</td>\n",
       "    </tr>\n",
       "    <tr>\n",
       "      <th>13</th>\n",
       "      <td>0</td>\n",
       "      <td>0</td>\n",
       "    </tr>\n",
       "    <tr>\n",
       "      <th>14</th>\n",
       "      <td>0</td>\n",
       "      <td>0</td>\n",
       "    </tr>\n",
       "    <tr>\n",
       "      <th>15</th>\n",
       "      <td>0</td>\n",
       "      <td>0</td>\n",
       "    </tr>\n",
       "    <tr>\n",
       "      <th>16</th>\n",
       "      <td>0</td>\n",
       "      <td>0</td>\n",
       "    </tr>\n",
       "    <tr>\n",
       "      <th>17</th>\n",
       "      <td>0</td>\n",
       "      <td>0</td>\n",
       "    </tr>\n",
       "    <tr>\n",
       "      <th>18</th>\n",
       "      <td>0</td>\n",
       "      <td>0</td>\n",
       "    </tr>\n",
       "    <tr>\n",
       "      <th>19</th>\n",
       "      <td>1</td>\n",
       "      <td>1</td>\n",
       "    </tr>\n",
       "  </tbody>\n",
       "</table>\n",
       "</div>"
      ],
      "text/plain": [
       "    default_payment_next_month  default payment-Prediction RF\n",
       "0                            0                              0\n",
       "1                            1                              1\n",
       "2                            0                              0\n",
       "3                            0                              0\n",
       "4                            0                              0\n",
       "5                            1                              0\n",
       "6                            1                              0\n",
       "7                            0                              0\n",
       "8                            0                              0\n",
       "9                            1                              1\n",
       "10                           0                              0\n",
       "11                           0                              0\n",
       "12                           0                              0\n",
       "13                           0                              0\n",
       "14                           0                              0\n",
       "15                           0                              0\n",
       "16                           0                              0\n",
       "17                           0                              0\n",
       "18                           0                              0\n",
       "19                           1                              1"
      ]
     },
     "execution_count": 77,
     "metadata": {},
     "output_type": "execute_result"
    }
   ],
   "source": [
    "# tampilkan kolom income dan income prediksi\n",
    "data_inf_predic_rf[['default_payment_next_month', 'default payment-Prediction RF']]"
   ]
  },
  {
   "cell_type": "markdown",
   "metadata": {},
   "source": [
    "Daei 20 data inference, ada 2 data yang masih diprediksi salah oleh model, berarti 90% data telah diprediksi secara benar. Model random forest telah dapat memprediksi data baru yang terpisah dari dataset."
   ]
  },
  {
   "cell_type": "markdown",
   "metadata": {},
   "source": [
    "## 6.4 Model Decision Tree"
   ]
  },
  {
   "cell_type": "markdown",
   "metadata": {},
   "source": [
    "### 6.4.1 Model definition"
   ]
  },
  {
   "cell_type": "markdown",
   "metadata": {},
   "source": [
    "Definisikan model decision tree dan validasi nilai akurasi menggunakan cross validation"
   ]
  },
  {
   "cell_type": "code",
   "execution_count": 78,
   "metadata": {},
   "outputs": [],
   "source": [
    "# definisikan model decision tree\n",
    "model_dt = DecisionTreeClassifier()"
   ]
  },
  {
   "cell_type": "code",
   "execution_count": 79,
   "metadata": {},
   "outputs": [
    {
     "name": "stdout",
     "output_type": "stream",
     "text": [
      "Score 5 Cross Validation [0.73253493 0.72055888 0.75449102 0.724      0.75      ]\n",
      "rata-rata Cross Validation score :0.7363169660678643\n",
      "Standar deviasi Cross Validation score :0.013651741536226203\n"
     ]
    }
   ],
   "source": [
    "# validasi dilakukan 5 kali\n",
    "k_dt = KFold(n_splits=5)\n",
    "\n",
    "# cross validation\n",
    "score_dt = cross_val_score(model_dt, X_train_final, y_train, cv=k_dt)\n",
    "\n",
    "# tampilkan hasil validasi, rata-rata dan standar deviasi\n",
    "print(\"Score 5 Cross Validation {}\".format(score_dt))\n",
    "print(\"rata-rata Cross Validation score :{}\".format(score_dt.mean()))\n",
    "print(\"Standar deviasi Cross Validation score :{}\".format(score_dt.std()))"
   ]
  },
  {
   "cell_type": "markdown",
   "metadata": {},
   "source": [
    "Selanjutnya mencari kombinasi parameter yang paling baik menggunakan Gridsearch."
   ]
  },
  {
   "cell_type": "code",
   "execution_count": 80,
   "metadata": {},
   "outputs": [],
   "source": [
    "# paramter yang akan diuji\n",
    "param_dt = {\n",
    "    'criterion': ['gini', 'entropy'],\n",
    "    'max_depth': [3, 5, 7, 9],\n",
    "    'min_samples_split': [2, 3, 5, 7, 9]\n",
    "}"
   ]
  },
  {
   "cell_type": "code",
   "execution_count": 81,
   "metadata": {},
   "outputs": [
    {
     "data": {
      "text/plain": [
       "GridSearchCV(cv=5, estimator=DecisionTreeClassifier(),\n",
       "             param_grid={'criterion': ['gini', 'entropy'],\n",
       "                         'max_depth': [3, 5, 7, 9],\n",
       "                         'min_samples_split': [2, 3, 5, 7, 9]},\n",
       "             return_train_score=True, scoring='accuracy')"
      ]
     },
     "execution_count": 81,
     "metadata": {},
     "output_type": "execute_result"
    }
   ],
   "source": [
    "# gridseacrh dengan cross validation 5 kali\n",
    "dt_grid = GridSearchCV(model_dt, param_dt, cv=5, scoring='accuracy', return_train_score=True)\n",
    "dt_grid"
   ]
  },
  {
   "cell_type": "markdown",
   "metadata": {},
   "source": [
    "### 6.4.2 Model Training"
   ]
  },
  {
   "cell_type": "markdown",
   "metadata": {},
   "source": [
    "Lakukan model training pada decision tree dengan masing-masing parameter yang ditentukan"
   ]
  },
  {
   "cell_type": "code",
   "execution_count": 82,
   "metadata": {},
   "outputs": [
    {
     "data": {
      "text/plain": [
       "GridSearchCV(cv=5, estimator=DecisionTreeClassifier(),\n",
       "             param_grid={'criterion': ['gini', 'entropy'],\n",
       "                         'max_depth': [3, 5, 7, 9],\n",
       "                         'min_samples_split': [2, 3, 5, 7, 9]},\n",
       "             return_train_score=True, scoring='accuracy')"
      ]
     },
     "execution_count": 82,
     "metadata": {},
     "output_type": "execute_result"
    }
   ],
   "source": [
    "# Training model\n",
    "dt_grid.fit(X_train_final, y_train)"
   ]
  },
  {
   "cell_type": "markdown",
   "metadata": {},
   "source": [
    "Mencari kombinasi paramter yang terbaik dan akan digunakan pada data test serta dievaluasi"
   ]
  },
  {
   "cell_type": "code",
   "execution_count": 83,
   "metadata": {},
   "outputs": [
    {
     "name": "stdout",
     "output_type": "stream",
     "text": [
      "best params: {'criterion': 'entropy', 'max_depth': 3, 'min_samples_split': 2}\n",
      "best score: 0.8366027944111776\n"
     ]
    }
   ],
   "source": [
    "# kombinasi paramter terbaik\n",
    "print('best params:', dt_grid.best_params_)\n",
    "\n",
    "# score dari kombinasi parameter terbaik\n",
    "print('best score:', dt_grid.best_score_)"
   ]
  },
  {
   "cell_type": "markdown",
   "metadata": {},
   "source": [
    "Disini dari penggunaan hyperparameter tunning yang tepat telah menaikkan akurasi dari model. Pada hasil cross validation dengan model decision tree yang tidak diatur parameternya mendapatkan hasil rata-rata 0.728 sedangkan menggunakan hyperparameter tunning menjadi 0.837."
   ]
  },
  {
   "cell_type": "code",
   "execution_count": 84,
   "metadata": {},
   "outputs": [
    {
     "name": "stdout",
     "output_type": "stream",
     "text": [
      "DecisionTreeClassifier(criterion='entropy', max_depth=3)\n"
     ]
    }
   ],
   "source": [
    "# definisikan estemator terbaik dengan model\n",
    "dt_best = dt_grid.best_estimator_\n",
    "print(dt_best)"
   ]
  },
  {
   "cell_type": "markdown",
   "metadata": {},
   "source": [
    "mengecek kembali hasil cross validation setelah menggunakan hyperparameter tunning"
   ]
  },
  {
   "cell_type": "code",
   "execution_count": 85,
   "metadata": {},
   "outputs": [
    {
     "name": "stdout",
     "output_type": "stream",
     "text": [
      "Score 5 Cross Validation [0.8243513  0.82634731 0.85828343 0.804      0.87      ]\n",
      "rata-rata Cross Validation score :0.8365964071856288\n",
      "Standar deviasi Cross Validation score :0.024098297325584946\n"
     ]
    }
   ],
   "source": [
    "# cross validation\n",
    "score_dt_best = cross_val_score(dt_best, X_train_final, y_train, cv=k_dt)\n",
    "\n",
    "# tampilkan hasil validasi, rata-rata dan standar deviasi\n",
    "print(\"Score 5 Cross Validation {}\".format(score_dt_best))\n",
    "print(\"rata-rata Cross Validation score :{}\".format(score_dt_best.mean()))\n",
    "print(\"Standar deviasi Cross Validation score :{}\".format(score_dt_best.std()))"
   ]
  },
  {
   "cell_type": "markdown",
   "metadata": {},
   "source": [
    "setelah menggunakan hyperparameter tunning yang tepat telah menaikkan nilai akurasi dari model. Diperoleh nilai rata-rata 0.836 dengan rentang nilai yang diterima 0.812 - 0.86 karena standar deviasinya +- 0.024. Jadi jika hasil train dan test pada saat evaluasi model pada rentang tersebut dapat dikatakan hasil prediksi telah sesuai dengan akurasi model."
   ]
  },
  {
   "cell_type": "markdown",
   "metadata": {},
   "source": [
    "### 6.4.3 Model Evaluation"
   ]
  },
  {
   "cell_type": "markdown",
   "metadata": {},
   "source": [
    "Evaluasi model Decision tree yang dibuat dengan hyperparameter tunning yang dipilih."
   ]
  },
  {
   "cell_type": "code",
   "execution_count": 86,
   "metadata": {},
   "outputs": [],
   "source": [
    "# prediksi data train\n",
    "y_pred_train_dt = dt_best.predict(X_train_final)\n",
    "# prediksi data test\n",
    "y_pred_test_dt = dt_best.predict(X_test_final)"
   ]
  },
  {
   "cell_type": "markdown",
   "metadata": {},
   "source": [
    "Evaluasi dapat dilihat dari nilai confusion matrix dan classification report nya."
   ]
  },
  {
   "cell_type": "code",
   "execution_count": 87,
   "metadata": {},
   "outputs": [
    {
     "name": "stdout",
     "output_type": "stream",
     "text": [
      "Hasil prediksi train-set\n",
      "[[1904   60]\n",
      " [ 343  196]]\n",
      "\n",
      " Hasil prediksi test-set\n",
      "[[337  14]\n",
      " [ 65  26]]\n"
     ]
    }
   ],
   "source": [
    "# hasiil train \n",
    "print('Hasil prediksi train-set')\n",
    "print(confusion_matrix(y_train, y_pred_train_dt))\n",
    "\n",
    "# hasiil test\n",
    "print('\\n Hasil prediksi test-set')\n",
    "print(confusion_matrix(y_test, y_pred_test_dt))"
   ]
  },
  {
   "cell_type": "markdown",
   "metadata": {},
   "source": [
    "Hasil dari confusion matrix untuk melihat berapa banyak data yang diklasifikasikan dengan benar dan salah.\n",
    "\n",
    "Data train, klasifikasi yang benar 1904+196/2503 = 0.84 dari 1, klasifikasi yang salah 343+60/2503 = 0.16 dari 1. Maka aurasi data yang diprediksi telah sesuai sebesar 84 %.\n",
    "\n",
    "Sedangkan untuk data test, klasifikasi yang benar 337+26/442 = 0.82 dari 1, klasifikasi yang salah 14+66/442 = 0.18 dari 1. Maka akurasi dari data yang dipreksi telah sesuai sebesar 82%."
   ]
  },
  {
   "cell_type": "code",
   "execution_count": 88,
   "metadata": {},
   "outputs": [
    {
     "name": "stdout",
     "output_type": "stream",
     "text": [
      "Hasil prediksi train-set\n",
      "              precision    recall  f1-score   support\n",
      "\n",
      "           0       0.85      0.97      0.90      1964\n",
      "           1       0.77      0.36      0.49       539\n",
      "\n",
      "    accuracy                           0.84      2503\n",
      "   macro avg       0.81      0.67      0.70      2503\n",
      "weighted avg       0.83      0.84      0.82      2503\n",
      "\n",
      "\n",
      " Hasil prediksi test-set\n",
      "              precision    recall  f1-score   support\n",
      "\n",
      "           0       0.84      0.96      0.90       351\n",
      "           1       0.65      0.29      0.40        91\n",
      "\n",
      "    accuracy                           0.82       442\n",
      "   macro avg       0.74      0.62      0.65       442\n",
      "weighted avg       0.80      0.82      0.79       442\n",
      "\n"
     ]
    }
   ],
   "source": [
    "# hasiil train \n",
    "print('Hasil prediksi train-set')\n",
    "print(classification_report(y_train, y_pred_train_dt))\n",
    "\n",
    "# hasil test\n",
    "print('\\n Hasil prediksi test-set')\n",
    "print(classification_report(y_test, y_pred_test_dt))"
   ]
  },
  {
   "cell_type": "markdown",
   "metadata": {},
   "source": [
    "Dari clasification report dapat dilihat akurasi dari train dan test telah sama dengan perhitungan dari confusion matrix diatas. Dari f1-score train dan test untuk label 0 memiliki nilai 0.90 nilai ini merupakan nilai yang sangat baik karena nilainya telah mendekati 1, tetapi untuk label 1 nilainya masih rendah yaitu 0.47 dan 0.40 hal ini dapat diakibatkan karena untuk label ini datanya sedikit jadi model belajar sedikit juga.\n",
    "\n",
    "Secara keseluruhan untuk hasil yang diperoleh model sudah baik tetapi masih overfitting karena nilai train 2% lebih tinggi dibandingkan dengan nilai test. Akurasi dari model ini juga telah sesuai dengan rentang nilai yang telah di validasi dari cross validation yang rentang nilainya 81.2 - 86%\n",
    "\n",
    "Pada model decision tree dapat dilihat pentingnya penggunaan hyperparameter yang tepat, dapat dilihat peningkatan akurasi yang lumayan jauh yang awalnya hanya 73% menjadi 82-84%."
   ]
  },
  {
   "cell_type": "markdown",
   "metadata": {},
   "source": [
    "### 6.4.4 Model Inference"
   ]
  },
  {
   "cell_type": "markdown",
   "metadata": {},
   "source": [
    "Menggunakan model decision tree dalam model inference"
   ]
  },
  {
   "cell_type": "code",
   "execution_count": 89,
   "metadata": {},
   "outputs": [
    {
     "data": {
      "text/plain": [
       "array([0, 1, 0, 0, 0, 0, 0, 0, 0, 1, 0, 0, 0, 0, 0, 0, 0, 0, 0, 1],\n",
       "      dtype=int64)"
      ]
     },
     "execution_count": 89,
     "metadata": {},
     "output_type": "execute_result"
    }
   ],
   "source": [
    "# Mempediksi data Inference\n",
    "y_pred_inf_dt = dt_best.predict(data_inf_final)\n",
    "y_pred_inf_dt"
   ]
  },
  {
   "cell_type": "code",
   "execution_count": 90,
   "metadata": {},
   "outputs": [],
   "source": [
    "# Memasukkan hasil prediksi data inference dalam data set\n",
    "y_pred_inf_dt_df = pd.DataFrame(y_pred_inf_dt, columns=['default payment-Prediction DT'])\n",
    "\n",
    "# Gabungkan data Inference dengan kolom prekdiksi\n",
    "data_inf_predic_dt = pd.concat([data_inf, y_pred_inf_dt_df], axis=1)"
   ]
  },
  {
   "cell_type": "code",
   "execution_count": 91,
   "metadata": {},
   "outputs": [
    {
     "data": {
      "text/html": [
       "<div>\n",
       "<style scoped>\n",
       "    .dataframe tbody tr th:only-of-type {\n",
       "        vertical-align: middle;\n",
       "    }\n",
       "\n",
       "    .dataframe tbody tr th {\n",
       "        vertical-align: top;\n",
       "    }\n",
       "\n",
       "    .dataframe thead th {\n",
       "        text-align: right;\n",
       "    }\n",
       "</style>\n",
       "<table border=\"1\" class=\"dataframe\">\n",
       "  <thead>\n",
       "    <tr style=\"text-align: right;\">\n",
       "      <th></th>\n",
       "      <th>default_payment_next_month</th>\n",
       "      <th>default payment-Prediction DT</th>\n",
       "    </tr>\n",
       "  </thead>\n",
       "  <tbody>\n",
       "    <tr>\n",
       "      <th>0</th>\n",
       "      <td>0</td>\n",
       "      <td>0</td>\n",
       "    </tr>\n",
       "    <tr>\n",
       "      <th>1</th>\n",
       "      <td>1</td>\n",
       "      <td>1</td>\n",
       "    </tr>\n",
       "    <tr>\n",
       "      <th>2</th>\n",
       "      <td>0</td>\n",
       "      <td>0</td>\n",
       "    </tr>\n",
       "    <tr>\n",
       "      <th>3</th>\n",
       "      <td>0</td>\n",
       "      <td>0</td>\n",
       "    </tr>\n",
       "    <tr>\n",
       "      <th>4</th>\n",
       "      <td>0</td>\n",
       "      <td>0</td>\n",
       "    </tr>\n",
       "    <tr>\n",
       "      <th>5</th>\n",
       "      <td>1</td>\n",
       "      <td>0</td>\n",
       "    </tr>\n",
       "    <tr>\n",
       "      <th>6</th>\n",
       "      <td>1</td>\n",
       "      <td>0</td>\n",
       "    </tr>\n",
       "    <tr>\n",
       "      <th>7</th>\n",
       "      <td>0</td>\n",
       "      <td>0</td>\n",
       "    </tr>\n",
       "    <tr>\n",
       "      <th>8</th>\n",
       "      <td>0</td>\n",
       "      <td>0</td>\n",
       "    </tr>\n",
       "    <tr>\n",
       "      <th>9</th>\n",
       "      <td>1</td>\n",
       "      <td>1</td>\n",
       "    </tr>\n",
       "    <tr>\n",
       "      <th>10</th>\n",
       "      <td>0</td>\n",
       "      <td>0</td>\n",
       "    </tr>\n",
       "    <tr>\n",
       "      <th>11</th>\n",
       "      <td>0</td>\n",
       "      <td>0</td>\n",
       "    </tr>\n",
       "    <tr>\n",
       "      <th>12</th>\n",
       "      <td>0</td>\n",
       "      <td>0</td>\n",
       "    </tr>\n",
       "    <tr>\n",
       "      <th>13</th>\n",
       "      <td>0</td>\n",
       "      <td>0</td>\n",
       "    </tr>\n",
       "    <tr>\n",
       "      <th>14</th>\n",
       "      <td>0</td>\n",
       "      <td>0</td>\n",
       "    </tr>\n",
       "    <tr>\n",
       "      <th>15</th>\n",
       "      <td>0</td>\n",
       "      <td>0</td>\n",
       "    </tr>\n",
       "    <tr>\n",
       "      <th>16</th>\n",
       "      <td>0</td>\n",
       "      <td>0</td>\n",
       "    </tr>\n",
       "    <tr>\n",
       "      <th>17</th>\n",
       "      <td>0</td>\n",
       "      <td>0</td>\n",
       "    </tr>\n",
       "    <tr>\n",
       "      <th>18</th>\n",
       "      <td>0</td>\n",
       "      <td>0</td>\n",
       "    </tr>\n",
       "    <tr>\n",
       "      <th>19</th>\n",
       "      <td>1</td>\n",
       "      <td>1</td>\n",
       "    </tr>\n",
       "  </tbody>\n",
       "</table>\n",
       "</div>"
      ],
      "text/plain": [
       "    default_payment_next_month  default payment-Prediction DT\n",
       "0                            0                              0\n",
       "1                            1                              1\n",
       "2                            0                              0\n",
       "3                            0                              0\n",
       "4                            0                              0\n",
       "5                            1                              0\n",
       "6                            1                              0\n",
       "7                            0                              0\n",
       "8                            0                              0\n",
       "9                            1                              1\n",
       "10                           0                              0\n",
       "11                           0                              0\n",
       "12                           0                              0\n",
       "13                           0                              0\n",
       "14                           0                              0\n",
       "15                           0                              0\n",
       "16                           0                              0\n",
       "17                           0                              0\n",
       "18                           0                              0\n",
       "19                           1                              1"
      ]
     },
     "execution_count": 91,
     "metadata": {},
     "output_type": "execute_result"
    }
   ],
   "source": [
    "# tampilkan kolom income dan income prediksi\n",
    "data_inf_predic_dt[['default_payment_next_month', 'default payment-Prediction DT']]"
   ]
  },
  {
   "cell_type": "markdown",
   "metadata": {},
   "source": [
    "Pada index 5 dan 6 nilai hasil prediksi berbda denga nilai yang sebenarnya. Hal ini dapat disebabkan akurasi dari model hanya sekitar 82% jadi masih ada hasil prediksi yang salah."
   ]
  },
  {
   "cell_type": "markdown",
   "metadata": {},
   "source": [
    "## 6.5 Model KNN"
   ]
  },
  {
   "cell_type": "markdown",
   "metadata": {},
   "source": [
    "### 6.5.1 Model Definition"
   ]
  },
  {
   "cell_type": "markdown",
   "metadata": {},
   "source": [
    "Definisikan model KNN yang akan diguanakan dan validasi akurasinya mengguanakan cross validation"
   ]
  },
  {
   "cell_type": "code",
   "execution_count": 92,
   "metadata": {},
   "outputs": [],
   "source": [
    "# definisikan model KNN\n",
    "model_knn = KNeighborsClassifier()"
   ]
  },
  {
   "cell_type": "code",
   "execution_count": 93,
   "metadata": {},
   "outputs": [
    {
     "name": "stdout",
     "output_type": "stream",
     "text": [
      "Score 5 Cross Validation [0.80439122 0.79640719 0.83033932 0.754      0.834     ]\n",
      "rata-rata Cross Validation score :0.8038275449101796\n",
      "Standar deviasi Cross Validation score :0.028814631793697316\n"
     ]
    }
   ],
   "source": [
    "# validasi dilakukan 5 kali\n",
    "k_knn = KFold(n_splits=5)\n",
    "\n",
    "# cross validation\n",
    "score_knn = cross_val_score(model_knn, X_train_final, y_train, cv=k_knn)\n",
    "\n",
    "# tampilkan hasil validasi, rata-rata dan standar deviasi\n",
    "print(\"Score 5 Cross Validation {}\".format(score_knn))\n",
    "print(\"rata-rata Cross Validation score :{}\".format(score_knn.mean()))\n",
    "print(\"Standar deviasi Cross Validation score :{}\".format(score_knn.std()))"
   ]
  },
  {
   "cell_type": "markdown",
   "metadata": {},
   "source": [
    "Rentang akurasi dari model KNN adalah 0.776 - 0.832 dengan rata-rata validasi akurasi 0.803"
   ]
  },
  {
   "cell_type": "markdown",
   "metadata": {},
   "source": [
    "Definisikan paramter yang akan dikombinasikan"
   ]
  },
  {
   "cell_type": "code",
   "execution_count": 94,
   "metadata": {},
   "outputs": [],
   "source": [
    "# paramter yang akan diuji\n",
    "param_knn = {\n",
    "    'n_neighbors': [2,3,4,5],\n",
    "    'weights': ['uniform', 'distance'],\n",
    "    'algorithm': ['auto', 'ball_tree'],\n",
    "    'leaf_size': [10, 20, 30]\n",
    "}"
   ]
  },
  {
   "cell_type": "markdown",
   "metadata": {},
   "source": [
    "Mencari kombinasi parameter terbaik menggunakan grisearch"
   ]
  },
  {
   "cell_type": "code",
   "execution_count": 95,
   "metadata": {},
   "outputs": [
    {
     "data": {
      "text/plain": [
       "GridSearchCV(cv=5, estimator=KNeighborsClassifier(),\n",
       "             param_grid={'algorithm': ['auto', 'ball_tree'],\n",
       "                         'leaf_size': [10, 20, 30], 'n_neighbors': [2, 3, 4, 5],\n",
       "                         'weights': ['uniform', 'distance']},\n",
       "             return_train_score=True, scoring='accuracy')"
      ]
     },
     "execution_count": 95,
     "metadata": {},
     "output_type": "execute_result"
    }
   ],
   "source": [
    "# gridseacrh dengan cross validation 5 kali\n",
    "knn_grid = GridSearchCV(model_knn, param_knn, cv=5, scoring='accuracy', return_train_score=True)\n",
    "knn_grid"
   ]
  },
  {
   "cell_type": "markdown",
   "metadata": {},
   "source": [
    "### 6.5.2 Model Training"
   ]
  },
  {
   "cell_type": "markdown",
   "metadata": {},
   "source": [
    "Dilakukan training model dan akan dilakukan pencarian parameter terbaik."
   ]
  },
  {
   "cell_type": "code",
   "execution_count": 96,
   "metadata": {},
   "outputs": [
    {
     "data": {
      "text/plain": [
       "GridSearchCV(cv=5, estimator=KNeighborsClassifier(),\n",
       "             param_grid={'algorithm': ['auto', 'ball_tree'],\n",
       "                         'leaf_size': [10, 20, 30], 'n_neighbors': [2, 3, 4, 5],\n",
       "                         'weights': ['uniform', 'distance']},\n",
       "             return_train_score=True, scoring='accuracy')"
      ]
     },
     "execution_count": 96,
     "metadata": {},
     "output_type": "execute_result"
    }
   ],
   "source": [
    "# Training model\n",
    "knn_grid.fit(X_train_final, y_train)"
   ]
  },
  {
   "cell_type": "code",
   "execution_count": 97,
   "metadata": {},
   "outputs": [
    {
     "name": "stdout",
     "output_type": "stream",
     "text": [
      "best params: {'algorithm': 'auto', 'leaf_size': 10, 'n_neighbors': 4, 'weights': 'uniform'}\n",
      "best score: 0.8046339321357285\n"
     ]
    }
   ],
   "source": [
    "# kombinasi paramter terbaik\n",
    "print('best params:', knn_grid.best_params_)\n",
    "\n",
    "# score dari kombinasi parameter terbaik\n",
    "print('best score:', knn_grid.best_score_)"
   ]
  },
  {
   "cell_type": "code",
   "execution_count": 98,
   "metadata": {},
   "outputs": [
    {
     "name": "stdout",
     "output_type": "stream",
     "text": [
      "KNeighborsClassifier(leaf_size=10, n_neighbors=4)\n"
     ]
    }
   ],
   "source": [
    "# definisikan estemator terbaik dengan model\n",
    "knn_best = knn_grid.best_estimator_\n",
    "print(knn_best)"
   ]
  },
  {
   "cell_type": "markdown",
   "metadata": {},
   "source": [
    "jadi hyperparameter tuning yang akan digunakan dalam KNN model dengan neighbors 4 dan leaf size 10."
   ]
  },
  {
   "cell_type": "markdown",
   "metadata": {},
   "source": [
    "### 6.5.3 Model Evaluation"
   ]
  },
  {
   "cell_type": "markdown",
   "metadata": {},
   "source": [
    "Prediksi data train dan test dengan model KNN"
   ]
  },
  {
   "cell_type": "markdown",
   "metadata": {},
   "source": [
    "Evaluasi model KNN dengan hyperparameter tunning yang diperoleh menggunakan classification report dan confusion matrix"
   ]
  },
  {
   "cell_type": "code",
   "execution_count": 99,
   "metadata": {},
   "outputs": [],
   "source": [
    "# prediksi data train\n",
    "y_pred_train_knn = knn_best.predict(X_train_final)\n",
    "# prediksi data test\n",
    "y_pred_test_knn = knn_best.predict(X_test_final)"
   ]
  },
  {
   "cell_type": "code",
   "execution_count": 100,
   "metadata": {},
   "outputs": [
    {
     "name": "stdout",
     "output_type": "stream",
     "text": [
      "Hasil prediksi train-set\n",
      "[[1936   28]\n",
      " [ 374  165]]\n",
      "\n",
      " Hasil prediksi test-set\n",
      "[[340  11]\n",
      " [ 76  15]]\n"
     ]
    }
   ],
   "source": [
    "# hasiil train \n",
    "print('Hasil prediksi train-set')\n",
    "print(confusion_matrix(y_train, y_pred_train_knn))\n",
    "\n",
    "# hasiil test\n",
    "print('\\n Hasil prediksi test-set')\n",
    "print(confusion_matrix(y_test, y_pred_test_knn))"
   ]
  },
  {
   "cell_type": "markdown",
   "metadata": {},
   "source": [
    "Hasil dari confusion matrix untuk melihat berapa banyak data yang diklasifikasikan dengan benar dan salah.\n",
    "\n",
    "Data train, klasifikasi yang benar 1936+165/2503 = 0.84 dari 1, klasifikasi yang salah 347+28/2503 = 0.16 dari 1. Maka aurasi data yang diprediksi telah sesuai sebesar 84 %.\n",
    "\n",
    "Sedangkan untuk data test, klasifikasi yang benar 340+15/442 = 0.80 dari 1, klasifikasi yang salah 76+15/442 = 0.20 dari 1. Maka akurasi dari data yang dipreksi telah sesuai sebesar 80%."
   ]
  },
  {
   "cell_type": "code",
   "execution_count": 101,
   "metadata": {},
   "outputs": [
    {
     "name": "stdout",
     "output_type": "stream",
     "text": [
      "Hasil prediksi train-set\n",
      "              precision    recall  f1-score   support\n",
      "\n",
      "           0       0.84      0.99      0.91      1964\n",
      "           1       0.85      0.31      0.45       539\n",
      "\n",
      "    accuracy                           0.84      2503\n",
      "   macro avg       0.85      0.65      0.68      2503\n",
      "weighted avg       0.84      0.84      0.81      2503\n",
      "\n",
      "\n",
      " Hasil prediksi test-set\n",
      "              precision    recall  f1-score   support\n",
      "\n",
      "           0       0.82      0.97      0.89       351\n",
      "           1       0.58      0.16      0.26        91\n",
      "\n",
      "    accuracy                           0.80       442\n",
      "   macro avg       0.70      0.57      0.57       442\n",
      "weighted avg       0.77      0.80      0.76       442\n",
      "\n"
     ]
    }
   ],
   "source": [
    "# hasiil train \n",
    "print('Hasil prediksi train-set')\n",
    "print(classification_report(y_train, y_pred_train_knn))\n",
    "\n",
    "# hasil test\n",
    "print('\\n Hasil prediksi test-set')\n",
    "print(classification_report(y_test, y_pred_test_knn))"
   ]
  },
  {
   "cell_type": "markdown",
   "metadata": {},
   "source": [
    "Dari clasification report dapat dilihat akurasi dari train dan test telah sama dengan perhitungan dari confusion matrix diatas. Dari f1-score train dan test untuk label 0 memiliki nilai 0.91 dan 0.89 nilai ini merupakan nilai yang sangat baik karena nilainya telah mendekati 1, tetapi untuk label 1 nilainya masih rendah yaitu 0.45 dan 0.26 hal ini dapat diakibatkan karena untuk label ini datanya sedikit jadi model belajar sedikit juga.\n",
    "\n",
    "Secara keseluruhan untuk hasil yang diperoleh model overfitting karena nilai train 4% lebih tinggi dibandingkan dengan nilai test. Akurasi dari model ini untuk nilai train melewati batasan dari cross validation, untuk test telah masuk pada rentang nilai tersebut. Overfitting ini bisa terjadi karena model terlalu banyak mendetailkan dan tidak dapat digunakan pada data test.\n",
    "\n",
    "Meskipun telah menggunakan hyperparamter tunning tetapi masih saja overfit, hal ini bisa saja ada data yang ada di train dan tidak ada di data test. karena hyperparamter tunning diaplikasikan pertama kali pada data train saja."
   ]
  },
  {
   "cell_type": "markdown",
   "metadata": {},
   "source": [
    "### 6.5.4 Model Inference"
   ]
  },
  {
   "cell_type": "markdown",
   "metadata": {},
   "source": [
    "Prediksi data inferece menggunakan model KNN"
   ]
  },
  {
   "cell_type": "code",
   "execution_count": 102,
   "metadata": {},
   "outputs": [
    {
     "data": {
      "text/plain": [
       "array([0, 0, 0, 0, 0, 0, 0, 0, 0, 1, 0, 0, 0, 0, 0, 0, 0, 0, 0, 1],\n",
       "      dtype=int64)"
      ]
     },
     "execution_count": 102,
     "metadata": {},
     "output_type": "execute_result"
    }
   ],
   "source": [
    "# Mempediksi data Inference\n",
    "y_pred_inf_knn = knn_best.predict(data_inf_final)\n",
    "y_pred_inf_knn"
   ]
  },
  {
   "cell_type": "code",
   "execution_count": 103,
   "metadata": {},
   "outputs": [],
   "source": [
    "# Memasukkan hasil prediksi data inference dalam data set\n",
    "y_pred_inf_dt_knn = pd.DataFrame(y_pred_inf_knn, columns=['default payment-Prediction KNN'])\n",
    "\n",
    "# Gabungkan data Inference dengan kolom prekdiksi\n",
    "data_inf_predic_knn = pd.concat([data_inf, y_pred_inf_dt_knn], axis=1)"
   ]
  },
  {
   "cell_type": "code",
   "execution_count": 104,
   "metadata": {},
   "outputs": [
    {
     "data": {
      "text/html": [
       "<div>\n",
       "<style scoped>\n",
       "    .dataframe tbody tr th:only-of-type {\n",
       "        vertical-align: middle;\n",
       "    }\n",
       "\n",
       "    .dataframe tbody tr th {\n",
       "        vertical-align: top;\n",
       "    }\n",
       "\n",
       "    .dataframe thead th {\n",
       "        text-align: right;\n",
       "    }\n",
       "</style>\n",
       "<table border=\"1\" class=\"dataframe\">\n",
       "  <thead>\n",
       "    <tr style=\"text-align: right;\">\n",
       "      <th></th>\n",
       "      <th>default_payment_next_month</th>\n",
       "      <th>default payment-Prediction KNN</th>\n",
       "    </tr>\n",
       "  </thead>\n",
       "  <tbody>\n",
       "    <tr>\n",
       "      <th>0</th>\n",
       "      <td>0</td>\n",
       "      <td>0</td>\n",
       "    </tr>\n",
       "    <tr>\n",
       "      <th>1</th>\n",
       "      <td>1</td>\n",
       "      <td>0</td>\n",
       "    </tr>\n",
       "    <tr>\n",
       "      <th>2</th>\n",
       "      <td>0</td>\n",
       "      <td>0</td>\n",
       "    </tr>\n",
       "    <tr>\n",
       "      <th>3</th>\n",
       "      <td>0</td>\n",
       "      <td>0</td>\n",
       "    </tr>\n",
       "    <tr>\n",
       "      <th>4</th>\n",
       "      <td>0</td>\n",
       "      <td>0</td>\n",
       "    </tr>\n",
       "    <tr>\n",
       "      <th>5</th>\n",
       "      <td>1</td>\n",
       "      <td>0</td>\n",
       "    </tr>\n",
       "    <tr>\n",
       "      <th>6</th>\n",
       "      <td>1</td>\n",
       "      <td>0</td>\n",
       "    </tr>\n",
       "    <tr>\n",
       "      <th>7</th>\n",
       "      <td>0</td>\n",
       "      <td>0</td>\n",
       "    </tr>\n",
       "    <tr>\n",
       "      <th>8</th>\n",
       "      <td>0</td>\n",
       "      <td>0</td>\n",
       "    </tr>\n",
       "    <tr>\n",
       "      <th>9</th>\n",
       "      <td>1</td>\n",
       "      <td>1</td>\n",
       "    </tr>\n",
       "    <tr>\n",
       "      <th>10</th>\n",
       "      <td>0</td>\n",
       "      <td>0</td>\n",
       "    </tr>\n",
       "    <tr>\n",
       "      <th>11</th>\n",
       "      <td>0</td>\n",
       "      <td>0</td>\n",
       "    </tr>\n",
       "    <tr>\n",
       "      <th>12</th>\n",
       "      <td>0</td>\n",
       "      <td>0</td>\n",
       "    </tr>\n",
       "    <tr>\n",
       "      <th>13</th>\n",
       "      <td>0</td>\n",
       "      <td>0</td>\n",
       "    </tr>\n",
       "    <tr>\n",
       "      <th>14</th>\n",
       "      <td>0</td>\n",
       "      <td>0</td>\n",
       "    </tr>\n",
       "    <tr>\n",
       "      <th>15</th>\n",
       "      <td>0</td>\n",
       "      <td>0</td>\n",
       "    </tr>\n",
       "    <tr>\n",
       "      <th>16</th>\n",
       "      <td>0</td>\n",
       "      <td>0</td>\n",
       "    </tr>\n",
       "    <tr>\n",
       "      <th>17</th>\n",
       "      <td>0</td>\n",
       "      <td>0</td>\n",
       "    </tr>\n",
       "    <tr>\n",
       "      <th>18</th>\n",
       "      <td>0</td>\n",
       "      <td>0</td>\n",
       "    </tr>\n",
       "    <tr>\n",
       "      <th>19</th>\n",
       "      <td>1</td>\n",
       "      <td>1</td>\n",
       "    </tr>\n",
       "  </tbody>\n",
       "</table>\n",
       "</div>"
      ],
      "text/plain": [
       "    default_payment_next_month  default payment-Prediction KNN\n",
       "0                            0                               0\n",
       "1                            1                               0\n",
       "2                            0                               0\n",
       "3                            0                               0\n",
       "4                            0                               0\n",
       "5                            1                               0\n",
       "6                            1                               0\n",
       "7                            0                               0\n",
       "8                            0                               0\n",
       "9                            1                               1\n",
       "10                           0                               0\n",
       "11                           0                               0\n",
       "12                           0                               0\n",
       "13                           0                               0\n",
       "14                           0                               0\n",
       "15                           0                               0\n",
       "16                           0                               0\n",
       "17                           0                               0\n",
       "18                           0                               0\n",
       "19                           1                               1"
      ]
     },
     "execution_count": 104,
     "metadata": {},
     "output_type": "execute_result"
    }
   ],
   "source": [
    "# tampilkan kolom income dan income prediksi\n",
    "data_inf_predic_knn[['default_payment_next_month', 'default payment-Prediction KNN']]"
   ]
  },
  {
   "cell_type": "markdown",
   "metadata": {},
   "source": [
    "Ada 3 data yang memiliki hasil prediksi yang berbeda dari aktual yaitu baris index 1,5,6 berarti model dapat memprediksi nilai yang benar dari 20 data ada 17 yang benar = 85%. Model KNN dapat mempredeksi data baru dengan akurasi yang mirip dengan hasil train dan test (berbeda tetapi tidak terlalu jauh)."
   ]
  },
  {
   "cell_type": "markdown",
   "metadata": {},
   "source": [
    "## 6.6 Model Naive Bayes"
   ]
  },
  {
   "cell_type": "markdown",
   "metadata": {},
   "source": [
    "### 6.6.1 Model Definition"
   ]
  },
  {
   "cell_type": "markdown",
   "metadata": {},
   "source": [
    "Definisikan model Naive Bayes tanpa menggunakan hyperparameter"
   ]
  },
  {
   "cell_type": "code",
   "execution_count": 105,
   "metadata": {},
   "outputs": [],
   "source": [
    "# definisikan model baive bayes\n",
    "model_nb = GaussianNB()"
   ]
  },
  {
   "cell_type": "markdown",
   "metadata": {},
   "source": [
    "Validasi akurasi model menggunalan cross validation"
   ]
  },
  {
   "cell_type": "code",
   "execution_count": 106,
   "metadata": {},
   "outputs": [
    {
     "name": "stdout",
     "output_type": "stream",
     "text": [
      "Score 5 Cross Validation [0.82235529 0.82834331 0.85828343 0.804      0.87      ]\n",
      "rata-rata Cross Validation score :0.8365964071856288\n",
      "Standar deviasi Cross Validation score :0.02416433678564653\n"
     ]
    }
   ],
   "source": [
    "# validasi dilakukan 5 kali\n",
    "k_nb = KFold(n_splits=5)\n",
    "\n",
    "# cross validation\n",
    "score_nb = cross_val_score(model_nb, X_train_final, y_train, cv=k_nb)\n",
    "\n",
    "# tampilkan hasil validasi, rata-rata dan standar deviasi\n",
    "print(\"Score 5 Cross Validation {}\".format(score_nb))\n",
    "print(\"rata-rata Cross Validation score :{}\".format(score_nb.mean()))\n",
    "print(\"Standar deviasi Cross Validation score :{}\".format(score_nb.std()))"
   ]
  },
  {
   "cell_type": "markdown",
   "metadata": {},
   "source": [
    "Rentang akurasi yang tervalidasi antara 0.812 - 0.859, jadi jika nilai evaluasi model terdapat rentang ini berarti akurasinya dapat dipercaya."
   ]
  },
  {
   "cell_type": "markdown",
   "metadata": {},
   "source": [
    "Mencari parameter terbaik dan akan digunakan dalam model naive bayes"
   ]
  },
  {
   "cell_type": "code",
   "execution_count": 107,
   "metadata": {},
   "outputs": [],
   "source": [
    "# definisikan paramater\n",
    "param_nb = {'var_smoothing' : [0.01, 0.1, 1]}"
   ]
  },
  {
   "cell_type": "markdown",
   "metadata": {},
   "source": [
    "Menggunakan grid search untuk menentukan paramater terbaik"
   ]
  },
  {
   "cell_type": "code",
   "execution_count": 108,
   "metadata": {},
   "outputs": [
    {
     "data": {
      "text/plain": [
       "GridSearchCV(cv=5, estimator=GaussianNB(),\n",
       "             param_grid={'var_smoothing': [0.01, 0.1, 1]},\n",
       "             return_train_score=True, scoring='accuracy')"
      ]
     },
     "execution_count": 108,
     "metadata": {},
     "output_type": "execute_result"
    }
   ],
   "source": [
    "# gridseacrh dengan cross validation 5 kali\n",
    "nb_grid = GridSearchCV(model_nb, param_nb, cv=5, scoring='accuracy', return_train_score=True)\n",
    "nb_grid"
   ]
  },
  {
   "cell_type": "markdown",
   "metadata": {},
   "source": [
    "### 6.6.2 Model Training"
   ]
  },
  {
   "cell_type": "markdown",
   "metadata": {},
   "source": [
    "Training model naive bayes dengan dan akan mencari hyperparamter tunning yang tepat"
   ]
  },
  {
   "cell_type": "code",
   "execution_count": 109,
   "metadata": {},
   "outputs": [
    {
     "data": {
      "text/plain": [
       "GridSearchCV(cv=5, estimator=GaussianNB(),\n",
       "             param_grid={'var_smoothing': [0.01, 0.1, 1]},\n",
       "             return_train_score=True, scoring='accuracy')"
      ]
     },
     "execution_count": 109,
     "metadata": {},
     "output_type": "execute_result"
    }
   ],
   "source": [
    "# Training model\n",
    "nb_grid.fit(X_train_final, y_train)"
   ]
  },
  {
   "cell_type": "code",
   "execution_count": 110,
   "metadata": {},
   "outputs": [
    {
     "name": "stdout",
     "output_type": "stream",
     "text": [
      "best params: {'var_smoothing': 0.01}\n",
      "best score: 0.8350075848303394\n"
     ]
    }
   ],
   "source": [
    "# kombinasi paramter terbaik\n",
    "print('best params:', nb_grid.best_params_)\n",
    "\n",
    "# score dari kombinasi parameter terbaik\n",
    "print('best score:', nb_grid.best_score_)"
   ]
  },
  {
   "cell_type": "code",
   "execution_count": 111,
   "metadata": {},
   "outputs": [
    {
     "name": "stdout",
     "output_type": "stream",
     "text": [
      "GaussianNB(var_smoothing=0.01)\n"
     ]
    }
   ],
   "source": [
    "# definisikan estemator terbaik dengan model\n",
    "nb_best = nb_grid.best_estimator_\n",
    "print(nb_best)"
   ]
  },
  {
   "cell_type": "markdown",
   "metadata": {},
   "source": [
    "Dengan menggunakan var_smooting 0.01 model naive bayes akan dilakukan prediksi"
   ]
  },
  {
   "cell_type": "markdown",
   "metadata": {},
   "source": [
    "### 6.6.3 Model Evaluation"
   ]
  },
  {
   "cell_type": "markdown",
   "metadata": {},
   "source": [
    "Prediksi data train dan test menggunakan naive bayes dengan hyperparamter"
   ]
  },
  {
   "cell_type": "code",
   "execution_count": 112,
   "metadata": {},
   "outputs": [],
   "source": [
    "# prediksi data train\n",
    "y_pred_train_nb = nb_best.predict(X_train_final)\n",
    "# prediksi data test\n",
    "y_pred_test_nb = nb_best.predict(X_test_final)"
   ]
  },
  {
   "cell_type": "markdown",
   "metadata": {},
   "source": [
    "Evaluasi model menggunakan confusion matrix dan clasification report"
   ]
  },
  {
   "cell_type": "code",
   "execution_count": 113,
   "metadata": {},
   "outputs": [
    {
     "name": "stdout",
     "output_type": "stream",
     "text": [
      "Hasil prediksi train-set\n",
      "[[1907   57]\n",
      " [ 361  178]]\n",
      "\n",
      " Hasil prediksi test-set\n",
      "[[340  11]\n",
      " [ 65  26]]\n"
     ]
    }
   ],
   "source": [
    "# hasiil train \n",
    "print('Hasil prediksi train-set')\n",
    "print(confusion_matrix(y_train, y_pred_train_nb))\n",
    "\n",
    "# hasiil test\n",
    "print('\\n Hasil prediksi test-set')\n",
    "print(confusion_matrix(y_test, y_pred_test_nb))"
   ]
  },
  {
   "cell_type": "markdown",
   "metadata": {},
   "source": [
    "Dari hasil confusion matrix data yang train yang diklasifikan secara benar ada 1907+178/2503 = 0.83 dari 1 dan yang masih diklasifikan salah ada 361+57/2503 = 0.17 dari 1. Oleh karena itu nilai klasifikasi yang benar menunjukkan seberapa akurat model dalam klasifikasi, untuk model train adalah 83%. Untuk Data test juga memiliki nilai yang sama yaitu 83%."
   ]
  },
  {
   "cell_type": "code",
   "execution_count": 114,
   "metadata": {},
   "outputs": [
    {
     "name": "stdout",
     "output_type": "stream",
     "text": [
      "Hasil prediksi train-set\n",
      "              precision    recall  f1-score   support\n",
      "\n",
      "           0       0.84      0.97      0.90      1964\n",
      "           1       0.76      0.33      0.46       539\n",
      "\n",
      "    accuracy                           0.83      2503\n",
      "   macro avg       0.80      0.65      0.68      2503\n",
      "weighted avg       0.82      0.83      0.81      2503\n",
      "\n",
      "\n",
      " Hasil prediksi test-set\n",
      "              precision    recall  f1-score   support\n",
      "\n",
      "           0       0.84      0.97      0.90       351\n",
      "           1       0.70      0.29      0.41        91\n",
      "\n",
      "    accuracy                           0.83       442\n",
      "   macro avg       0.77      0.63      0.65       442\n",
      "weighted avg       0.81      0.83      0.80       442\n",
      "\n"
     ]
    }
   ],
   "source": [
    "# hasiil train \n",
    "print('Hasil prediksi train-set')\n",
    "print(classification_report(y_train, y_pred_train_nb))\n",
    "\n",
    "# hasil test\n",
    "print('\\n Hasil prediksi test-set')\n",
    "print(classification_report(y_test, y_pred_test_nb))"
   ]
  },
  {
   "cell_type": "markdown",
   "metadata": {},
   "source": [
    "Hasil f1-score weighted avg (rata-rata pembobotan) hasil yang diperoleh untuk nilai train dan test cukup baik yaitu 80-81%. tetapi jika dilihat dari masing-masing label hanya label 0 yang memiliki nilai f1-score yang baik sedangkan untuk label 1 nilainya masih jelek.\n",
    "\n",
    "Untuk nilai akurasi sudah cukup baik mencapai 83% dan model tidak mengalami overfit karena hasil train dan test sama. Nilai akurasi ini juga telah dibuktikan pada perhitungan confusion matrix diatas serta telah divalidasi menggunakan cross validation sebanyak 5 kali.\n",
    "\n",
    "Dari semua model, model naive bayes ini yang menunjukkan nilai terbaik karena nilai hasil train dan test tidak mengalami overfit dan dari nilai f1-score cukup baik."
   ]
  },
  {
   "cell_type": "markdown",
   "metadata": {},
   "source": [
    "### 6.6.4 Model Inference"
   ]
  },
  {
   "cell_type": "markdown",
   "metadata": {},
   "source": [
    "prediksi data inferece menggunakan model naive bayes"
   ]
  },
  {
   "cell_type": "code",
   "execution_count": 115,
   "metadata": {},
   "outputs": [
    {
     "data": {
      "text/plain": [
       "array([0, 1, 0, 0, 0, 0, 0, 0, 0, 1, 0, 0, 0, 0, 0, 0, 0, 0, 0, 1],\n",
       "      dtype=int64)"
      ]
     },
     "execution_count": 115,
     "metadata": {},
     "output_type": "execute_result"
    }
   ],
   "source": [
    "# Mempediksi data Inference\n",
    "y_pred_inf_nb = nb_best.predict(data_inf_final)\n",
    "y_pred_inf_nb"
   ]
  },
  {
   "cell_type": "code",
   "execution_count": 116,
   "metadata": {},
   "outputs": [],
   "source": [
    "# Memasukkan hasil prediksi data inference dalam data set\n",
    "y_pred_inf_nb_df = pd.DataFrame(y_pred_inf_nb, columns=['default payment-Prediction NB'])\n",
    "\n",
    "# Gabungkan data Inference dengan kolom prekdiksi\n",
    "data_inf_predic_nb = pd.concat([data_inf, y_pred_inf_nb_df], axis=1)"
   ]
  },
  {
   "cell_type": "code",
   "execution_count": 117,
   "metadata": {},
   "outputs": [
    {
     "data": {
      "text/html": [
       "<div>\n",
       "<style scoped>\n",
       "    .dataframe tbody tr th:only-of-type {\n",
       "        vertical-align: middle;\n",
       "    }\n",
       "\n",
       "    .dataframe tbody tr th {\n",
       "        vertical-align: top;\n",
       "    }\n",
       "\n",
       "    .dataframe thead th {\n",
       "        text-align: right;\n",
       "    }\n",
       "</style>\n",
       "<table border=\"1\" class=\"dataframe\">\n",
       "  <thead>\n",
       "    <tr style=\"text-align: right;\">\n",
       "      <th></th>\n",
       "      <th>default_payment_next_month</th>\n",
       "      <th>default payment-Prediction NB</th>\n",
       "    </tr>\n",
       "  </thead>\n",
       "  <tbody>\n",
       "    <tr>\n",
       "      <th>0</th>\n",
       "      <td>0</td>\n",
       "      <td>0</td>\n",
       "    </tr>\n",
       "    <tr>\n",
       "      <th>1</th>\n",
       "      <td>1</td>\n",
       "      <td>1</td>\n",
       "    </tr>\n",
       "    <tr>\n",
       "      <th>2</th>\n",
       "      <td>0</td>\n",
       "      <td>0</td>\n",
       "    </tr>\n",
       "    <tr>\n",
       "      <th>3</th>\n",
       "      <td>0</td>\n",
       "      <td>0</td>\n",
       "    </tr>\n",
       "    <tr>\n",
       "      <th>4</th>\n",
       "      <td>0</td>\n",
       "      <td>0</td>\n",
       "    </tr>\n",
       "    <tr>\n",
       "      <th>5</th>\n",
       "      <td>1</td>\n",
       "      <td>0</td>\n",
       "    </tr>\n",
       "    <tr>\n",
       "      <th>6</th>\n",
       "      <td>1</td>\n",
       "      <td>0</td>\n",
       "    </tr>\n",
       "    <tr>\n",
       "      <th>7</th>\n",
       "      <td>0</td>\n",
       "      <td>0</td>\n",
       "    </tr>\n",
       "    <tr>\n",
       "      <th>8</th>\n",
       "      <td>0</td>\n",
       "      <td>0</td>\n",
       "    </tr>\n",
       "    <tr>\n",
       "      <th>9</th>\n",
       "      <td>1</td>\n",
       "      <td>1</td>\n",
       "    </tr>\n",
       "    <tr>\n",
       "      <th>10</th>\n",
       "      <td>0</td>\n",
       "      <td>0</td>\n",
       "    </tr>\n",
       "    <tr>\n",
       "      <th>11</th>\n",
       "      <td>0</td>\n",
       "      <td>0</td>\n",
       "    </tr>\n",
       "    <tr>\n",
       "      <th>12</th>\n",
       "      <td>0</td>\n",
       "      <td>0</td>\n",
       "    </tr>\n",
       "    <tr>\n",
       "      <th>13</th>\n",
       "      <td>0</td>\n",
       "      <td>0</td>\n",
       "    </tr>\n",
       "    <tr>\n",
       "      <th>14</th>\n",
       "      <td>0</td>\n",
       "      <td>0</td>\n",
       "    </tr>\n",
       "    <tr>\n",
       "      <th>15</th>\n",
       "      <td>0</td>\n",
       "      <td>0</td>\n",
       "    </tr>\n",
       "    <tr>\n",
       "      <th>16</th>\n",
       "      <td>0</td>\n",
       "      <td>0</td>\n",
       "    </tr>\n",
       "    <tr>\n",
       "      <th>17</th>\n",
       "      <td>0</td>\n",
       "      <td>0</td>\n",
       "    </tr>\n",
       "    <tr>\n",
       "      <th>18</th>\n",
       "      <td>0</td>\n",
       "      <td>0</td>\n",
       "    </tr>\n",
       "    <tr>\n",
       "      <th>19</th>\n",
       "      <td>1</td>\n",
       "      <td>1</td>\n",
       "    </tr>\n",
       "  </tbody>\n",
       "</table>\n",
       "</div>"
      ],
      "text/plain": [
       "    default_payment_next_month  default payment-Prediction NB\n",
       "0                            0                              0\n",
       "1                            1                              1\n",
       "2                            0                              0\n",
       "3                            0                              0\n",
       "4                            0                              0\n",
       "5                            1                              0\n",
       "6                            1                              0\n",
       "7                            0                              0\n",
       "8                            0                              0\n",
       "9                            1                              1\n",
       "10                           0                              0\n",
       "11                           0                              0\n",
       "12                           0                              0\n",
       "13                           0                              0\n",
       "14                           0                              0\n",
       "15                           0                              0\n",
       "16                           0                              0\n",
       "17                           0                              0\n",
       "18                           0                              0\n",
       "19                           1                              1"
      ]
     },
     "execution_count": 117,
     "metadata": {},
     "output_type": "execute_result"
    }
   ],
   "source": [
    "# tampilkan kolom income dan income prediksi\n",
    "data_inf_predic_nb[['default_payment_next_month', 'default payment-Prediction NB']]"
   ]
  },
  {
   "cell_type": "markdown",
   "metadata": {},
   "source": [
    "Data dari model inferece juga memiliki 2 kesalahan data dalam prediksinya menggunakan model naive bayes."
   ]
  },
  {
   "cell_type": "markdown",
   "metadata": {},
   "source": [
    "## 6.7 Model Adaboost"
   ]
  },
  {
   "cell_type": "markdown",
   "metadata": {},
   "source": [
    "### 6.7.1 Model Definition"
   ]
  },
  {
   "cell_type": "code",
   "execution_count": 118,
   "metadata": {},
   "outputs": [],
   "source": [
    "# definisikan model\n",
    "model_ada = AdaBoostClassifier()"
   ]
  },
  {
   "cell_type": "markdown",
   "metadata": {},
   "source": [
    "Gunakan cross validation untukmenvalidasi nilai akurasi dari model"
   ]
  },
  {
   "cell_type": "code",
   "execution_count": 119,
   "metadata": {},
   "outputs": [
    {
     "name": "stdout",
     "output_type": "stream",
     "text": [
      "Score 5 Cross Validation [0.82235529 0.81836327 0.8502994  0.798      0.866     ]\n",
      "rata-rata Cross Validation score :0.8310035928143712\n",
      "Standar deviasi Cross Validation score :0.024169752588132816\n"
     ]
    }
   ],
   "source": [
    "# validasi dilakukan 5 kali\n",
    "k_ada = KFold(n_splits=5)\n",
    "\n",
    "# cross validation\n",
    "score_ada = cross_val_score(model_ada, X_train_final, y_train, cv=k_ada)\n",
    "\n",
    "# tampilkan hasil validasi, rata-rata dan standar deviasi\n",
    "print(\"Score 5 Cross Validation {}\".format(score_ada))\n",
    "print(\"rata-rata Cross Validation score :{}\".format(score_ada.mean()))\n",
    "print(\"Standar deviasi Cross Validation score :{}\".format(score_ada.std()))"
   ]
  },
  {
   "cell_type": "markdown",
   "metadata": {},
   "source": [
    "Nilai akurasi yang tervalidasi ada pada rentang 0.806 - 0.854 dan telah dilakukan validasi sebanyak 5 kali."
   ]
  },
  {
   "cell_type": "markdown",
   "metadata": {},
   "source": [
    "Mencari hyperparameter tunning yang tepat untuk model adaboost"
   ]
  },
  {
   "cell_type": "code",
   "execution_count": 120,
   "metadata": {},
   "outputs": [],
   "source": [
    "# definisikan paramater\n",
    "param_ada = {\n",
    "            'n_estimators': [50, 100],\n",
    "            'learning_rate': [0.01, 0.1, 1],\n",
    "            'algorithm': ['SAMME', 'SAMME.R']\n",
    "}"
   ]
  },
  {
   "cell_type": "code",
   "execution_count": 121,
   "metadata": {},
   "outputs": [
    {
     "data": {
      "text/plain": [
       "GridSearchCV(cv=5, estimator=AdaBoostClassifier(),\n",
       "             param_grid={'algorithm': ['SAMME', 'SAMME.R'],\n",
       "                         'learning_rate': [0.01, 0.1, 1],\n",
       "                         'n_estimators': [50, 100]},\n",
       "             return_train_score=True, scoring='accuracy')"
      ]
     },
     "execution_count": 121,
     "metadata": {},
     "output_type": "execute_result"
    }
   ],
   "source": [
    "# gridseacrh dengan cross validation 5 kali\n",
    "ada_grid = GridSearchCV(model_ada, param_ada, cv=5, scoring='accuracy', return_train_score=True)\n",
    "ada_grid"
   ]
  },
  {
   "cell_type": "markdown",
   "metadata": {},
   "source": [
    "### 6.7.2 Model Training"
   ]
  },
  {
   "cell_type": "markdown",
   "metadata": {},
   "source": [
    "Training model adaboost dan setelahnya akan dicari hyperparamternya"
   ]
  },
  {
   "cell_type": "code",
   "execution_count": 122,
   "metadata": {},
   "outputs": [
    {
     "data": {
      "text/plain": [
       "GridSearchCV(cv=5, estimator=AdaBoostClassifier(),\n",
       "             param_grid={'algorithm': ['SAMME', 'SAMME.R'],\n",
       "                         'learning_rate': [0.01, 0.1, 1],\n",
       "                         'n_estimators': [50, 100]},\n",
       "             return_train_score=True, scoring='accuracy')"
      ]
     },
     "execution_count": 122,
     "metadata": {},
     "output_type": "execute_result"
    }
   ],
   "source": [
    "# Training model\n",
    "ada_grid.fit(X_train_final, y_train)"
   ]
  },
  {
   "cell_type": "code",
   "execution_count": 123,
   "metadata": {},
   "outputs": [
    {
     "name": "stdout",
     "output_type": "stream",
     "text": [
      "best params: {'algorithm': 'SAMME', 'learning_rate': 0.01, 'n_estimators': 50}\n",
      "best score: 0.8378011976047904\n"
     ]
    }
   ],
   "source": [
    "# kombinasi paramter terbaik\n",
    "print('best params:', ada_grid.best_params_)\n",
    "\n",
    "# score dari kombinasi parameter terbaik\n",
    "print('best score:', ada_grid.best_score_)"
   ]
  },
  {
   "cell_type": "code",
   "execution_count": 124,
   "metadata": {},
   "outputs": [
    {
     "name": "stdout",
     "output_type": "stream",
     "text": [
      "AdaBoostClassifier(algorithm='SAMME', learning_rate=0.01)\n"
     ]
    }
   ],
   "source": [
    "# definisikan estemator terbaik dengan model\n",
    "ada_best = ada_grid.best_estimator_\n",
    "print(ada_best)"
   ]
  },
  {
   "cell_type": "markdown",
   "metadata": {},
   "source": [
    "Untuk model adaboost akan menggunakan hyperparameter tunning dengan algoritma SAMME dan learning rate 0.01"
   ]
  },
  {
   "cell_type": "markdown",
   "metadata": {},
   "source": [
    "### 6.7.3 Model Evaluation"
   ]
  },
  {
   "cell_type": "markdown",
   "metadata": {},
   "source": [
    "Lakukan prediksi terhadap data train dan test menggunakan model adaboost"
   ]
  },
  {
   "cell_type": "code",
   "execution_count": 125,
   "metadata": {},
   "outputs": [],
   "source": [
    "# prediksi data train\n",
    "y_pred_train_ada = ada_best.predict(X_train_final)\n",
    "# prediksi data test\n",
    "y_pred_test_ada = ada_best.predict(X_test_final)"
   ]
  },
  {
   "cell_type": "markdown",
   "metadata": {},
   "source": [
    "Evaluasi hasil akurasi, f1-score untuk mengetahui tingkat sebaik apa model telah dapat memprediksi data. Evaluasi bisa menggunakan confusion matrix dan classification report."
   ]
  },
  {
   "cell_type": "code",
   "execution_count": 126,
   "metadata": {},
   "outputs": [
    {
     "name": "stdout",
     "output_type": "stream",
     "text": [
      "Hasil prediksi train-set\n",
      "[[1900   64]\n",
      " [ 342  197]]\n",
      "\n",
      " Hasil prediksi test-set\n",
      "[[336  15]\n",
      " [ 64  27]]\n"
     ]
    }
   ],
   "source": [
    "# hasiil train \n",
    "print('Hasil prediksi train-set')\n",
    "print(confusion_matrix(y_train, y_pred_train_ada))\n",
    "\n",
    "# hasiil test\n",
    "print('\\n Hasil prediksi test-set')\n",
    "print(confusion_matrix(y_test, y_pred_test_ada))"
   ]
  },
  {
   "cell_type": "markdown",
   "metadata": {},
   "source": [
    "Dari confusion matrix kita bisa menghitung jumlah klasifikasi yang benar dan masih salah. Menghitung data yang telah diklasifikasikan dengan benar dengan cara TP+TN/jumlah keseluruhan data. Data yang benar ini menunjukkan seberapa besar akurasi dari model, semakin besar nilainya atau mendekati 100% maka model dapat dikatakan semakin baik.\n",
    "\n",
    "Dari data train 1900+197/2503 = 0.84 berarti akurasi mencapai 84% sedangkan untuk data test 336+27/442= 0.82 berarti 82%. Hasil ini menunjukkan model telah memiliki akurasi yang baik. hasil akurasi ini akan sama pada accuracy pada classification report."
   ]
  },
  {
   "cell_type": "code",
   "execution_count": 127,
   "metadata": {},
   "outputs": [
    {
     "name": "stdout",
     "output_type": "stream",
     "text": [
      "Hasil prediksi train-set\n",
      "              precision    recall  f1-score   support\n",
      "\n",
      "           0       0.85      0.97      0.90      1964\n",
      "           1       0.75      0.37      0.49       539\n",
      "\n",
      "    accuracy                           0.84      2503\n",
      "   macro avg       0.80      0.67      0.70      2503\n",
      "weighted avg       0.83      0.84      0.81      2503\n",
      "\n",
      "\n",
      " Hasil prediksi test-set\n",
      "              precision    recall  f1-score   support\n",
      "\n",
      "           0       0.84      0.96      0.89       351\n",
      "           1       0.64      0.30      0.41        91\n",
      "\n",
      "    accuracy                           0.82       442\n",
      "   macro avg       0.74      0.63      0.65       442\n",
      "weighted avg       0.80      0.82      0.79       442\n",
      "\n"
     ]
    }
   ],
   "source": [
    "# hasiil train \n",
    "print('Hasil prediksi train-set')\n",
    "print(classification_report(y_train, y_pred_train_ada))\n",
    "\n",
    "# hasil test\n",
    "print('\\n Hasil prediksi test-set')\n",
    "print(classification_report(y_test, y_pred_test_ada))"
   ]
  },
  {
   "cell_type": "markdown",
   "metadata": {},
   "source": [
    "Dari clasification report hasil akurasi yang diperoleh dari train (84%) dan test (82%) masih memiliki perbedaan 2% jadi model overfit sedikit. Untuk hasil f1-score untuk label 0 nilai yang diperoleh cukup baik karena data cukup banyak sedangkan untuk label 1 nilainya masih jelek karena datanya yang sedikit. Tetapi secara f1-score weighted avg nilainya sudah cukup baik. "
   ]
  },
  {
   "cell_type": "markdown",
   "metadata": {},
   "source": [
    "### 6.7.4 Model Inferece"
   ]
  },
  {
   "cell_type": "markdown",
   "metadata": {},
   "source": [
    "prediksi data inferece menggunakan model adaboost"
   ]
  },
  {
   "cell_type": "code",
   "execution_count": 128,
   "metadata": {},
   "outputs": [
    {
     "data": {
      "text/plain": [
       "array([0, 1, 0, 0, 0, 0, 0, 0, 0, 1, 0, 0, 0, 0, 0, 0, 0, 0, 0, 1],\n",
       "      dtype=int64)"
      ]
     },
     "execution_count": 128,
     "metadata": {},
     "output_type": "execute_result"
    }
   ],
   "source": [
    "# Mempediksi data Inference\n",
    "y_pred_inf_ada = ada_best.predict(data_inf_final)\n",
    "y_pred_inf_ada"
   ]
  },
  {
   "cell_type": "code",
   "execution_count": 129,
   "metadata": {},
   "outputs": [],
   "source": [
    "# Memasukkan hasil prediksi data inference dalam data set\n",
    "y_pred_inf_ada_df = pd.DataFrame(y_pred_inf_ada, columns=['default payment-Prediction AB'])\n",
    "\n",
    "# Gabungkan data Inference dengan kolom prekdiksi\n",
    "data_inf_predic_ada = pd.concat([data_inf, y_pred_inf_ada_df], axis=1)"
   ]
  },
  {
   "cell_type": "code",
   "execution_count": 130,
   "metadata": {},
   "outputs": [
    {
     "data": {
      "text/html": [
       "<div>\n",
       "<style scoped>\n",
       "    .dataframe tbody tr th:only-of-type {\n",
       "        vertical-align: middle;\n",
       "    }\n",
       "\n",
       "    .dataframe tbody tr th {\n",
       "        vertical-align: top;\n",
       "    }\n",
       "\n",
       "    .dataframe thead th {\n",
       "        text-align: right;\n",
       "    }\n",
       "</style>\n",
       "<table border=\"1\" class=\"dataframe\">\n",
       "  <thead>\n",
       "    <tr style=\"text-align: right;\">\n",
       "      <th></th>\n",
       "      <th>default_payment_next_month</th>\n",
       "      <th>default payment-Prediction AB</th>\n",
       "    </tr>\n",
       "  </thead>\n",
       "  <tbody>\n",
       "    <tr>\n",
       "      <th>0</th>\n",
       "      <td>0</td>\n",
       "      <td>0</td>\n",
       "    </tr>\n",
       "    <tr>\n",
       "      <th>1</th>\n",
       "      <td>1</td>\n",
       "      <td>1</td>\n",
       "    </tr>\n",
       "    <tr>\n",
       "      <th>2</th>\n",
       "      <td>0</td>\n",
       "      <td>0</td>\n",
       "    </tr>\n",
       "    <tr>\n",
       "      <th>3</th>\n",
       "      <td>0</td>\n",
       "      <td>0</td>\n",
       "    </tr>\n",
       "    <tr>\n",
       "      <th>4</th>\n",
       "      <td>0</td>\n",
       "      <td>0</td>\n",
       "    </tr>\n",
       "    <tr>\n",
       "      <th>5</th>\n",
       "      <td>1</td>\n",
       "      <td>0</td>\n",
       "    </tr>\n",
       "    <tr>\n",
       "      <th>6</th>\n",
       "      <td>1</td>\n",
       "      <td>0</td>\n",
       "    </tr>\n",
       "    <tr>\n",
       "      <th>7</th>\n",
       "      <td>0</td>\n",
       "      <td>0</td>\n",
       "    </tr>\n",
       "    <tr>\n",
       "      <th>8</th>\n",
       "      <td>0</td>\n",
       "      <td>0</td>\n",
       "    </tr>\n",
       "    <tr>\n",
       "      <th>9</th>\n",
       "      <td>1</td>\n",
       "      <td>1</td>\n",
       "    </tr>\n",
       "    <tr>\n",
       "      <th>10</th>\n",
       "      <td>0</td>\n",
       "      <td>0</td>\n",
       "    </tr>\n",
       "    <tr>\n",
       "      <th>11</th>\n",
       "      <td>0</td>\n",
       "      <td>0</td>\n",
       "    </tr>\n",
       "    <tr>\n",
       "      <th>12</th>\n",
       "      <td>0</td>\n",
       "      <td>0</td>\n",
       "    </tr>\n",
       "    <tr>\n",
       "      <th>13</th>\n",
       "      <td>0</td>\n",
       "      <td>0</td>\n",
       "    </tr>\n",
       "    <tr>\n",
       "      <th>14</th>\n",
       "      <td>0</td>\n",
       "      <td>0</td>\n",
       "    </tr>\n",
       "    <tr>\n",
       "      <th>15</th>\n",
       "      <td>0</td>\n",
       "      <td>0</td>\n",
       "    </tr>\n",
       "    <tr>\n",
       "      <th>16</th>\n",
       "      <td>0</td>\n",
       "      <td>0</td>\n",
       "    </tr>\n",
       "    <tr>\n",
       "      <th>17</th>\n",
       "      <td>0</td>\n",
       "      <td>0</td>\n",
       "    </tr>\n",
       "    <tr>\n",
       "      <th>18</th>\n",
       "      <td>0</td>\n",
       "      <td>0</td>\n",
       "    </tr>\n",
       "    <tr>\n",
       "      <th>19</th>\n",
       "      <td>1</td>\n",
       "      <td>1</td>\n",
       "    </tr>\n",
       "  </tbody>\n",
       "</table>\n",
       "</div>"
      ],
      "text/plain": [
       "    default_payment_next_month  default payment-Prediction AB\n",
       "0                            0                              0\n",
       "1                            1                              1\n",
       "2                            0                              0\n",
       "3                            0                              0\n",
       "4                            0                              0\n",
       "5                            1                              0\n",
       "6                            1                              0\n",
       "7                            0                              0\n",
       "8                            0                              0\n",
       "9                            1                              1\n",
       "10                           0                              0\n",
       "11                           0                              0\n",
       "12                           0                              0\n",
       "13                           0                              0\n",
       "14                           0                              0\n",
       "15                           0                              0\n",
       "16                           0                              0\n",
       "17                           0                              0\n",
       "18                           0                              0\n",
       "19                           1                              1"
      ]
     },
     "execution_count": 130,
     "metadata": {},
     "output_type": "execute_result"
    }
   ],
   "source": [
    "# tampilkan kolom income dan income prediksi\n",
    "data_inf_predic_ada[['default_payment_next_month', 'default payment-Prediction AB']]"
   ]
  },
  {
   "cell_type": "markdown",
   "metadata": {},
   "source": [
    "hasilnya, data pada index 5 dan 6 masih salah dalam prediksi data karena akurasi model hanya 83% jadi wajar jika ada salah dalam klasifikasi."
   ]
  },
  {
   "cell_type": "markdown",
   "metadata": {},
   "source": [
    "# 7. Conceptual Problems"
   ]
  },
  {
   "cell_type": "markdown",
   "metadata": {},
   "source": [
    "1. Apakah fungsi parameter criterion pada Decision Tree? Jelaskan salah satu criterion yang kalian pahami!\n",
    "\n",
    "    criterion merupakan parameter pada decision tree yang digunakan untuk memisasahkan node. salah satunya adalah information gain yang cara kerjanya mengitung perbedaan semua entropi sebelum dilakukan splitting dan criterion ini sifatnya bias terhadap fitur yang memiliki jumlah nilai yang besar. cara memilih fitur yang memiliki nilai entropy tertinggi."
   ]
  },
  {
   "cell_type": "markdown",
   "metadata": {},
   "source": [
    "2. Apakah fungsi dari pruning pada Tree model?\n",
    "\n",
    "    pruning pada tree model berguna untuk mengidentifikasikan dan membuang cabang yang tidak diperlukan pada pohon yang telah terbentuk. Hal ini dilakkukan untuk menghindari overfitting dan model terlalu memperhatikan detail dari data tetapi tidak mengenal secara general."
   ]
  },
  {
   "cell_type": "markdown",
   "metadata": {},
   "source": [
    "3. Bagaimana cara memilih K yang optimal pada KNN?\n",
    "\n",
    "    Sebenarnya pemilihan nilai k ini bersifat subjektif, tetapi lebih baik menggunakan jumlah yang ganjil agar voting yang dilakukan tidak seimbang dan mudah untuk menentukan hasil dari KNN itu sendiri. Jika masih bingung memiliki k dapat menggunakan gridsearch untuk parameter yang ditemukan (hyperparameter tunning)."
   ]
  },
  {
   "cell_type": "markdown",
   "metadata": {},
   "source": [
    "4. Jelaskan apa yang kalian ketahui tentang Cross Validation!\n",
    "\n",
    "    Cross validation (cv) merupakan metode yang digunakan untuk mavalidasi kinerja dari suatu model. Banyaknya validasi yang dilakukan sesuai dengan nilai k-fold yang disetting, misal menggunakan nilai k-fold=5 maka cv akan menvalidasi model sebanyak 5 kali dengan cara membagi-bagi data secara seimbang kedalam 5 fold. Hasil akhirnya dapat dilihat dari nilai rata-ratanya."
   ]
  },
  {
   "cell_type": "markdown",
   "metadata": {},
   "source": [
    "5. Jelaskan apa yang kalian ketahui tentang Accuracy, Precision, Recall, F1 Score!\n",
    "\n",
    "    - accuracy, merupakan nilai seberapa baik model dalam memprediksikan klasifikasi secara benar (prediksi dan aktual sama).akurasi ini dapat diperoleh dari nilai TP+TN/jumlah keseluruhan data.\n",
    "    - precision merupakan perbandingan antara True Positive (TP) dengan banyaknya data yang diprediksi positif. \n",
    "    - recall merupakan perbandingan antara True Positive (TP) dengan banyaknya data yang sebenarnya positif.\n",
    "    - f1-score merupakan hasil rata-rata dari precison dan recall yang dibobotkan. jika f1-Score mendekati 1 maka model klasifikasi kita punya precision dan recall yang baik."
   ]
  },
  {
   "cell_type": "markdown",
   "metadata": {},
   "source": [
    "# 8. Kesimpulan"
   ]
  },
  {
   "cell_type": "markdown",
   "metadata": {},
   "source": [
    "Diberikan dataset `credit card default` untuk melakukan prediksi klasifikasi dari default payment next month. Dataset ini teridri dari 24 kolom dan 2965 baris. Semua kolom bertipe numrik, tetapi ada beberpa jenis kolom yang bertipe numrik yang mewakilkan kategori.\n",
    "\n",
    "Dari heatmap diperoleh banyak fitur yang saling berkorelasi, oleh karena itu fitur hanya dipilih yang memiliki paling besar dengan target. Tujuan menghapus fitur yang saling berkorelasi untuk menghindari adanya overfit pada model yaitu model terlalu mempelajari detail data. Dalam dataset jumlah label 1 dan 0 memilki jumlah yang imbalance. dari hasil heatmap fitur pay_0 (pembayaran bulan september) yang memiliki pengaruh yang paling besar terhadap target.\n",
    "\n",
    "Sebelum data diprediksi terlebih dahulu memisahkan data sebagai data train (pembelajaran) dan data test (ujian). Setelah itu dilakukan scaling agar semua range data sama karena model yang digunakan berbasis perhitungan jarak.\n",
    "\n",
    "Telah dibuat 7 model klasifikasi yang berbeda dan hasil akurasi yang hampir sama.\n",
    "- Model Logistic regresion, untuk data train: 83% dan test: 82%.\n",
    "- Model SVM, untuk data train: 82% dan test: 81%.\n",
    "- Model Random Forest, untuk data train: 84% dan test: 82%\n",
    "- Model Decison Tree, untuk data train: 84% dan test: 82%\n",
    "- Model KNN, untuk data train: 84% dan test: 80%\n",
    "- Model Naive Bayes, untuk data train dan test: 83%\n",
    "- Model Adaboost, untuk data train: 84% dan test: 82%\n",
    "\n",
    "Dari hasil diatas, dapat disimpulkan bahwa model yang terbaik adalah naive bayes dengan akurasi 83%. Walaupun ada model yang memiliki akurasi yang lebih tinggi tetapi model tersebut masih overfitting terhadap train testnya sedangkan untuk naive bayes hasil train dan testnya sama. Hasil ini telah dilakukan validasi sebanyak 5 kali menggunkan cross validation.\n",
    "\n",
    "Untuk nilai f1-score, label 0 dari semua model memiliki nilai berkisar 0.89-0.91 karena memiliki banyak data sedangkan data label 0 memilii score yang masih rendah 0.22-0.50 karena kurangnya data yang tersedia. Sedangkan nilai f1-score weight avg (rata-rata) nilainya berkisar 0.80 dari keseluruhan model.\n",
    "\n",
    "Untuk setiap model juga dilakukan hyperparamter tuning yang berfungsi untuk melakukan improve pada akurasi model. Hasil ini dapat dilihat pada model Decison tree yang sebelum dilakukan hyperparameter tuning hanya memiliki akurasi 73% dan setelah mecapai 83%. Berarti menggunakan parameter yang tepat meningkatkan akurasi model hingga 10%.\n",
    "\n",
    "Dalam model Random forest terdapat perhitungan untuk mengukur feature importances dan hasil yang diperoleh fitur pay_amt_4 (pembayaran sebekumnya bulan juli) yang memiliki score tertinggi dalam membantu model membedakan apakah customer memiliki pembayaran default bulan selanjutnya.\n",
    "\n",
    "Setelah model ditraining dan dievaluasi model digunakan untuk data inferece atau data baru, dari setiap model telah berhasil memprediksi sesuai dengan nilai aktualnya adalah 17-18 dari 20 data.\n",
    "\n",
    "Secara keseluruhan model yang digunakan telah memiliki akurasi yang baik, untuk kedepannya mungkin lebih diperhatikan jumlah data setiap label atau mengatur datanya agar tidak imbalance."
   ]
  }
 ],
 "metadata": {
  "interpreter": {
   "hash": "a54bd86cef23b36acc3df4f8c80150d4c0f125cab32666339057296a4127bf9f"
  },
  "kernelspec": {
   "display_name": "Python 3.10.4",
   "language": "python",
   "name": "python3"
  },
  "language_info": {
   "codemirror_mode": {
    "name": "ipython",
    "version": 3
   },
   "file_extension": ".py",
   "mimetype": "text/x-python",
   "name": "python",
   "nbconvert_exporter": "python",
   "pygments_lexer": "ipython3",
   "version": "3.10.4"
  },
  "orig_nbformat": 4
 },
 "nbformat": 4,
 "nbformat_minor": 2
}
